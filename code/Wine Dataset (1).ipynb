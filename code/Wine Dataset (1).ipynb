{
 "cells": [
  {
   "cell_type": "code",
   "execution_count": null,
   "metadata": {},
   "outputs": [],
   "source": []
  },
  {
   "cell_type": "code",
   "execution_count": 1,
   "metadata": {},
   "outputs": [],
   "source": [
    "#import libraries\n",
    "import pandas as pd\n",
    "import numpy as np\n",
    "import matplotlib.pyplot as plt\n",
    "import os\n",
    "import seaborn as sns\n",
    "import statsmodels.api as sm"
   ]
  },
  {
   "cell_type": "code",
   "execution_count": 2,
   "metadata": {},
   "outputs": [],
   "source": [
    "#import dataset\n",
    "data = pd.read_csv('C:\\\\Users\\\\Lenovo\\\\.spyder-py3\\\\winequality-white.csv')\n",
    "X = data.iloc[:,0:-1]\n",
    "Y = data.iloc[:,11]"
   ]
  },
  {
   "cell_type": "code",
   "execution_count": 4,
   "metadata": {},
   "outputs": [
    {
     "data": {
      "text/html": [
       "<div>\n",
       "<style scoped>\n",
       "    .dataframe tbody tr th:only-of-type {\n",
       "        vertical-align: middle;\n",
       "    }\n",
       "\n",
       "    .dataframe tbody tr th {\n",
       "        vertical-align: top;\n",
       "    }\n",
       "\n",
       "    .dataframe thead th {\n",
       "        text-align: right;\n",
       "    }\n",
       "</style>\n",
       "<table border=\"1\" class=\"dataframe\">\n",
       "  <thead>\n",
       "    <tr style=\"text-align: right;\">\n",
       "      <th></th>\n",
       "      <th>fixed acidity</th>\n",
       "      <th>volatile acidity</th>\n",
       "      <th>citric acid</th>\n",
       "      <th>residual sugar</th>\n",
       "      <th>chlorides</th>\n",
       "      <th>free sulfur dioxide</th>\n",
       "      <th>total sulfur dioxide</th>\n",
       "      <th>density</th>\n",
       "      <th>pH</th>\n",
       "      <th>sulphates</th>\n",
       "      <th>alcohol</th>\n",
       "      <th>quality</th>\n",
       "    </tr>\n",
       "  </thead>\n",
       "  <tbody>\n",
       "    <tr>\n",
       "      <th>0</th>\n",
       "      <td>7.0</td>\n",
       "      <td>0.27</td>\n",
       "      <td>0.36</td>\n",
       "      <td>20.7</td>\n",
       "      <td>0.045</td>\n",
       "      <td>45.0</td>\n",
       "      <td>170.0</td>\n",
       "      <td>1.0010</td>\n",
       "      <td>3.00</td>\n",
       "      <td>0.45</td>\n",
       "      <td>8.8</td>\n",
       "      <td>6</td>\n",
       "    </tr>\n",
       "    <tr>\n",
       "      <th>1</th>\n",
       "      <td>6.3</td>\n",
       "      <td>0.30</td>\n",
       "      <td>0.34</td>\n",
       "      <td>1.6</td>\n",
       "      <td>0.049</td>\n",
       "      <td>14.0</td>\n",
       "      <td>132.0</td>\n",
       "      <td>0.9940</td>\n",
       "      <td>3.30</td>\n",
       "      <td>0.49</td>\n",
       "      <td>9.5</td>\n",
       "      <td>6</td>\n",
       "    </tr>\n",
       "    <tr>\n",
       "      <th>2</th>\n",
       "      <td>8.1</td>\n",
       "      <td>0.28</td>\n",
       "      <td>0.40</td>\n",
       "      <td>6.9</td>\n",
       "      <td>0.050</td>\n",
       "      <td>30.0</td>\n",
       "      <td>97.0</td>\n",
       "      <td>0.9951</td>\n",
       "      <td>3.26</td>\n",
       "      <td>0.44</td>\n",
       "      <td>10.1</td>\n",
       "      <td>6</td>\n",
       "    </tr>\n",
       "    <tr>\n",
       "      <th>3</th>\n",
       "      <td>7.2</td>\n",
       "      <td>0.23</td>\n",
       "      <td>0.32</td>\n",
       "      <td>8.5</td>\n",
       "      <td>0.058</td>\n",
       "      <td>47.0</td>\n",
       "      <td>186.0</td>\n",
       "      <td>0.9956</td>\n",
       "      <td>3.19</td>\n",
       "      <td>0.40</td>\n",
       "      <td>9.9</td>\n",
       "      <td>6</td>\n",
       "    </tr>\n",
       "    <tr>\n",
       "      <th>4</th>\n",
       "      <td>7.2</td>\n",
       "      <td>0.23</td>\n",
       "      <td>0.32</td>\n",
       "      <td>8.5</td>\n",
       "      <td>0.058</td>\n",
       "      <td>47.0</td>\n",
       "      <td>186.0</td>\n",
       "      <td>0.9956</td>\n",
       "      <td>3.19</td>\n",
       "      <td>0.40</td>\n",
       "      <td>9.9</td>\n",
       "      <td>6</td>\n",
       "    </tr>\n",
       "  </tbody>\n",
       "</table>\n",
       "</div>"
      ],
      "text/plain": [
       "   fixed acidity  volatile acidity  citric acid  residual sugar  chlorides  \\\n",
       "0            7.0              0.27         0.36            20.7      0.045   \n",
       "1            6.3              0.30         0.34             1.6      0.049   \n",
       "2            8.1              0.28         0.40             6.9      0.050   \n",
       "3            7.2              0.23         0.32             8.5      0.058   \n",
       "4            7.2              0.23         0.32             8.5      0.058   \n",
       "\n",
       "   free sulfur dioxide  total sulfur dioxide  density    pH  sulphates  \\\n",
       "0                 45.0                 170.0   1.0010  3.00       0.45   \n",
       "1                 14.0                 132.0   0.9940  3.30       0.49   \n",
       "2                 30.0                  97.0   0.9951  3.26       0.44   \n",
       "3                 47.0                 186.0   0.9956  3.19       0.40   \n",
       "4                 47.0                 186.0   0.9956  3.19       0.40   \n",
       "\n",
       "   alcohol  quality  \n",
       "0      8.8        6  \n",
       "1      9.5        6  \n",
       "2     10.1        6  \n",
       "3      9.9        6  \n",
       "4      9.9        6  "
      ]
     },
     "execution_count": 4,
     "metadata": {},
     "output_type": "execute_result"
    }
   ],
   "source": [
    "data.head(5)"
   ]
  },
  {
   "cell_type": "markdown",
   "metadata": {},
   "source": [
    "# Exploratory Data Analysis"
   ]
  },
  {
   "cell_type": "code",
   "execution_count": 5,
   "metadata": {},
   "outputs": [
    {
     "name": "stdout",
     "output_type": "stream",
     "text": [
      "<class 'pandas.core.frame.DataFrame'>\n",
      "RangeIndex: 4898 entries, 0 to 4897\n",
      "Data columns (total 12 columns):\n",
      "fixed acidity           4898 non-null float64\n",
      "volatile acidity        4898 non-null float64\n",
      "citric acid             4898 non-null float64\n",
      "residual sugar          4898 non-null float64\n",
      "chlorides               4898 non-null float64\n",
      "free sulfur dioxide     4898 non-null float64\n",
      "total sulfur dioxide    4898 non-null float64\n",
      "density                 4898 non-null float64\n",
      "pH                      4898 non-null float64\n",
      "sulphates               4898 non-null float64\n",
      "alcohol                 4898 non-null float64\n",
      "quality                 4898 non-null int64\n",
      "dtypes: float64(11), int64(1)\n",
      "memory usage: 459.3 KB\n"
     ]
    }
   ],
   "source": [
    "data.info()"
   ]
  },
  {
   "cell_type": "code",
   "execution_count": 6,
   "metadata": {
    "scrolled": true
   },
   "outputs": [
    {
     "data": {
      "text/html": [
       "<div>\n",
       "<style scoped>\n",
       "    .dataframe tbody tr th:only-of-type {\n",
       "        vertical-align: middle;\n",
       "    }\n",
       "\n",
       "    .dataframe tbody tr th {\n",
       "        vertical-align: top;\n",
       "    }\n",
       "\n",
       "    .dataframe thead th {\n",
       "        text-align: right;\n",
       "    }\n",
       "</style>\n",
       "<table border=\"1\" class=\"dataframe\">\n",
       "  <thead>\n",
       "    <tr style=\"text-align: right;\">\n",
       "      <th></th>\n",
       "      <th>fixed acidity</th>\n",
       "      <th>volatile acidity</th>\n",
       "      <th>citric acid</th>\n",
       "      <th>residual sugar</th>\n",
       "      <th>chlorides</th>\n",
       "      <th>free sulfur dioxide</th>\n",
       "      <th>total sulfur dioxide</th>\n",
       "      <th>density</th>\n",
       "      <th>pH</th>\n",
       "      <th>sulphates</th>\n",
       "      <th>alcohol</th>\n",
       "      <th>quality</th>\n",
       "    </tr>\n",
       "  </thead>\n",
       "  <tbody>\n",
       "    <tr>\n",
       "      <th>count</th>\n",
       "      <td>4898.000000</td>\n",
       "      <td>4898.000000</td>\n",
       "      <td>4898.000000</td>\n",
       "      <td>4898.000000</td>\n",
       "      <td>4898.000000</td>\n",
       "      <td>4898.000000</td>\n",
       "      <td>4898.000000</td>\n",
       "      <td>4898.000000</td>\n",
       "      <td>4898.000000</td>\n",
       "      <td>4898.000000</td>\n",
       "      <td>4898.000000</td>\n",
       "      <td>4898.000000</td>\n",
       "    </tr>\n",
       "    <tr>\n",
       "      <th>mean</th>\n",
       "      <td>6.854788</td>\n",
       "      <td>0.278241</td>\n",
       "      <td>0.334192</td>\n",
       "      <td>6.391415</td>\n",
       "      <td>0.045772</td>\n",
       "      <td>35.308085</td>\n",
       "      <td>138.360657</td>\n",
       "      <td>0.994027</td>\n",
       "      <td>3.188267</td>\n",
       "      <td>0.489847</td>\n",
       "      <td>10.514267</td>\n",
       "      <td>5.877909</td>\n",
       "    </tr>\n",
       "    <tr>\n",
       "      <th>std</th>\n",
       "      <td>0.843868</td>\n",
       "      <td>0.100795</td>\n",
       "      <td>0.121020</td>\n",
       "      <td>5.072058</td>\n",
       "      <td>0.021848</td>\n",
       "      <td>17.007137</td>\n",
       "      <td>42.498065</td>\n",
       "      <td>0.002991</td>\n",
       "      <td>0.151001</td>\n",
       "      <td>0.114126</td>\n",
       "      <td>1.230621</td>\n",
       "      <td>0.885639</td>\n",
       "    </tr>\n",
       "    <tr>\n",
       "      <th>min</th>\n",
       "      <td>3.800000</td>\n",
       "      <td>0.080000</td>\n",
       "      <td>0.000000</td>\n",
       "      <td>0.600000</td>\n",
       "      <td>0.009000</td>\n",
       "      <td>2.000000</td>\n",
       "      <td>9.000000</td>\n",
       "      <td>0.987110</td>\n",
       "      <td>2.720000</td>\n",
       "      <td>0.220000</td>\n",
       "      <td>8.000000</td>\n",
       "      <td>3.000000</td>\n",
       "    </tr>\n",
       "    <tr>\n",
       "      <th>25%</th>\n",
       "      <td>6.300000</td>\n",
       "      <td>0.210000</td>\n",
       "      <td>0.270000</td>\n",
       "      <td>1.700000</td>\n",
       "      <td>0.036000</td>\n",
       "      <td>23.000000</td>\n",
       "      <td>108.000000</td>\n",
       "      <td>0.991723</td>\n",
       "      <td>3.090000</td>\n",
       "      <td>0.410000</td>\n",
       "      <td>9.500000</td>\n",
       "      <td>5.000000</td>\n",
       "    </tr>\n",
       "    <tr>\n",
       "      <th>50%</th>\n",
       "      <td>6.800000</td>\n",
       "      <td>0.260000</td>\n",
       "      <td>0.320000</td>\n",
       "      <td>5.200000</td>\n",
       "      <td>0.043000</td>\n",
       "      <td>34.000000</td>\n",
       "      <td>134.000000</td>\n",
       "      <td>0.993740</td>\n",
       "      <td>3.180000</td>\n",
       "      <td>0.470000</td>\n",
       "      <td>10.400000</td>\n",
       "      <td>6.000000</td>\n",
       "    </tr>\n",
       "    <tr>\n",
       "      <th>75%</th>\n",
       "      <td>7.300000</td>\n",
       "      <td>0.320000</td>\n",
       "      <td>0.390000</td>\n",
       "      <td>9.900000</td>\n",
       "      <td>0.050000</td>\n",
       "      <td>46.000000</td>\n",
       "      <td>167.000000</td>\n",
       "      <td>0.996100</td>\n",
       "      <td>3.280000</td>\n",
       "      <td>0.550000</td>\n",
       "      <td>11.400000</td>\n",
       "      <td>6.000000</td>\n",
       "    </tr>\n",
       "    <tr>\n",
       "      <th>max</th>\n",
       "      <td>14.200000</td>\n",
       "      <td>1.100000</td>\n",
       "      <td>1.660000</td>\n",
       "      <td>65.800000</td>\n",
       "      <td>0.346000</td>\n",
       "      <td>289.000000</td>\n",
       "      <td>440.000000</td>\n",
       "      <td>1.038980</td>\n",
       "      <td>3.820000</td>\n",
       "      <td>1.080000</td>\n",
       "      <td>14.200000</td>\n",
       "      <td>9.000000</td>\n",
       "    </tr>\n",
       "  </tbody>\n",
       "</table>\n",
       "</div>"
      ],
      "text/plain": [
       "       fixed acidity  volatile acidity  citric acid  residual sugar  \\\n",
       "count    4898.000000       4898.000000  4898.000000     4898.000000   \n",
       "mean        6.854788          0.278241     0.334192        6.391415   \n",
       "std         0.843868          0.100795     0.121020        5.072058   \n",
       "min         3.800000          0.080000     0.000000        0.600000   \n",
       "25%         6.300000          0.210000     0.270000        1.700000   \n",
       "50%         6.800000          0.260000     0.320000        5.200000   \n",
       "75%         7.300000          0.320000     0.390000        9.900000   \n",
       "max        14.200000          1.100000     1.660000       65.800000   \n",
       "\n",
       "         chlorides  free sulfur dioxide  total sulfur dioxide      density  \\\n",
       "count  4898.000000          4898.000000           4898.000000  4898.000000   \n",
       "mean      0.045772            35.308085            138.360657     0.994027   \n",
       "std       0.021848            17.007137             42.498065     0.002991   \n",
       "min       0.009000             2.000000              9.000000     0.987110   \n",
       "25%       0.036000            23.000000            108.000000     0.991723   \n",
       "50%       0.043000            34.000000            134.000000     0.993740   \n",
       "75%       0.050000            46.000000            167.000000     0.996100   \n",
       "max       0.346000           289.000000            440.000000     1.038980   \n",
       "\n",
       "                pH    sulphates      alcohol      quality  \n",
       "count  4898.000000  4898.000000  4898.000000  4898.000000  \n",
       "mean      3.188267     0.489847    10.514267     5.877909  \n",
       "std       0.151001     0.114126     1.230621     0.885639  \n",
       "min       2.720000     0.220000     8.000000     3.000000  \n",
       "25%       3.090000     0.410000     9.500000     5.000000  \n",
       "50%       3.180000     0.470000    10.400000     6.000000  \n",
       "75%       3.280000     0.550000    11.400000     6.000000  \n",
       "max       3.820000     1.080000    14.200000     9.000000  "
      ]
     },
     "execution_count": 6,
     "metadata": {},
     "output_type": "execute_result"
    }
   ],
   "source": [
    "data.describe()"
   ]
  },
  {
   "cell_type": "code",
   "execution_count": 7,
   "metadata": {
    "scrolled": true
   },
   "outputs": [
    {
     "data": {
      "text/html": [
       "<div>\n",
       "<style scoped>\n",
       "    .dataframe tbody tr th:only-of-type {\n",
       "        vertical-align: middle;\n",
       "    }\n",
       "\n",
       "    .dataframe tbody tr th {\n",
       "        vertical-align: top;\n",
       "    }\n",
       "\n",
       "    .dataframe thead th {\n",
       "        text-align: right;\n",
       "    }\n",
       "</style>\n",
       "<table border=\"1\" class=\"dataframe\">\n",
       "  <thead>\n",
       "    <tr style=\"text-align: right;\">\n",
       "      <th></th>\n",
       "      <th>fixed acidity</th>\n",
       "      <th>volatile acidity</th>\n",
       "      <th>citric acid</th>\n",
       "      <th>residual sugar</th>\n",
       "      <th>chlorides</th>\n",
       "      <th>free sulfur dioxide</th>\n",
       "      <th>total sulfur dioxide</th>\n",
       "      <th>density</th>\n",
       "      <th>pH</th>\n",
       "      <th>sulphates</th>\n",
       "      <th>alcohol</th>\n",
       "      <th>quality</th>\n",
       "    </tr>\n",
       "  </thead>\n",
       "  <tbody>\n",
       "    <tr>\n",
       "      <th>fixed acidity</th>\n",
       "      <td>1.000000</td>\n",
       "      <td>-0.022697</td>\n",
       "      <td>0.289181</td>\n",
       "      <td>0.089021</td>\n",
       "      <td>0.023086</td>\n",
       "      <td>-0.049396</td>\n",
       "      <td>0.091070</td>\n",
       "      <td>0.265331</td>\n",
       "      <td>-0.425858</td>\n",
       "      <td>-0.017143</td>\n",
       "      <td>-0.120881</td>\n",
       "      <td>-0.113663</td>\n",
       "    </tr>\n",
       "    <tr>\n",
       "      <th>volatile acidity</th>\n",
       "      <td>-0.022697</td>\n",
       "      <td>1.000000</td>\n",
       "      <td>-0.149472</td>\n",
       "      <td>0.064286</td>\n",
       "      <td>0.070512</td>\n",
       "      <td>-0.097012</td>\n",
       "      <td>0.089261</td>\n",
       "      <td>0.027114</td>\n",
       "      <td>-0.031915</td>\n",
       "      <td>-0.035728</td>\n",
       "      <td>0.067718</td>\n",
       "      <td>-0.194723</td>\n",
       "    </tr>\n",
       "    <tr>\n",
       "      <th>citric acid</th>\n",
       "      <td>0.289181</td>\n",
       "      <td>-0.149472</td>\n",
       "      <td>1.000000</td>\n",
       "      <td>0.094212</td>\n",
       "      <td>0.114364</td>\n",
       "      <td>0.094077</td>\n",
       "      <td>0.121131</td>\n",
       "      <td>0.149503</td>\n",
       "      <td>-0.163748</td>\n",
       "      <td>0.062331</td>\n",
       "      <td>-0.075729</td>\n",
       "      <td>-0.009209</td>\n",
       "    </tr>\n",
       "    <tr>\n",
       "      <th>residual sugar</th>\n",
       "      <td>0.089021</td>\n",
       "      <td>0.064286</td>\n",
       "      <td>0.094212</td>\n",
       "      <td>1.000000</td>\n",
       "      <td>0.088685</td>\n",
       "      <td>0.299098</td>\n",
       "      <td>0.401439</td>\n",
       "      <td>0.838966</td>\n",
       "      <td>-0.194133</td>\n",
       "      <td>-0.026664</td>\n",
       "      <td>-0.450631</td>\n",
       "      <td>-0.097577</td>\n",
       "    </tr>\n",
       "    <tr>\n",
       "      <th>chlorides</th>\n",
       "      <td>0.023086</td>\n",
       "      <td>0.070512</td>\n",
       "      <td>0.114364</td>\n",
       "      <td>0.088685</td>\n",
       "      <td>1.000000</td>\n",
       "      <td>0.101392</td>\n",
       "      <td>0.198910</td>\n",
       "      <td>0.257211</td>\n",
       "      <td>-0.090439</td>\n",
       "      <td>0.016763</td>\n",
       "      <td>-0.360189</td>\n",
       "      <td>-0.209934</td>\n",
       "    </tr>\n",
       "    <tr>\n",
       "      <th>free sulfur dioxide</th>\n",
       "      <td>-0.049396</td>\n",
       "      <td>-0.097012</td>\n",
       "      <td>0.094077</td>\n",
       "      <td>0.299098</td>\n",
       "      <td>0.101392</td>\n",
       "      <td>1.000000</td>\n",
       "      <td>0.615501</td>\n",
       "      <td>0.294210</td>\n",
       "      <td>-0.000618</td>\n",
       "      <td>0.059217</td>\n",
       "      <td>-0.250104</td>\n",
       "      <td>0.008158</td>\n",
       "    </tr>\n",
       "    <tr>\n",
       "      <th>total sulfur dioxide</th>\n",
       "      <td>0.091070</td>\n",
       "      <td>0.089261</td>\n",
       "      <td>0.121131</td>\n",
       "      <td>0.401439</td>\n",
       "      <td>0.198910</td>\n",
       "      <td>0.615501</td>\n",
       "      <td>1.000000</td>\n",
       "      <td>0.529881</td>\n",
       "      <td>0.002321</td>\n",
       "      <td>0.134562</td>\n",
       "      <td>-0.448892</td>\n",
       "      <td>-0.174737</td>\n",
       "    </tr>\n",
       "    <tr>\n",
       "      <th>density</th>\n",
       "      <td>0.265331</td>\n",
       "      <td>0.027114</td>\n",
       "      <td>0.149503</td>\n",
       "      <td>0.838966</td>\n",
       "      <td>0.257211</td>\n",
       "      <td>0.294210</td>\n",
       "      <td>0.529881</td>\n",
       "      <td>1.000000</td>\n",
       "      <td>-0.093591</td>\n",
       "      <td>0.074493</td>\n",
       "      <td>-0.780138</td>\n",
       "      <td>-0.307123</td>\n",
       "    </tr>\n",
       "    <tr>\n",
       "      <th>pH</th>\n",
       "      <td>-0.425858</td>\n",
       "      <td>-0.031915</td>\n",
       "      <td>-0.163748</td>\n",
       "      <td>-0.194133</td>\n",
       "      <td>-0.090439</td>\n",
       "      <td>-0.000618</td>\n",
       "      <td>0.002321</td>\n",
       "      <td>-0.093591</td>\n",
       "      <td>1.000000</td>\n",
       "      <td>0.155951</td>\n",
       "      <td>0.121432</td>\n",
       "      <td>0.099427</td>\n",
       "    </tr>\n",
       "    <tr>\n",
       "      <th>sulphates</th>\n",
       "      <td>-0.017143</td>\n",
       "      <td>-0.035728</td>\n",
       "      <td>0.062331</td>\n",
       "      <td>-0.026664</td>\n",
       "      <td>0.016763</td>\n",
       "      <td>0.059217</td>\n",
       "      <td>0.134562</td>\n",
       "      <td>0.074493</td>\n",
       "      <td>0.155951</td>\n",
       "      <td>1.000000</td>\n",
       "      <td>-0.017433</td>\n",
       "      <td>0.053678</td>\n",
       "    </tr>\n",
       "    <tr>\n",
       "      <th>alcohol</th>\n",
       "      <td>-0.120881</td>\n",
       "      <td>0.067718</td>\n",
       "      <td>-0.075729</td>\n",
       "      <td>-0.450631</td>\n",
       "      <td>-0.360189</td>\n",
       "      <td>-0.250104</td>\n",
       "      <td>-0.448892</td>\n",
       "      <td>-0.780138</td>\n",
       "      <td>0.121432</td>\n",
       "      <td>-0.017433</td>\n",
       "      <td>1.000000</td>\n",
       "      <td>0.435575</td>\n",
       "    </tr>\n",
       "    <tr>\n",
       "      <th>quality</th>\n",
       "      <td>-0.113663</td>\n",
       "      <td>-0.194723</td>\n",
       "      <td>-0.009209</td>\n",
       "      <td>-0.097577</td>\n",
       "      <td>-0.209934</td>\n",
       "      <td>0.008158</td>\n",
       "      <td>-0.174737</td>\n",
       "      <td>-0.307123</td>\n",
       "      <td>0.099427</td>\n",
       "      <td>0.053678</td>\n",
       "      <td>0.435575</td>\n",
       "      <td>1.000000</td>\n",
       "    </tr>\n",
       "  </tbody>\n",
       "</table>\n",
       "</div>"
      ],
      "text/plain": [
       "                      fixed acidity  volatile acidity  citric acid  \\\n",
       "fixed acidity              1.000000         -0.022697     0.289181   \n",
       "volatile acidity          -0.022697          1.000000    -0.149472   \n",
       "citric acid                0.289181         -0.149472     1.000000   \n",
       "residual sugar             0.089021          0.064286     0.094212   \n",
       "chlorides                  0.023086          0.070512     0.114364   \n",
       "free sulfur dioxide       -0.049396         -0.097012     0.094077   \n",
       "total sulfur dioxide       0.091070          0.089261     0.121131   \n",
       "density                    0.265331          0.027114     0.149503   \n",
       "pH                        -0.425858         -0.031915    -0.163748   \n",
       "sulphates                 -0.017143         -0.035728     0.062331   \n",
       "alcohol                   -0.120881          0.067718    -0.075729   \n",
       "quality                   -0.113663         -0.194723    -0.009209   \n",
       "\n",
       "                      residual sugar  chlorides  free sulfur dioxide  \\\n",
       "fixed acidity               0.089021   0.023086            -0.049396   \n",
       "volatile acidity            0.064286   0.070512            -0.097012   \n",
       "citric acid                 0.094212   0.114364             0.094077   \n",
       "residual sugar              1.000000   0.088685             0.299098   \n",
       "chlorides                   0.088685   1.000000             0.101392   \n",
       "free sulfur dioxide         0.299098   0.101392             1.000000   \n",
       "total sulfur dioxide        0.401439   0.198910             0.615501   \n",
       "density                     0.838966   0.257211             0.294210   \n",
       "pH                         -0.194133  -0.090439            -0.000618   \n",
       "sulphates                  -0.026664   0.016763             0.059217   \n",
       "alcohol                    -0.450631  -0.360189            -0.250104   \n",
       "quality                    -0.097577  -0.209934             0.008158   \n",
       "\n",
       "                      total sulfur dioxide   density        pH  sulphates  \\\n",
       "fixed acidity                     0.091070  0.265331 -0.425858  -0.017143   \n",
       "volatile acidity                  0.089261  0.027114 -0.031915  -0.035728   \n",
       "citric acid                       0.121131  0.149503 -0.163748   0.062331   \n",
       "residual sugar                    0.401439  0.838966 -0.194133  -0.026664   \n",
       "chlorides                         0.198910  0.257211 -0.090439   0.016763   \n",
       "free sulfur dioxide               0.615501  0.294210 -0.000618   0.059217   \n",
       "total sulfur dioxide              1.000000  0.529881  0.002321   0.134562   \n",
       "density                           0.529881  1.000000 -0.093591   0.074493   \n",
       "pH                                0.002321 -0.093591  1.000000   0.155951   \n",
       "sulphates                         0.134562  0.074493  0.155951   1.000000   \n",
       "alcohol                          -0.448892 -0.780138  0.121432  -0.017433   \n",
       "quality                          -0.174737 -0.307123  0.099427   0.053678   \n",
       "\n",
       "                       alcohol   quality  \n",
       "fixed acidity        -0.120881 -0.113663  \n",
       "volatile acidity      0.067718 -0.194723  \n",
       "citric acid          -0.075729 -0.009209  \n",
       "residual sugar       -0.450631 -0.097577  \n",
       "chlorides            -0.360189 -0.209934  \n",
       "free sulfur dioxide  -0.250104  0.008158  \n",
       "total sulfur dioxide -0.448892 -0.174737  \n",
       "density              -0.780138 -0.307123  \n",
       "pH                    0.121432  0.099427  \n",
       "sulphates            -0.017433  0.053678  \n",
       "alcohol               1.000000  0.435575  \n",
       "quality               0.435575  1.000000  "
      ]
     },
     "execution_count": 7,
     "metadata": {},
     "output_type": "execute_result"
    }
   ],
   "source": [
    "data.corr()"
   ]
  },
  {
   "cell_type": "code",
   "execution_count": 8,
   "metadata": {},
   "outputs": [
    {
     "data": {
      "text/plain": [
       "3      20\n",
       "4     163\n",
       "5    1457\n",
       "6    2198\n",
       "7     880\n",
       "8     175\n",
       "9       5\n",
       "Name: quality, dtype: int64"
      ]
     },
     "execution_count": 8,
     "metadata": {},
     "output_type": "execute_result"
    }
   ],
   "source": [
    "data.quality.value_counts().sort_index()"
   ]
  },
  {
   "cell_type": "code",
   "execution_count": 9,
   "metadata": {},
   "outputs": [
    {
     "data": {
      "text/plain": [
       "<matplotlib.axes._subplots.AxesSubplot at 0x1edd1766630>"
      ]
     },
     "execution_count": 9,
     "metadata": {},
     "output_type": "execute_result"
    },
    {
     "data": {
      "image/png": "[encoded data removed]",
      "text/plain": [
       "<Figure size 432x288 with 1 Axes>"
      ]
     },
     "metadata": {
      "needs_background": "light"
     },
     "output_type": "display_data"
    }
   ],
   "source": [
    "sns.countplot(x='quality',data=data)"
   ]
  },
  {
   "cell_type": "code",
   "execution_count": 10,
   "metadata": {},
   "outputs": [
    {
     "data": {
      "text/plain": [
       "<matplotlib.axes._subplots.AxesSubplot at 0x1edd1a82438>"
      ]
     },
     "execution_count": 10,
     "metadata": {},
     "output_type": "execute_result"
    },
    {
     "data": {
      "image/png": "[encoded data removed]",
      "text/plain": [
       "<Figure size 1008x864 with 2 Axes>"
      ]
     },
     "metadata": {
      "needs_background": "light"
     },
     "output_type": "display_data"
    }
   ],
   "source": [
    "plt.figure(figsize=(14,12))\n",
    "sns.heatmap(data.corr(),annot=True)"
   ]
  },
  {
   "cell_type": "code",
   "execution_count": 11,
   "metadata": {},
   "outputs": [
    {
     "data": {
      "text/plain": [
       "quality                 1.000000\n",
       "alcohol                 0.435575\n",
       "pH                      0.099427\n",
       "sulphates               0.053678\n",
       "free sulfur dioxide     0.008158\n",
       "citric acid            -0.009209\n",
       "residual sugar         -0.097577\n",
       "fixed acidity          -0.113663\n",
       "total sulfur dioxide   -0.174737\n",
       "volatile acidity       -0.194723\n",
       "chlorides              -0.209934\n",
       "density                -0.307123\n",
       "Name: quality, dtype: float64"
      ]
     },
     "execution_count": 11,
     "metadata": {},
     "output_type": "execute_result"
    }
   ],
   "source": [
    "data.corr()['quality'].sort_values(ascending=False)"
   ]
  },
  {
   "cell_type": "code",
   "execution_count": 12,
   "metadata": {},
   "outputs": [
    {
     "data": {
      "text/plain": [
       "<matplotlib.axes._subplots.AxesSubplot at 0x1edd1ff97b8>"
      ]
     },
     "execution_count": 12,
     "metadata": {},
     "output_type": "execute_result"
    },
    {
     "data": {
      "image/png": "[encoded data removed]",
      "text/plain": [
       "<Figure size 432x288 with 1 Axes>"
      ]
     },
     "metadata": {
      "needs_background": "light"
     },
     "output_type": "display_data"
    }
   ],
   "source": [
    "sns.boxplot('quality','fixed acidity', data=data)"
   ]
  },
  {
   "cell_type": "code",
   "execution_count": 13,
   "metadata": {},
   "outputs": [
    {
     "data": {
      "text/plain": [
       "<matplotlib.axes._subplots.AxesSubplot at 0x1edd1ba8d30>"
      ]
     },
     "execution_count": 13,
     "metadata": {},
     "output_type": "execute_result"
    },
    {
     "data": {
      "image/png": "[encoded data removed]",
      "text/plain": [
       "<Figure size 432x288 with 1 Axes>"
      ]
     },
     "metadata": {
      "needs_background": "light"
     },
     "output_type": "display_data"
    }
   ],
   "source": [
    "sns.boxplot('quality','free sulfur dioxide', data=data)"
   ]
  },
  {
   "cell_type": "code",
   "execution_count": 14,
   "metadata": {},
   "outputs": [
    {
     "data": {
      "text/plain": [
       "<matplotlib.axes._subplots.AxesSubplot at 0x1edd1cb0e10>"
      ]
     },
     "execution_count": 14,
     "metadata": {},
     "output_type": "execute_result"
    },
    {
     "data": {
      "image/png": "[encoded data removed]",
      "text/plain": [
       "<Figure size 432x288 with 1 Axes>"
      ]
     },
     "metadata": {
      "needs_background": "light"
     },
     "output_type": "display_data"
    }
   ],
   "source": [
    "sns.violinplot('quality','volatile acidity', data=data)"
   ]
  },
  {
   "cell_type": "code",
   "execution_count": 15,
   "metadata": {},
   "outputs": [
    {
     "data": {
      "text/plain": [
       "<matplotlib.axes._subplots.AxesSubplot at 0x1edd1d36550>"
      ]
     },
     "execution_count": 15,
     "metadata": {},
     "output_type": "execute_result"
    },
    {
     "data": {
      "image/png": "[encoded data removed]",
      "text/plain": [
       "<Figure size 432x288 with 1 Axes>"
      ]
     },
     "metadata": {
      "needs_background": "light"
     },
     "output_type": "display_data"
    }
   ],
   "source": [
    "sns.violinplot('quality','total sulfur dioxide', data=data)"
   ]
  },
  {
   "cell_type": "code",
   "execution_count": 16,
   "metadata": {},
   "outputs": [
    {
     "data": {
      "text/plain": [
       "<matplotlib.axes._subplots.AxesSubplot at 0x1edd1dd0eb8>"
      ]
     },
     "execution_count": 16,
     "metadata": {},
     "output_type": "execute_result"
    },
    {
     "data": {
      "image/png": "[encoded data removed]",
      "text/plain": [
       "<Figure size 432x288 with 1 Axes>"
      ]
     },
     "metadata": {
      "needs_background": "light"
     },
     "output_type": "display_data"
    }
   ],
   "source": [
    "sns.boxplot('quality','alcohol', data=data)"
   ]
  },
  {
   "cell_type": "code",
   "execution_count": 17,
   "metadata": {},
   "outputs": [
    {
     "data": {
      "text/plain": [
       "<matplotlib.axes._subplots.AxesSubplot at 0x1edd1e586d8>"
      ]
     },
     "execution_count": 17,
     "metadata": {},
     "output_type": "execute_result"
    },
    {
     "data": {
      "image/png": "[encoded data removed]",
      "text/plain": [
       "<Figure size 432x288 with 1 Axes>"
      ]
     },
     "metadata": {
      "needs_background": "light"
     },
     "output_type": "display_data"
    }
   ],
   "source": [
    "sns.barplot('quality','citric acid', data=data)"
   ]
  },
  {
   "cell_type": "code",
   "execution_count": 18,
   "metadata": {},
   "outputs": [
    {
     "data": {
      "text/plain": [
       "<matplotlib.axes._subplots.AxesSubplot at 0x1edd2321780>"
      ]
     },
     "execution_count": 18,
     "metadata": {},
     "output_type": "execute_result"
    },
    {
     "data": {
      "image/png": "[encoded data removed]",
      "text/plain": [
       "<Figure size 432x288 with 1 Axes>"
      ]
     },
     "metadata": {
      "needs_background": "light"
     },
     "output_type": "display_data"
    }
   ],
   "source": [
    "sns.barplot('quality','density', data=data)"
   ]
  },
  {
   "cell_type": "code",
   "execution_count": 19,
   "metadata": {},
   "outputs": [
    {
     "data": {
      "text/plain": [
       "<matplotlib.axes._subplots.AxesSubplot at 0x1edd239ceb8>"
      ]
     },
     "execution_count": 19,
     "metadata": {},
     "output_type": "execute_result"
    },
    {
     "data": {
      "image/png": "[encoded data removed]",
      "text/plain": [
       "<Figure size 432x288 with 1 Axes>"
      ]
     },
     "metadata": {
      "needs_background": "light"
     },
     "output_type": "display_data"
    }
   ],
   "source": [
    "sns.swarmplot('quality','residual sugar', data=data)"
   ]
  },
  {
   "cell_type": "code",
   "execution_count": 20,
   "metadata": {},
   "outputs": [
    {
     "data": {
      "text/plain": [
       "<matplotlib.axes._subplots.AxesSubplot at 0x1edd33d9d30>"
      ]
     },
     "execution_count": 20,
     "metadata": {},
     "output_type": "execute_result"
    },
    {
     "data": {
      "image/png": "[encoded data removed]",
      "text/plain": [
       "<Figure size 432x288 with 1 Axes>"
      ]
     },
     "metadata": {
      "needs_background": "light"
     },
     "output_type": "display_data"
    }
   ],
   "source": [
    "sns.swarmplot('quality','pH', data=data)"
   ]
  },
  {
   "cell_type": "code",
   "execution_count": 21,
   "metadata": {},
   "outputs": [
    {
     "data": {
      "text/plain": [
       "<matplotlib.axes._subplots.AxesSubplot at 0x1edd4401a58>"
      ]
     },
     "execution_count": 21,
     "metadata": {},
     "output_type": "execute_result"
    },
    {
     "data": {
      "image/png": "[encoded data removed]",
      "text/plain": [
       "<Figure size 432x288 with 1 Axes>"
      ]
     },
     "metadata": {
      "needs_background": "light"
     },
     "output_type": "display_data"
    }
   ],
   "source": [
    "sns.violinplot('quality','chlorides', data=data)"
   ]
  },
  {
   "cell_type": "code",
   "execution_count": 22,
   "metadata": {},
   "outputs": [
    {
     "data": {
      "text/plain": [
       "<matplotlib.axes._subplots.AxesSubplot at 0x1edd44a2b00>"
      ]
     },
     "execution_count": 22,
     "metadata": {},
     "output_type": "execute_result"
    },
    {
     "data": {
      "image/png": "[encoded data removed]",
      "text/plain": [
       "<Figure size 432x288 with 1 Axes>"
      ]
     },
     "metadata": {
      "needs_background": "light"
     },
     "output_type": "display_data"
    }
   ],
   "source": [
    "sns.barplot('quality','sulphates', data=data)"
   ]
  },
  {
   "cell_type": "code",
   "execution_count": 23,
   "metadata": {},
   "outputs": [
    {
     "name": "stderr",
     "output_type": "stream",
     "text": [
      "D:\\Anaconda3\\lib\\site-packages\\seaborn\\axisgrid.py:1672: UserWarning: The `size` parameter has been renamed to `height`; pleaes update your code.\n",
      "  warnings.warn(msg, UserWarning)\n"
     ]
    },
    {
     "data": {
      "image/png": "[encoded data removed]",
      "text/plain": [
       "<Figure size 432x432 with 3 Axes>"
      ]
     },
     "metadata": {
      "needs_background": "light"
     },
     "output_type": "display_data"
    }
   ],
   "source": [
    "grid1=sns.JointGrid(x=\"fixed acidity\", y=\"pH\", data=data, size=6)\n",
    "grid1=grid1.plot_joint(sns.regplot, scatter_kws={\"s\": 10})\n",
    "grid1=grid1.plot_marginals(sns.distplot)"
   ]
  },
  {
   "cell_type": "code",
   "execution_count": 24,
   "metadata": {},
   "outputs": [
    {
     "name": "stderr",
     "output_type": "stream",
     "text": [
      "D:\\Anaconda3\\lib\\site-packages\\seaborn\\axisgrid.py:1672: UserWarning: The `size` parameter has been renamed to `height`; pleaes update your code.\n",
      "  warnings.warn(msg, UserWarning)\n"
     ]
    },
    {
     "data": {
      "image/png": "[encoded data removed]",
      "text/plain": [
       "<Figure size 432x432 with 3 Axes>"
      ]
     },
     "metadata": {
      "needs_background": "light"
     },
     "output_type": "display_data"
    }
   ],
   "source": [
    "grid1=sns.JointGrid(x=\"citric acid\", y=\"residual sugar\", data=data, size=6)\n",
    "grid1=grid1.plot_joint(sns.regplot, scatter_kws={\"s\": 10})\n",
    "grid1=grid1.plot_marginals(sns.distplot)"
   ]
  },
  {
   "cell_type": "markdown",
   "metadata": {},
   "source": [
    "# REGRESSION "
   ]
  },
  {
   "cell_type": "markdown",
   "metadata": {},
   "source": [
    "# LINEAR REGRESSION"
   ]
  },
  {
   "cell_type": "code",
   "execution_count": 25,
   "metadata": {},
   "outputs": [],
   "source": [
    "from sklearn.model_selection import train_test_split\n",
    "X_train, X_test, Y_train, Y_test = train_test_split(X, Y, test_size = 1/5, random_state=24, stratify=Y)"
   ]
  },
  {
   "cell_type": "code",
   "execution_count": 26,
   "metadata": {},
   "outputs": [
    {
     "name": "stdout",
     "output_type": "stream",
     "text": [
      "[5.57652703 6.11958671 5.28388808 6.11107265 5.48884444 5.38058469\n",
      " 5.25997029 4.68356515 6.29078092 5.51447282 6.70415039 5.46528733\n",
      " 6.30982473 4.62670357 6.32160597 5.75909581 6.70740707 6.22629264\n",
      " 6.82145679 5.06755243 6.01292699 6.47840096 6.60410269 6.02409905\n",
      " 5.18731836 5.61464463 5.58514894 5.89919036 6.37735316 5.73762147\n",
      " 5.54534098 5.89397434 5.57133655 6.07790032 5.62337632 5.31143307\n",
      " 5.15791575 6.60715147 5.80679105 6.25324656 6.098331   6.44771703\n",
      " 5.56570009 5.9373596  6.14345155 5.81741258 3.85568397 5.89417135\n",
      " 6.69946192 6.39650959 6.1727791  6.65969751 5.92731884 6.73297452\n",
      " 6.26012128 6.08482589 6.78619636 5.15573923 6.79509935 5.52650113\n",
      " 5.99542026 5.86387639 6.6224545  5.51893041 6.52668855 5.5523966\n",
      " 5.83837176 6.19887797 6.63750877 6.09668324 5.84742849 5.91888945\n",
      " 5.52436981 5.54177028 5.85211015 5.91434904 5.50753779 6.06158196\n",
      " 6.58273906 5.71360516 5.14102703 5.48309122 5.81846956 5.99511543\n",
      " 5.53755113 5.79840357 5.85559998 5.81921129 5.98877511 5.57525232\n",
      " 5.94512003 6.77052627 5.77676399 5.21497688 5.76310112 5.65284083\n",
      " 5.84289444 5.84201476 6.11842986 5.22882693 6.02171142 5.24018944\n",
      " 6.26633686 5.77055632 6.34144683 6.25163818 5.55181455 5.45117054\n",
      " 5.48916847 5.69764556 5.99567483 6.58376474 5.9663416  5.92547406\n",
      " 5.63754357 4.99476982 6.88539822 6.29611724 5.58370074 5.50669085\n",
      " 6.21239535 5.34691042 5.80427715 5.78266394 5.82475198 5.26297725\n",
      " 6.12133589 5.44097812 6.1797215  5.6426525  4.26568034 5.63585716\n",
      " 6.31767186 5.86912926 6.00321457 6.09226166 6.46248799 5.99585891\n",
      " 6.81782893 6.31266644 5.82359859 5.35316526 5.26184716 5.77371113\n",
      " 6.12182991 5.89896724 6.07961124 5.72094066 5.65206015 5.83346408\n",
      " 6.8108269  6.30095208 6.55215228 6.71366025 5.39082157 6.36355405\n",
      " 6.36578376 4.82060713 6.41241247 6.34851645 5.45441092 5.67694147\n",
      " 6.33473898 7.05075589 5.09844657 5.36462211 5.33415364 5.84421617\n",
      " 5.34927701 6.56513987 5.27851188 5.45084808 4.83428398 5.63585716\n",
      " 5.52988657 6.47172725 6.69170129 6.33470251 5.86525617 5.81044801\n",
      " 5.23564355 6.19401159 5.90286319 5.36557216 5.70986977 5.31903438\n",
      " 6.55282632 5.03471093 6.88600957 5.40773435 6.61568195 5.71520791\n",
      " 6.11809783 6.30943687 5.7258097  5.86933412 5.52964053 5.76718295\n",
      " 5.46982399 5.84410413 6.41108571 5.92284372 5.41728331 5.57469599\n",
      " 5.29581262 5.66905959 6.57764143 5.84777722 5.91813056 6.10481762\n",
      " 6.38347337 5.96222724 6.00384002 6.15636951 5.16630971 5.19911051\n",
      " 5.99981989 6.57765933 5.05154291 4.72948843 6.33693464 5.99027313\n",
      " 6.30964329 5.19528114 5.33714709 5.74543666 5.8653939  6.33502655\n",
      " 5.7467938  5.47653645 6.3195402  6.44043471 5.61401968 5.72541639\n",
      " 5.62759451 5.12491492 6.06166572 5.47452857 6.55621424 5.66419983\n",
      " 6.76939341 5.76144187 5.91480194 6.69213103 5.78310302 5.27935396\n",
      " 6.93113547 5.6344209  6.19716961 5.87922059 6.04520847 5.97116868\n",
      " 5.90148976 5.21514172 5.62911526 5.4828286  5.28331178 6.35154978\n",
      " 5.49229476 5.78732673 5.49685353 5.94854928 5.30527328 5.18673366\n",
      " 5.73278361 6.01228369 5.96454462 6.23765633 6.50635907 5.67639333\n",
      " 5.50718324 5.13241656 5.30220761 5.68766495 6.48657374 5.30529174\n",
      " 5.7729801  6.72671516 5.69908495 6.01021101 5.2292966  6.5918695\n",
      " 5.77716518 5.62328622 5.02360917 5.61789593 5.92383574 5.416534\n",
      " 5.46128185 5.76022065 6.75549667 6.56750302 6.859931   5.46587089\n",
      " 6.25086031 5.60835273 7.00434879 6.21564754 5.35742368 5.05183469\n",
      " 5.95876688 5.47914129 5.98192629 5.65614375 5.90173575 5.20551494\n",
      " 5.90328289 6.04713718 5.25971228 5.67358051 5.51893041 5.45000944\n",
      " 5.58209811 6.75136671 6.45739506 6.31236701 5.37816763 5.47807305\n",
      " 6.10620926 5.07005875 6.37463589 4.99771123 5.63202019 6.14352995\n",
      " 6.31514896 5.919129   5.80803579 5.8235561  5.8382642  6.3336564\n",
      " 5.97698012 5.2859514  6.38141408 6.10617267 5.51447282 5.71456853\n",
      " 6.69626595 5.57442478 5.58191037 5.4989501  5.33327769 6.12866343\n",
      " 5.67169889 5.97016634 5.47520058 6.46434651 6.10422615 5.07837901\n",
      " 6.36766007 5.79333655 6.15589132 5.78336597 6.01756088 6.00519862\n",
      " 5.70530927 5.8729164  4.79086701 5.64436253 6.5172289  5.44295577\n",
      " 5.82861675 6.22326075 5.33147229 5.86074331 6.48662786 5.42919698\n",
      " 6.54328793 5.470907   6.14352995 5.27561009 5.18044095 5.26791361\n",
      " 5.31095331 6.47867182 5.83549566 5.9478918  5.7980548  5.62317462\n",
      " 6.20057051 6.30943687 6.11407991 4.72510033 6.32763604 5.94561233\n",
      " 5.03455024 5.50833555 5.26360969 5.59009791 5.5835762  5.81507878\n",
      " 6.38729151 5.45729191 5.84479362 5.27982141 6.36100345 5.46899394\n",
      " 6.5014678  5.31306518 5.70765131 5.36972286 6.52604296 5.4895392\n",
      " 5.83800805 5.43322491 5.06376898 6.52648318 5.66005125 5.95188366\n",
      " 5.45392709 6.07236571 6.89778559 5.62317462 6.50616036 6.17400243\n",
      " 5.44320786 5.77343891 6.56833498 6.29431214 5.78291663 5.63902328\n",
      " 6.38572566 5.98564019 5.83881384 5.39056498 5.48050339 6.23654668\n",
      " 5.83447782 5.63331137 5.99541161 5.62505194 6.17270013 6.42420602\n",
      " 5.57443416 5.65438405 5.6662264  6.09143232 5.70576273 5.99969262\n",
      " 6.83697256 5.86370978 5.89595897 6.31801334 5.73476202 5.87137491\n",
      " 6.33726375 5.99501954 5.49229476 5.68164011 6.04790908 5.56651662\n",
      " 6.01502708 6.77836963 5.52783636 6.8936479  6.10962236 5.64230256\n",
      " 5.95895872 5.76693249 6.00422875 5.42686973 5.92707692 6.43832499\n",
      " 5.67042939 5.51288679 5.87636722 5.84226729 5.53279894 6.26929866\n",
      " 5.68205179 5.62328622 5.94586592 6.49157885 5.96243798 6.09084744\n",
      " 5.46219393 6.09205305 6.27121349 5.89647389 5.66175415 5.24063361\n",
      " 5.78707336 5.26297725 6.42531815 5.8918593  5.72119629 5.91365398\n",
      " 6.56533747 5.17533538 5.38744554 6.24649718 5.80437688 6.28880939\n",
      " 6.07272275 5.41814649 5.29870608 5.98262985 6.24334666 6.79144991\n",
      " 5.40139565 5.8740362  5.59048133 5.88700989 5.48339771 6.10498985\n",
      " 6.36369863 4.84722855 5.75025838 5.92055763 5.54658302 5.71645563\n",
      " 5.47951185 5.90817208 5.15271016 6.08430238 6.85146862 5.37303171\n",
      " 6.26615748 5.61423788 5.54183485 5.69231858 5.98086906 6.10642039\n",
      " 6.41539953 5.92522481 5.84700392 5.79637571 6.31454245 5.41586291\n",
      " 6.14082472 5.95128169 4.96049461 5.12470772 5.84628855 5.25135871\n",
      " 5.58209811 5.45706664 5.99265376 6.06491568 5.89898729 5.33261783\n",
      " 6.02644874 5.62822496 5.63159792 6.05034198 6.30769931 5.75239995\n",
      " 5.10163561 6.82689668 6.26128043 5.71247433 6.02348356 5.78124613\n",
      " 6.14469244 5.88655465 5.74211103 5.92707692 6.01228369 5.22533958\n",
      " 5.30773514 5.26438023 5.49429533 5.79237106 5.970748   6.18090404\n",
      " 6.07961124 6.1253668  4.92819433 5.12153653 6.03344463 5.93841412\n",
      " 5.77876623 6.09695004 5.60923753 5.67423506 5.66177772 5.70923215\n",
      " 6.09045854 5.46719463 5.4905302  6.06337533 5.482488   5.90918946\n",
      " 4.3951415  5.2498015  6.34556519 6.48657374 6.204232   5.26451501\n",
      " 5.73094328 5.76170142 5.43930586 6.21771757 6.40519219 6.43620652\n",
      " 6.35222776 6.08349274 6.5311023  5.87363452 5.69089986 5.85559998\n",
      " 6.11330569 6.42686845 5.83239409 5.17911664 6.17722697 5.1449765\n",
      " 6.31170408 4.59397367 5.171898   6.20041569 6.34851645 4.83016232\n",
      " 6.64527588 5.64125319 6.3090264  5.43559219 5.59886539 5.47771751\n",
      " 6.11865154 5.19420656 5.99324772 5.46456877 5.88826486 5.7794107\n",
      " 5.58569212 5.96771792 5.9510435  6.1532062  6.31572088 5.76199777\n",
      " 5.63351147 5.35173198 5.72502844 5.46433335 6.00468324 5.8232345\n",
      " 6.22938734 6.00379985 5.61464463 6.20627729 5.85694734 5.77029022\n",
      " 6.45739506 6.5508316  5.17822111 6.29078092 5.8348349  4.98134161\n",
      " 4.81783715 5.93541979 5.95039897 5.58963877 6.56530014 7.02387493\n",
      " 5.19574173 5.4543346  5.65235907 6.49220844 6.69121089 5.79334025\n",
      " 5.49470379 5.44952426 5.16336901 5.46359591 5.774736   6.03204241\n",
      " 5.70407591 5.16864738 6.45602085 5.70325265 5.77461917 5.57726923\n",
      " 6.46092519 5.64095981 5.82952171 6.31202058 5.73247145 5.74472081\n",
      " 6.10484087 5.26296617 6.25184977 5.73076873 6.27174714 5.77763195\n",
      " 6.52915796 5.99541161 6.37807487 5.69550088 6.75741713 6.29940521\n",
      " 5.45294947 5.79695846 5.89663764 5.78490237 5.86104352 6.13999875\n",
      " 5.81884548 6.16769923 6.99024566 6.53067797 5.6469078  5.64456916\n",
      " 6.28664885 6.01756088 5.37728988 5.20232796 6.09539279 5.59616591\n",
      " 6.83858068 6.46596227 6.27299524 4.90819565 5.27851188 5.53847824\n",
      " 6.13617054 5.82994891 5.60472923 5.37487696 6.69097314 6.25350814\n",
      " 5.88179057 5.18953296 5.64691133 4.74993393 5.40869999 4.14747583\n",
      " 5.33074783 6.66571372 5.16096524 6.21992855 6.22714478 5.1005889\n",
      " 6.3676349  5.41503214 5.71639796 5.70791615 5.54873624 6.08482589\n",
      " 5.67287    6.23540014 6.6237713  5.82554312 5.39011189 6.09445601\n",
      " 7.00899862 5.86229788 5.54644685 6.49427645 5.62381022 6.02280805\n",
      " 5.18316447 5.40723914 6.01977706 5.97636727 5.29371189 7.00434879\n",
      " 5.45058834 6.54169517 6.30769931 6.13456595 5.71849811 5.41548593\n",
      " 6.110295   5.43292626 5.60205723 5.84333396 5.83426131 5.77679086\n",
      " 5.88999529 6.61389487 6.29625768 5.38814647 6.3089183  6.20401466\n",
      " 5.47074389 5.94570388 5.56196616 5.81393327 6.31953301 6.50866047\n",
      " 5.54800147 6.04798296 5.69908495 5.31739902 5.98749213 4.71887232\n",
      " 6.34625277 5.74698714 5.83961374 5.66419983 5.9895098  5.6657344\n",
      " 5.60894901 5.90737182 5.53900757 6.09726687 6.1583472  5.53387487\n",
      " 5.821446   6.26209089 5.86719719 5.39707649 5.6726748  5.25202857\n",
      " 5.5838024  5.37500984 5.7706306  6.06403164 5.37576148 6.1628879\n",
      " 5.14554935 5.31160193 6.50621154 5.80704699 6.10063348 6.86914509\n",
      " 5.33813119 5.37743569 6.35198754 5.52228766 5.59120336 6.4603853\n",
      " 6.08576508 6.69574393 6.52668855 6.11619491 5.5818027  6.68664977\n",
      " 5.45370049 6.16992511 6.25281875 5.47837037 5.76252722 6.47258872\n",
      " 6.12088314 5.90954644 6.2533138  6.47539862 6.6531884  5.91086739\n",
      " 5.61040018 5.54126242 6.11028518 5.52788    6.0432246  5.61100647\n",
      " 5.7071105  6.27618344 5.62328622 5.47451307 5.56927688 6.53466423\n",
      " 6.51490646 6.02383915 5.98877511 6.05849418 6.21915992 4.85043766\n",
      " 5.94596335 6.26147137 5.04207453 6.73321077 6.12201987 5.80799472\n",
      " 5.32055408 5.5477471  5.96990825 5.4109881  5.44320786 6.44663047\n",
      " 5.71149484 6.397775   6.36013495 5.8543834  5.71525168 6.33749774\n",
      " 5.45441092 4.7156282  5.34174973 6.44520532 5.1020858  6.32013319\n",
      " 5.51921749 6.20651601 5.19734503 6.74805268 6.55182318 6.11330569\n",
      " 5.33327769 5.45209284 6.73686294 6.52168313 5.53640103 6.14250398\n",
      " 6.68468486 5.28948497 5.61300193 4.90685653 6.23631879 6.1253668\n",
      " 5.71852558 5.80342036 5.79237106 5.72719901 6.35836441 4.77194411\n",
      " 5.75325489 5.74836269 5.41947339 6.02048014 4.95649634 6.30154174\n",
      " 5.85989387 5.06755243 5.66218486 4.67973441 6.26430186 5.54888322\n",
      " 5.06030619 6.49683393 6.41554541 5.78219324 6.65977421 6.37154712\n",
      " 6.34216713 5.79072333 5.72045287 5.69894415 6.41700969 5.68336708\n",
      " 5.31768739 6.05034198 5.85347696 6.13562404 6.8936479  6.79015857\n",
      " 6.92906468 5.54779718 5.73843246 5.60698446 6.52357727 5.76144187\n",
      " 5.07599532 5.29315637 5.24908549 5.52270941 5.20099071 5.92639582\n",
      " 5.75621998 6.45224312 6.18760692 6.37144331 6.562095   5.48855246\n",
      " 5.51896471 6.56323286 6.60410269 5.84604453 5.88514311 6.59746963\n",
      " 5.49561489 6.72918559 5.14493068 6.01009273 5.63775008 5.76455839\n",
      " 5.61040018 5.76523785 5.68391965 5.98424979 6.84316681 6.14618478\n",
      " 5.20014942 6.37985936 6.28898493 5.93102017 6.14238742 5.9426536\n",
      " 5.30038732 5.79695846] 736     6\n",
      "4539    5\n",
      "382     6\n",
      "3565    6\n",
      "2689    6\n",
      "2886    5\n",
      "3964    5\n",
      "3563    5\n",
      "4750    5\n",
      "4116    6\n",
      "3513    6\n",
      "3950    5\n",
      "1414    6\n",
      "1152    4\n",
      "2909    6\n",
      "2063    5\n",
      "2652    7\n",
      "3604    6\n",
      "4553    6\n",
      "4095    6\n",
      "2218    6\n",
      "2657    7\n",
      "2299    7\n",
      "422     6\n",
      "4831    6\n",
      "430     5\n",
      "1270    7\n",
      "4513    6\n",
      "4608    7\n",
      "4708    6\n",
      "       ..\n",
      "3562    6\n",
      "2927    7\n",
      "4642    7\n",
      "1717    6\n",
      "2361    5\n",
      "2813    7\n",
      "2294    7\n",
      "4400    5\n",
      "3921    5\n",
      "2320    6\n",
      "693     5\n",
      "3421    8\n",
      "3571    4\n",
      "632     6\n",
      "3374    5\n",
      "3444    5\n",
      "290     7\n",
      "293     7\n",
      "1946    6\n",
      "3913    6\n",
      "3007    7\n",
      "3986    6\n",
      "3097    5\n",
      "4840    7\n",
      "528     6\n",
      "4321    6\n",
      "4868    6\n",
      "1609    7\n",
      "202     5\n",
      "1337    5\n",
      "Name: quality, Length: 980, dtype: int64\n"
     ]
    }
   ],
   "source": [
    "from sklearn.linear_model import LinearRegression\n",
    "LR = LinearRegression()\n",
    "LR.fit(X_train,Y_train)\n",
    "Y_pred=LR.predict(X_test)\n",
    "print (Y_pred,Y_test)"
   ]
  },
  {
   "cell_type": "markdown",
   "metadata": {},
   "source": [
    "train_pred = LR.predict(X_train)\n",
    "print(train_pred)"
   ]
  },
  {
   "cell_type": "code",
   "execution_count": 27,
   "metadata": {},
   "outputs": [],
   "source": [
    "test_pred = LR.predict(X_test) "
   ]
  },
  {
   "cell_type": "code",
   "execution_count": 28,
   "metadata": {},
   "outputs": [],
   "source": [
    "from sklearn.metrics import mean_squared_error, r2_score, mean_absolute_error, confusion_matrix, accuracy_score, precision_score, recall_score, f1_score, roc_curve, roc_auc_score, classification_report"
   ]
  },
  {
   "cell_type": "markdown",
   "metadata": {},
   "source": [
    "train_rmse = mean_squared_error(train_pred, Y_train) ** 0.5\n",
    "print(train_rmse)\n",
    "test_rmse = mean_squared_error(test_pred, Y_test) ** 0.5\n",
    "print(test_rmse)"
   ]
  },
  {
   "cell_type": "code",
   "execution_count": 29,
   "metadata": {},
   "outputs": [
    {
     "name": "stdout",
     "output_type": "stream",
     "text": [
      "Mean Absolute Error: 0.5917594804437557\n",
      "Mean Squared Error: 0.5838322667621332\n",
      "Root Mean Squared Error: 0.7640891746138884\n",
      "R-Square:  0.25627054727510523\n",
      "Intercept:  141.72525175817438\n",
      "Coefficients:  [ 5.43988106e-02 -1.92286593e+00  1.19871605e-02  7.90863214e-02\n",
      " -2.56959953e-01  3.38289756e-03 -3.37872254e-04 -1.41904663e+02\n",
      "  7.30171721e-01  6.41733903e-01  2.04974163e-01]\n"
     ]
    }
   ],
   "source": [
    "print('Mean Absolute Error:', mean_absolute_error(Y_test, test_pred))\n",
    "print('Mean Squared Error:', mean_squared_error(Y_test, test_pred))\n",
    "print('Root Mean Squared Error:', np.sqrt(mean_squared_error(Y_test, test_pred)))\n",
    "print('R-Square: ',r2_score(Y_test, Y_pred))\n",
    "print('Intercept: ',LR.intercept_ )\n",
    "print('Coefficients: ',LR.coef_ )"
   ]
  },
  {
   "cell_type": "markdown",
   "metadata": {},
   "source": [
    "FEATURE SELECTION By BACKWARD ELIMINATION"
   ]
  },
  {
   "cell_type": "code",
   "execution_count": 30,
   "metadata": {
    "scrolled": true
   },
   "outputs": [
    {
     "name": "stderr",
     "output_type": "stream",
     "text": [
      "D:\\Anaconda3\\lib\\site-packages\\numpy\\core\\fromnumeric.py:2389: FutureWarning: Method .ptp is deprecated and will be removed in a future version. Use numpy.ptp instead.\n",
      "  return ptp(axis=axis, out=out, **kwargs)\n"
     ]
    },
    {
     "data": {
      "text/html": [
       "<table class=\"simpletable\">\n",
       "<caption>OLS Regression Results</caption>\n",
       "<tr>\n",
       "  <th>Dep. Variable:</th>         <td>quality</td>     <th>  R-squared:         </th> <td>   0.282</td> \n",
       "</tr>\n",
       "<tr>\n",
       "  <th>Model:</th>                   <td>OLS</td>       <th>  Adj. R-squared:    </th> <td>   0.280</td> \n",
       "</tr>\n",
       "<tr>\n",
       "  <th>Method:</th>             <td>Least Squares</td>  <th>  F-statistic:       </th> <td>   174.3</td> \n",
       "</tr>\n",
       "<tr>\n",
       "  <th>Date:</th>             <td>Sat, 30 Nov 2019</td> <th>  Prob (F-statistic):</th>  <td>  0.00</td>  \n",
       "</tr>\n",
       "<tr>\n",
       "  <th>Time:</th>                 <td>22:04:44</td>     <th>  Log-Likelihood:    </th> <td> -5543.7</td> \n",
       "</tr>\n",
       "<tr>\n",
       "  <th>No. Observations:</th>      <td>  4898</td>      <th>  AIC:               </th> <td>1.111e+04</td>\n",
       "</tr>\n",
       "<tr>\n",
       "  <th>Df Residuals:</th>          <td>  4886</td>      <th>  BIC:               </th> <td>1.119e+04</td>\n",
       "</tr>\n",
       "<tr>\n",
       "  <th>Df Model:</th>              <td>    11</td>      <th>                     </th>     <td> </td>    \n",
       "</tr>\n",
       "<tr>\n",
       "  <th>Covariance Type:</th>      <td>nonrobust</td>    <th>                     </th>     <td> </td>    \n",
       "</tr>\n",
       "</table>\n",
       "<table class=\"simpletable\">\n",
       "<tr>\n",
       "            <td></td>              <th>coef</th>     <th>std err</th>      <th>t</th>      <th>P>|t|</th>  <th>[0.025</th>    <th>0.975]</th>  \n",
       "</tr>\n",
       "<tr>\n",
       "  <th>const</th>                <td>  150.1928</td> <td>   18.804</td> <td>    7.987</td> <td> 0.000</td> <td>  113.328</td> <td>  187.057</td>\n",
       "</tr>\n",
       "<tr>\n",
       "  <th>fixed acidity</th>        <td>    0.0655</td> <td>    0.021</td> <td>    3.139</td> <td> 0.002</td> <td>    0.025</td> <td>    0.106</td>\n",
       "</tr>\n",
       "<tr>\n",
       "  <th>volatile acidity</th>     <td>   -1.8632</td> <td>    0.114</td> <td>  -16.373</td> <td> 0.000</td> <td>   -2.086</td> <td>   -1.640</td>\n",
       "</tr>\n",
       "<tr>\n",
       "  <th>citric acid</th>          <td>    0.0221</td> <td>    0.096</td> <td>    0.231</td> <td> 0.818</td> <td>   -0.166</td> <td>    0.210</td>\n",
       "</tr>\n",
       "<tr>\n",
       "  <th>residual sugar</th>       <td>    0.0815</td> <td>    0.008</td> <td>   10.825</td> <td> 0.000</td> <td>    0.067</td> <td>    0.096</td>\n",
       "</tr>\n",
       "<tr>\n",
       "  <th>chlorides</th>            <td>   -0.2473</td> <td>    0.547</td> <td>   -0.452</td> <td> 0.651</td> <td>   -1.319</td> <td>    0.824</td>\n",
       "</tr>\n",
       "<tr>\n",
       "  <th>free sulfur dioxide</th>  <td>    0.0037</td> <td>    0.001</td> <td>    4.422</td> <td> 0.000</td> <td>    0.002</td> <td>    0.005</td>\n",
       "</tr>\n",
       "<tr>\n",
       "  <th>total sulfur dioxide</th> <td>   -0.0003</td> <td>    0.000</td> <td>   -0.756</td> <td> 0.450</td> <td>   -0.001</td> <td>    0.000</td>\n",
       "</tr>\n",
       "<tr>\n",
       "  <th>density</th>              <td> -150.2842</td> <td>   19.075</td> <td>   -7.879</td> <td> 0.000</td> <td> -187.679</td> <td> -112.890</td>\n",
       "</tr>\n",
       "<tr>\n",
       "  <th>pH</th>                   <td>    0.6863</td> <td>    0.105</td> <td>    6.513</td> <td> 0.000</td> <td>    0.480</td> <td>    0.893</td>\n",
       "</tr>\n",
       "<tr>\n",
       "  <th>sulphates</th>            <td>    0.6315</td> <td>    0.100</td> <td>    6.291</td> <td> 0.000</td> <td>    0.435</td> <td>    0.828</td>\n",
       "</tr>\n",
       "<tr>\n",
       "  <th>alcohol</th>              <td>    0.1935</td> <td>    0.024</td> <td>    7.988</td> <td> 0.000</td> <td>    0.146</td> <td>    0.241</td>\n",
       "</tr>\n",
       "</table>\n",
       "<table class=\"simpletable\">\n",
       "<tr>\n",
       "  <th>Omnibus:</th>       <td>114.161</td> <th>  Durbin-Watson:     </th> <td>   1.621</td>\n",
       "</tr>\n",
       "<tr>\n",
       "  <th>Prob(Omnibus):</th> <td> 0.000</td>  <th>  Jarque-Bera (JB):  </th> <td> 251.637</td>\n",
       "</tr>\n",
       "<tr>\n",
       "  <th>Skew:</th>          <td> 0.073</td>  <th>  Prob(JB):          </th> <td>2.28e-55</td>\n",
       "</tr>\n",
       "<tr>\n",
       "  <th>Kurtosis:</th>      <td> 4.101</td>  <th>  Cond. No.          </th> <td>3.74e+05</td>\n",
       "</tr>\n",
       "</table><br/><br/>Warnings:<br/>[1] Standard Errors assume that the covariance matrix of the errors is correctly specified.<br/>[2] The condition number is large, 3.74e+05. This might indicate that there are<br/>strong multicollinearity or other numerical problems."
      ],
      "text/plain": [
       "<class 'statsmodels.iolib.summary.Summary'>\n",
       "\"\"\"\n",
       "                            OLS Regression Results                            \n",
       "==============================================================================\n",
       "Dep. Variable:                quality   R-squared:                       0.282\n",
       "Model:                            OLS   Adj. R-squared:                  0.280\n",
       "Method:                 Least Squares   F-statistic:                     174.3\n",
       "Date:                Sat, 30 Nov 2019   Prob (F-statistic):               0.00\n",
       "Time:                        22:04:44   Log-Likelihood:                -5543.7\n",
       "No. Observations:                4898   AIC:                         1.111e+04\n",
       "Df Residuals:                    4886   BIC:                         1.119e+04\n",
       "Df Model:                          11                                         \n",
       "Covariance Type:            nonrobust                                         \n",
       "========================================================================================\n",
       "                           coef    std err          t      P>|t|      [0.025      0.975]\n",
       "----------------------------------------------------------------------------------------\n",
       "const                  150.1928     18.804      7.987      0.000     113.328     187.057\n",
       "fixed acidity            0.0655      0.021      3.139      0.002       0.025       0.106\n",
       "volatile acidity        -1.8632      0.114    -16.373      0.000      -2.086      -1.640\n",
       "citric acid              0.0221      0.096      0.231      0.818      -0.166       0.210\n",
       "residual sugar           0.0815      0.008     10.825      0.000       0.067       0.096\n",
       "chlorides               -0.2473      0.547     -0.452      0.651      -1.319       0.824\n",
       "free sulfur dioxide      0.0037      0.001      4.422      0.000       0.002       0.005\n",
       "total sulfur dioxide    -0.0003      0.000     -0.756      0.450      -0.001       0.000\n",
       "density               -150.2842     19.075     -7.879      0.000    -187.679    -112.890\n",
       "pH                       0.6863      0.105      6.513      0.000       0.480       0.893\n",
       "sulphates                0.6315      0.100      6.291      0.000       0.435       0.828\n",
       "alcohol                  0.1935      0.024      7.988      0.000       0.146       0.241\n",
       "==============================================================================\n",
       "Omnibus:                      114.161   Durbin-Watson:                   1.621\n",
       "Prob(Omnibus):                  0.000   Jarque-Bera (JB):              251.637\n",
       "Skew:                           0.073   Prob(JB):                     2.28e-55\n",
       "Kurtosis:                       4.101   Cond. No.                     3.74e+05\n",
       "==============================================================================\n",
       "\n",
       "Warnings:\n",
       "[1] Standard Errors assume that the covariance matrix of the errors is correctly specified.\n",
       "[2] The condition number is large, 3.74e+05. This might indicate that there are\n",
       "strong multicollinearity or other numerical problems.\n",
       "\"\"\""
      ]
     },
     "execution_count": 30,
     "metadata": {},
     "output_type": "execute_result"
    }
   ],
   "source": [
    "X_ols=X\n",
    "X_ols= sm.add_constant(X_ols)\n",
    "anova = sm.OLS(Y, X_ols).fit()\n",
    "anova.summary()"
   ]
  },
  {
   "cell_type": "code",
   "execution_count": 31,
   "metadata": {},
   "outputs": [
    {
     "data": {
      "text/plain": [
       "const                   150.192842\n",
       "fixed acidity             0.065520\n",
       "volatile acidity         -1.863177\n",
       "citric acid               0.022090\n",
       "residual sugar            0.081483\n",
       "chlorides                -0.247277\n",
       "free sulfur dioxide       0.003733\n",
       "total sulfur dioxide     -0.000286\n",
       "density                -150.284181\n",
       "pH                        0.686344\n",
       "sulphates                 0.631476\n",
       "alcohol                   0.193476\n",
       "dtype: float64"
      ]
     },
     "execution_count": 31,
     "metadata": {},
     "output_type": "execute_result"
    }
   ],
   "source": [
    "X_opt = X_ols\n",
    "result = sm.OLS (Y,X_opt).fit()\n",
    "result.params "
   ]
  },
  {
   "cell_type": "code",
   "execution_count": 32,
   "metadata": {},
   "outputs": [
    {
     "data": {
      "text/plain": [
       "const                   1.707781e-15\n",
       "fixed acidity           1.706038e-03\n",
       "volatile acidity        1.058005e-58\n",
       "citric acid             8.175888e-01\n",
       "residual sugar          5.298587e-27\n",
       "chlorides               6.509735e-01\n",
       "free sulfur dioxide     9.994821e-06\n",
       "total sulfur dioxide    4.497912e-01\n",
       "density                 4.044493e-15\n",
       "pH                      8.102311e-11\n",
       "sulphates               3.440472e-10\n",
       "alcohol                 1.699500e-15\n",
       "dtype: float64"
      ]
     },
     "execution_count": 32,
     "metadata": {},
     "output_type": "execute_result"
    }
   ],
   "source": [
    "result.pvalues"
   ]
  },
  {
   "cell_type": "code",
   "execution_count": 33,
   "metadata": {},
   "outputs": [
    {
     "data": {
      "text/html": [
       "<table class=\"simpletable\">\n",
       "<caption>OLS Regression Results</caption>\n",
       "<tr>\n",
       "  <th>Dep. Variable:</th>         <td>quality</td>     <th>  R-squared:         </th> <td>   0.282</td> \n",
       "</tr>\n",
       "<tr>\n",
       "  <th>Model:</th>                   <td>OLS</td>       <th>  Adj. R-squared:    </th> <td>   0.281</td> \n",
       "</tr>\n",
       "<tr>\n",
       "  <th>Method:</th>             <td>Least Squares</td>  <th>  F-statistic:       </th> <td>   239.7</td> \n",
       "</tr>\n",
       "<tr>\n",
       "  <th>Date:</th>             <td>Sat, 30 Nov 2019</td> <th>  Prob (F-statistic):</th>  <td>  0.00</td>  \n",
       "</tr>\n",
       "<tr>\n",
       "  <th>Time:</th>                 <td>22:04:45</td>     <th>  Log-Likelihood:    </th> <td> -5544.1</td> \n",
       "</tr>\n",
       "<tr>\n",
       "  <th>No. Observations:</th>      <td>  4898</td>      <th>  AIC:               </th> <td>1.111e+04</td>\n",
       "</tr>\n",
       "<tr>\n",
       "  <th>Df Residuals:</th>          <td>  4889</td>      <th>  BIC:               </th> <td>1.116e+04</td>\n",
       "</tr>\n",
       "<tr>\n",
       "  <th>Df Model:</th>              <td>     8</td>      <th>                     </th>     <td> </td>    \n",
       "</tr>\n",
       "<tr>\n",
       "  <th>Covariance Type:</th>      <td>nonrobust</td>    <th>                     </th>     <td> </td>    \n",
       "</tr>\n",
       "</table>\n",
       "<table class=\"simpletable\">\n",
       "<tr>\n",
       "           <td></td>              <th>coef</th>     <th>std err</th>      <th>t</th>      <th>P>|t|</th>  <th>[0.025</th>    <th>0.975]</th>  \n",
       "</tr>\n",
       "<tr>\n",
       "  <th>const</th>               <td>  154.1062</td> <td>   18.100</td> <td>    8.514</td> <td> 0.000</td> <td>  118.622</td> <td>  189.591</td>\n",
       "</tr>\n",
       "<tr>\n",
       "  <th>fixed acidity</th>       <td>    0.0681</td> <td>    0.020</td> <td>    3.333</td> <td> 0.001</td> <td>    0.028</td> <td>    0.108</td>\n",
       "</tr>\n",
       "<tr>\n",
       "  <th>volatile acidity</th>    <td>   -1.8881</td> <td>    0.110</td> <td>  -17.242</td> <td> 0.000</td> <td>   -2.103</td> <td>   -1.673</td>\n",
       "</tr>\n",
       "<tr>\n",
       "  <th>residual sugar</th>      <td>    0.0828</td> <td>    0.007</td> <td>   11.370</td> <td> 0.000</td> <td>    0.069</td> <td>    0.097</td>\n",
       "</tr>\n",
       "<tr>\n",
       "  <th>free sulfur dioxide</th> <td>    0.0033</td> <td>    0.001</td> <td>    4.950</td> <td> 0.000</td> <td>    0.002</td> <td>    0.005</td>\n",
       "</tr>\n",
       "<tr>\n",
       "  <th>density</th>             <td> -154.2913</td> <td>   18.344</td> <td>   -8.411</td> <td> 0.000</td> <td> -190.254</td> <td> -118.329</td>\n",
       "</tr>\n",
       "<tr>\n",
       "  <th>pH</th>                  <td>    0.6942</td> <td>    0.103</td> <td>    6.717</td> <td> 0.000</td> <td>    0.492</td> <td>    0.897</td>\n",
       "</tr>\n",
       "<tr>\n",
       "  <th>sulphates</th>           <td>    0.6285</td> <td>    0.100</td> <td>    6.287</td> <td> 0.000</td> <td>    0.433</td> <td>    0.824</td>\n",
       "</tr>\n",
       "<tr>\n",
       "  <th>alcohol</th>             <td>    0.1932</td> <td>    0.024</td> <td>    8.021</td> <td> 0.000</td> <td>    0.146</td> <td>    0.240</td>\n",
       "</tr>\n",
       "</table>\n",
       "<table class=\"simpletable\">\n",
       "<tr>\n",
       "  <th>Omnibus:</th>       <td>114.194</td> <th>  Durbin-Watson:     </th> <td>   1.621</td>\n",
       "</tr>\n",
       "<tr>\n",
       "  <th>Prob(Omnibus):</th> <td> 0.000</td>  <th>  Jarque-Bera (JB):  </th> <td> 251.255</td>\n",
       "</tr>\n",
       "<tr>\n",
       "  <th>Skew:</th>          <td> 0.075</td>  <th>  Prob(JB):          </th> <td>2.76e-55</td>\n",
       "</tr>\n",
       "<tr>\n",
       "  <th>Kurtosis:</th>      <td> 4.099</td>  <th>  Cond. No.          </th> <td>9.95e+04</td>\n",
       "</tr>\n",
       "</table><br/><br/>Warnings:<br/>[1] Standard Errors assume that the covariance matrix of the errors is correctly specified.<br/>[2] The condition number is large, 9.95e+04. This might indicate that there are<br/>strong multicollinearity or other numerical problems."
      ],
      "text/plain": [
       "<class 'statsmodels.iolib.summary.Summary'>\n",
       "\"\"\"\n",
       "                            OLS Regression Results                            \n",
       "==============================================================================\n",
       "Dep. Variable:                quality   R-squared:                       0.282\n",
       "Model:                            OLS   Adj. R-squared:                  0.281\n",
       "Method:                 Least Squares   F-statistic:                     239.7\n",
       "Date:                Sat, 30 Nov 2019   Prob (F-statistic):               0.00\n",
       "Time:                        22:04:45   Log-Likelihood:                -5544.1\n",
       "No. Observations:                4898   AIC:                         1.111e+04\n",
       "Df Residuals:                    4889   BIC:                         1.116e+04\n",
       "Df Model:                           8                                         \n",
       "Covariance Type:            nonrobust                                         \n",
       "=======================================================================================\n",
       "                          coef    std err          t      P>|t|      [0.025      0.975]\n",
       "---------------------------------------------------------------------------------------\n",
       "const                 154.1062     18.100      8.514      0.000     118.622     189.591\n",
       "fixed acidity           0.0681      0.020      3.333      0.001       0.028       0.108\n",
       "volatile acidity       -1.8881      0.110    -17.242      0.000      -2.103      -1.673\n",
       "residual sugar          0.0828      0.007     11.370      0.000       0.069       0.097\n",
       "free sulfur dioxide     0.0033      0.001      4.950      0.000       0.002       0.005\n",
       "density              -154.2913     18.344     -8.411      0.000    -190.254    -118.329\n",
       "pH                      0.6942      0.103      6.717      0.000       0.492       0.897\n",
       "sulphates               0.6285      0.100      6.287      0.000       0.433       0.824\n",
       "alcohol                 0.1932      0.024      8.021      0.000       0.146       0.240\n",
       "==============================================================================\n",
       "Omnibus:                      114.194   Durbin-Watson:                   1.621\n",
       "Prob(Omnibus):                  0.000   Jarque-Bera (JB):              251.255\n",
       "Skew:                           0.075   Prob(JB):                     2.76e-55\n",
       "Kurtosis:                       4.099   Cond. No.                     9.95e+04\n",
       "==============================================================================\n",
       "\n",
       "Warnings:\n",
       "[1] Standard Errors assume that the covariance matrix of the errors is correctly specified.\n",
       "[2] The condition number is large, 9.95e+04. This might indicate that there are\n",
       "strong multicollinearity or other numerical problems.\n",
       "\"\"\""
      ]
     },
     "execution_count": 33,
     "metadata": {},
     "output_type": "execute_result"
    }
   ],
   "source": [
    "cols=list(X.columns)\n",
    "temp = 1\n",
    "while (len(cols)>0):\n",
    "    p= []\n",
    "    X_ols = X[cols]\n",
    "    X_ols = sm.add_constant(X_ols)\n",
    "    result = sm.OLS(Y,X_ols).fit()\n",
    "    p = pd.Series(result.pvalues.values[1:],index = cols)      \n",
    "    temp = max(p)\n",
    "    feature_with_p_max = p.idxmax()\n",
    "    if(temp>0.05):\n",
    "        cols.remove(feature_with_p_max)\n",
    "    else:\n",
    "        break\n",
    "result.summary()"
   ]
  },
  {
   "cell_type": "code",
   "execution_count": 34,
   "metadata": {},
   "outputs": [],
   "source": [
    "features=X[cols]"
   ]
  },
  {
   "cell_type": "code",
   "execution_count": 35,
   "metadata": {},
   "outputs": [
    {
     "name": "stdout",
     "output_type": "stream",
     "text": [
      "[5.58466496 6.10143554 5.28763648 6.10752923 5.47659233 5.37324794\n",
      " 5.25105772 4.66573982 6.28225868 5.52158692 6.69798933 5.47265015\n",
      " 6.30439013 4.60070692 6.31144148 5.74667765 6.69271291 6.21051146\n",
      " 6.81820883 5.07020073 6.02286378 6.47549897 6.59935524 6.0514098\n",
      " 5.19314802 5.62203757 5.57574318 5.89642967 6.37066136 5.72911666\n",
      " 5.54970243 5.89873815 5.57137834 6.06815027 5.63694177 5.30474492\n",
      " 5.17535632 6.61593923 5.81028927 6.28063455 6.1012686  6.44321708\n",
      " 5.56398211 5.94087003 6.16099033 5.79913546 3.84313247 5.89479832\n",
      " 6.70753756 6.40834559 6.16614208 6.64983062 5.94306547 6.73397813\n",
      " 6.25531477 6.0713665  6.77278618 5.14834486 6.78429327 5.5288892\n",
      " 5.97846852 5.85880759 6.62160133 5.52299492 6.52270445 5.55521764\n",
      " 5.81691707 6.19228145 6.6307294  6.08920375 5.844874   5.93069989\n",
      " 5.52239043 5.52539721 5.85554508 5.90701832 5.51888552 6.07531085\n",
      " 6.57607642 5.70788286 5.15246056 5.48353016 5.83048435 5.99674213\n",
      " 5.54083968 5.79746322 5.85823904 5.82753375 5.98724774 5.5749625\n",
      " 5.97723834 6.76749238 5.78168956 5.21623501 5.74524363 5.65826528\n",
      " 5.84457794 5.84737139 6.13214784 5.2330677  6.02590485 5.23138552\n",
      " 6.25215144 5.78513088 6.34687861 6.27285675 5.54113429 5.44874651\n",
      " 5.49898775 5.69902471 5.99710279 6.58729259 5.97320407 5.92817551\n",
      " 5.65515306 4.98321776 6.89084258 6.32219526 5.5836884  5.53258279\n",
      " 6.21107056 5.3571398  5.80336738 5.7710625  5.83689506 5.25931802\n",
      " 6.11261777 5.47247187 6.17830137 5.63201627 4.27752178 5.61796358\n",
      " 6.32836553 5.87580176 6.01155212 6.09648633 6.46514096 6.00067255\n",
      " 6.82642274 6.31104458 5.80306527 5.36548395 5.27024067 5.75698875\n",
      " 6.13698121 5.91414126 6.08595804 5.7347639  5.65616671 5.82893032\n",
      " 6.82263548 6.29453391 6.54879389 6.71826783 5.36679097 6.37764051\n",
      " 6.36891191 4.80012724 6.42546133 6.34719238 5.46731731 5.6705689\n",
      " 6.32037903 7.06171274 5.11209471 5.36957425 5.31117568 5.83687458\n",
      " 5.33298344 6.56115341 5.29072075 5.45151129 4.83317086 5.61796358\n",
      " 5.53457251 6.47215668 6.70250207 6.33540714 5.85827765 5.78732595\n",
      " 5.24900113 6.19355194 5.90814049 5.36833524 5.69818854 5.33314846\n",
      " 6.56017033 5.0516485  6.8833846  5.40723288 6.61958804 5.71024341\n",
      " 6.1178253  6.30954073 5.71616482 5.86805761 5.50758804 5.77030457\n",
      " 5.46896845 5.83838984 6.41836783 5.92066689 5.44812032 5.57534225\n",
      " 5.29721634 5.65054864 6.57403208 5.83712834 5.92366088 6.11100347\n",
      " 6.37420471 5.96141158 5.99326892 6.15692465 5.17211945 5.2128521\n",
      " 5.99612698 6.56723511 5.03999157 4.72601348 6.32783493 6.00959805\n",
      " 6.31228126 5.19595359 5.34024815 5.7469717  5.87002688 6.34273617\n",
      " 5.75713027 5.48185296 6.31203016 6.42702466 5.61231884 5.73928854\n",
      " 5.63475195 5.11798823 6.06009459 5.46918421 6.54845369 5.65492028\n",
      " 6.76852131 5.76247311 5.91631354 6.70894618 5.77349318 5.27257465\n",
      " 6.91047633 5.64426238 6.18566752 5.87738016 6.03662936 5.96580814\n",
      " 5.91649342 5.20323105 5.64881033 5.48386982 5.27810229 6.35136637\n",
      " 5.50771504 5.79059803 5.49053892 5.94686266 5.30944785 5.18694542\n",
      " 5.73708597 6.00420872 5.97013393 6.23141646 6.50109318 5.68554641\n",
      " 5.50808382 5.1375835  5.31464489 5.69523106 6.47646648 5.30671628\n",
      " 5.78128386 6.71889194 5.70098042 6.01431349 5.22755516 6.58409906\n",
      " 5.78142485 5.63672091 5.02376031 5.63741049 5.91558338 5.41086925\n",
      " 5.44868886 5.76551657 6.75305784 6.56249528 6.88483929 5.47919708\n",
      " 6.25213144 5.60708638 7.01426804 6.20238695 5.36751169 5.05200849\n",
      " 5.94706832 5.48699146 5.98108305 5.65457858 5.89430098 5.26282711\n",
      " 5.90804165 6.04391716 5.25885781 5.66886365 5.52299492 5.44965363\n",
      " 5.59941744 6.75590339 6.46161503 6.32018126 5.4056901  5.49361935\n",
      " 6.09853589 5.0855567  6.37363966 5.01147128 5.63339225 6.13554097\n",
      " 6.30790161 5.90879695 5.80930645 5.83389339 5.830859   6.33383557\n",
      " 5.96421315 5.29437034 6.37633586 6.1018656  5.52158692 5.7314797\n",
      " 6.69904294 5.56712687 5.58086903 5.48983022 5.32942202 6.11610248\n",
      " 5.66337326 5.96516548 5.49249889 6.48026395 6.08879485 5.05876145\n",
      " 6.36799397 5.79969295 6.14605401 5.79097063 6.02353504 6.00829619\n",
      " 5.71825898 5.86862642 4.77991346 5.65300474 6.50970291 5.45434653\n",
      " 5.83631539 6.22621764 5.32210641 5.84970482 6.49275166 5.41583626\n",
      " 6.54967022 5.46079613 6.13554097 5.2611282  5.1609336  5.25481829\n",
      " 5.32106952 6.48280927 5.8230591  5.94664691 5.78839896 5.61200956\n",
      " 6.19957892 6.30954073 6.10879392 4.73783556 6.33078508 5.94475187\n",
      " 5.03426631 5.51567834 5.26388643 5.59566209 5.58706513 5.81007213\n",
      " 6.38145194 5.45200929 5.84201161 5.28371053 6.35238225 5.46566359\n",
      " 6.51016039 5.31248813 5.70900432 5.36976116 6.52193624 5.4842403\n",
      " 5.84051857 5.42554133 5.06581566 6.52972612 5.66447957 5.960197\n",
      " 5.45991334 6.0618762  6.89235377 5.61200956 6.49954324 6.17988815\n",
      " 5.43786765 5.76682839 6.57384678 6.28674449 5.77530767 5.64021959\n",
      " 6.37450887 5.98451771 5.85778792 5.4026956  5.47875236 6.23184589\n",
      " 5.82499836 5.62036698 5.99513332 5.61637219 6.17820883 6.41638554\n",
      " 5.57645811 5.6548972  5.65351047 6.10897461 5.6972347  5.99926886\n",
      " 6.83690602 5.85790255 5.90302142 6.32286725 5.72986117 5.87049954\n",
      " 6.33841481 6.00426937 5.50771504 5.6809621  6.03285317 5.55600877\n",
      " 6.03001233 6.77878585 5.53083286 6.89645622 6.11804122 5.63014871\n",
      " 5.95933953 5.75800125 5.99677259 5.44698581 5.91720095 6.43885858\n",
      " 5.66413747 5.51582373 5.87752164 5.84363366 5.54715514 6.27156451\n",
      " 5.6704586  5.63672091 5.94418558 6.49137875 5.9674099  6.09274671\n",
      " 5.45801796 6.10445063 6.28083967 5.88953917 5.65547295 5.24049122\n",
      " 5.77425294 5.25931802 6.42698777 5.89943571 5.71869642 5.89846728\n",
      " 6.56239213 5.18186378 5.39325787 6.23531575 5.82460361 6.29696262\n",
      " 6.08254336 5.42772345 5.3044191  5.97618196 6.24294653 6.79764234\n",
      " 5.41845688 5.88394484 5.61301262 5.88208756 5.46683916 6.10009833\n",
      " 6.36129081 4.85960156 5.75884442 5.91114525 5.53344468 5.71603478\n",
      " 5.46108748 5.91228231 5.13534789 6.08616273 6.8510283  5.37683958\n",
      " 6.25757987 5.61586198 5.55187653 5.68088825 5.97774601 6.10853\n",
      " 6.40671801 5.94034178 5.85457691 5.79587346 6.3052326  5.42643467\n",
      " 6.14315185 5.94815582 4.95825073 5.10980758 5.8333401  5.24566408\n",
      " 5.59941744 5.45534849 5.998759   6.06850785 5.90004853 5.34010559\n",
      " 6.01597659 5.63345403 5.64675226 6.03660126 6.33020105 5.75534473\n",
      " 5.09796619 6.82388789 6.26690433 5.708918   6.01788942 5.76598549\n",
      " 6.14127345 5.87379195 5.75930034 5.91720095 6.00420872 5.2393944\n",
      " 5.29717312 5.26168204 5.50172679 5.79217441 5.97089924 6.17817566\n",
      " 6.08595804 6.12786228 4.92346015 5.1061552  6.02990364 5.96436015\n",
      " 5.79060143 6.10005583 5.60495071 5.67509475 5.66681522 5.70242036\n",
      " 6.0944065  5.44855051 5.49337887 6.06388699 5.49017222 5.9033722\n",
      " 4.35777333 5.23698726 6.34324145 6.47646648 6.19061586 5.2819808\n",
      " 5.74058418 5.76270925 5.42318409 6.21870414 6.39633235 6.4338953\n",
      " 6.34865969 6.08107885 6.52581734 5.86179353 5.70124792 5.85823904\n",
      " 6.10938393 6.44328368 5.8235927  5.18448046 6.17681806 5.14541311\n",
      " 6.30648134 4.57695002 5.15884539 6.19203218 6.34719238 4.83724551\n",
      " 6.63073866 5.64221985 6.31325186 5.42663519 5.60682131 5.54723573\n",
      " 6.14661146 5.21904922 5.99566116 5.47391199 5.89494289 5.78750374\n",
      " 5.5766351  5.96216789 5.94367114 6.14377407 6.31713428 5.75476471\n",
      " 5.62134174 5.34284969 5.73706962 5.44607526 5.99385571 5.83436178\n",
      " 6.22956826 6.00172171 5.62203757 6.19291011 5.8573079  5.76363494\n",
      " 6.46161503 6.54939982 5.18727065 6.28225868 5.81956782 4.98567108\n",
      " 4.86542159 5.95562202 5.95717506 5.59430833 6.56545181 7.02266336\n",
      " 5.19948135 5.45385025 5.64429307 6.49725293 6.69113292 5.78144838\n",
      " 5.48719988 5.4375346  5.14792479 5.47293037 5.78024755 6.02554744\n",
      " 5.69275532 5.17780805 6.45769222 5.6947603  5.76885469 5.58592049\n",
      " 6.45499682 5.65856284 5.83066816 6.32969505 5.7196569  5.73824756\n",
      " 6.11679678 5.25078165 6.24968252 5.7248681  6.27511948 5.78612885\n",
      " 6.51780249 5.99513332 6.37996872 5.68453412 6.76141713 6.29705619\n",
      " 5.45502595 5.82994619 5.87784893 5.77504071 5.86063837 6.13348208\n",
      " 5.80652769 6.15180284 6.98545865 6.52396975 5.6449149  5.63715654\n",
      " 6.27969932 6.02353504 5.38580109 5.21537242 6.09017258 5.62082766\n",
      " 6.83551163 6.48412866 6.27796452 4.90052806 5.29072075 5.52938943\n",
      " 6.13123253 5.82180835 5.60598507 5.38886989 6.68901477 6.26279349\n",
      " 5.87012472 5.18023137 5.65022616 4.74543575 5.4186444  4.14653854\n",
      " 5.318888   6.67128256 5.16447406 6.21976672 6.23167467 5.11935252\n",
      " 6.38102936 5.43323862 5.72646214 5.69359604 5.55492267 6.0713665\n",
      " 5.69188128 6.23495628 6.61756239 5.81943389 5.39841589 6.08843663\n",
      " 7.00151716 5.855459   5.55651359 6.48928672 5.61657797 6.02318562\n",
      " 5.19325978 5.42893144 6.02091706 5.96900026 5.29122911 7.01426804\n",
      " 5.45267713 6.54829376 6.33020105 6.13460993 5.7192703  5.4443266\n",
      " 6.10691401 5.41687548 5.59176861 5.84019856 5.84537149 5.76820579\n",
      " 5.88580063 6.64377235 6.29056119 5.39106367 6.31709046 6.20140724\n",
      " 5.45397717 5.9316249  5.54352405 5.81363204 6.31987002 6.51479466\n",
      " 5.543535   6.06727362 5.70098042 5.32044537 5.9900551  4.74301355\n",
      " 6.33301814 5.75924204 5.85250667 5.65492028 5.98963894 5.65828944\n",
      " 5.61126694 5.89915819 5.53536051 6.08825749 6.14822993 5.52940636\n",
      " 5.82435757 6.25884397 5.87105682 5.39698853 5.67235665 5.27687958\n",
      " 5.58937648 5.36831736 5.76748968 6.0672863  5.39151983 6.16530376\n",
      " 5.13377337 5.30729424 6.52350631 5.80255267 6.12105772 6.86517703\n",
      " 5.34096639 5.40577492 6.36071184 5.51916454 5.58518552 6.45792377\n",
      " 6.07411035 6.70729817 6.52270445 6.1194694  5.5767117  6.68724144\n",
      " 5.45496136 6.17929591 6.24954803 5.48966304 5.77876894 6.47416353\n",
      " 6.11662984 5.91577066 6.2544693  6.48212549 6.64150796 5.90683592\n",
      " 5.61976742 5.52196996 6.09860516 5.51123328 6.05351226 5.62498833\n",
      " 5.70525694 6.28069883 5.63672091 5.48306437 5.57090871 6.53879571\n",
      " 6.52039045 6.01650886 5.98724774 6.05455056 6.21141884 4.86816648\n",
      " 5.95069933 6.2615514  5.04490934 6.74095512 6.13791811 5.81868841\n",
      " 5.30567223 5.53068573 5.96325682 5.41465045 5.43786765 6.43901189\n",
      " 5.72092535 6.40794964 6.36632822 5.86248716 5.71678329 6.32769931\n",
      " 5.46731731 4.7111991  5.33351411 6.46196382 5.10280419 6.31710296\n",
      " 5.54177453 6.22284156 5.19650581 6.74193591 6.55695228 6.10938393\n",
      " 5.32942202 5.44641743 6.73405498 6.51548977 5.53150206 6.17164492\n",
      " 6.69537868 5.29284006 5.59694689 4.89002498 6.2308911  6.12786228\n",
      " 5.70097226 5.81484263 5.79217441 5.71096172 6.34858111 4.7689478\n",
      " 5.75282133 5.74702099 5.41340122 6.03048305 4.94240196 6.30382662\n",
      " 5.85055622 5.07020073 5.65655841 4.66777247 6.26179288 5.54611568\n",
      " 5.06430307 6.51636333 6.42373346 5.77950896 6.65234098 6.37005504\n",
      " 6.33788438 5.82280756 5.70958478 5.69325848 6.41489961 5.68699977\n",
      " 5.30175995 6.03660126 5.85121755 6.13817584 6.89645622 6.79195742\n",
      " 6.92175856 5.55124979 5.73500675 5.61677701 6.52629029 5.76247311\n",
      " 5.09002252 5.28241168 5.247344   5.53443865 5.20671499 5.94100202\n",
      " 5.74666012 6.47565841 6.19789632 6.37599735 6.56129202 5.49806342\n",
      " 5.51114886 6.58084938 6.59935524 5.846817   5.89010197 6.59603235\n",
      " 5.5047823  6.72919153 5.1119628  6.01556352 5.62558612 5.77400035\n",
      " 5.61976742 5.77016378 5.6764176  5.98556298 6.85896576 6.13675659\n",
      " 5.1915455  6.37497665 6.2920144  5.94119612 6.1346622  5.9614441\n",
      " 5.31597051 5.82994619] 736     6\n",
      "4539    5\n",
      "382     6\n",
      "3565    6\n",
      "2689    6\n",
      "2886    5\n",
      "3964    5\n",
      "3563    5\n",
      "4750    5\n",
      "4116    6\n",
      "3513    6\n",
      "3950    5\n",
      "1414    6\n",
      "1152    4\n",
      "2909    6\n",
      "2063    5\n",
      "2652    7\n",
      "3604    6\n",
      "4553    6\n",
      "4095    6\n",
      "2218    6\n",
      "2657    7\n",
      "2299    7\n",
      "422     6\n",
      "4831    6\n",
      "430     5\n",
      "1270    7\n",
      "4513    6\n",
      "4608    7\n",
      "4708    6\n",
      "       ..\n",
      "3562    6\n",
      "2927    7\n",
      "4642    7\n",
      "1717    6\n",
      "2361    5\n",
      "2813    7\n",
      "2294    7\n",
      "4400    5\n",
      "3921    5\n",
      "2320    6\n",
      "693     5\n",
      "3421    8\n",
      "3571    4\n",
      "632     6\n",
      "3374    5\n",
      "3444    5\n",
      "290     7\n",
      "293     7\n",
      "1946    6\n",
      "3913    6\n",
      "3007    7\n",
      "3986    6\n",
      "3097    5\n",
      "4840    7\n",
      "528     6\n",
      "4321    6\n",
      "4868    6\n",
      "1609    7\n",
      "202     5\n",
      "1337    5\n",
      "Name: quality, Length: 980, dtype: int64\n"
     ]
    }
   ],
   "source": [
    "X_train, X_test, Y_train, Y_test = train_test_split(features, Y, test_size = 1/5, random_state=24, stratify=Y)\n",
    "LR_new = LinearRegression()\n",
    "LR_new.fit(X_train,Y_train)\n",
    "Y_pred_new=LR_new.predict(X_test)\n",
    "print (Y_pred_new,Y_test)"
   ]
  },
  {
   "cell_type": "code",
   "execution_count": 36,
   "metadata": {},
   "outputs": [
    {
     "name": "stdout",
     "output_type": "stream",
     "text": [
      "Mean Absolute Error: 0.5921492563613743\n",
      "Mean Squared Error: 0.583808312217955\n",
      "Root Mean Squared Error: 0.7640734992250124\n",
      "R-Square:  0.25630106237515393\n",
      "Intercept:  141.72525175817438\n",
      "Coefficients:  [ 5.43988106e-02 -1.92286593e+00  1.19871605e-02  7.90863214e-02\n",
      " -2.56959953e-01  3.38289756e-03 -3.37872254e-04 -1.41904663e+02\n",
      "  7.30171721e-01  6.41733903e-01  2.04974163e-01]\n"
     ]
    }
   ],
   "source": [
    "print('Mean Absolute Error:', mean_absolute_error(Y_test, Y_pred_new))\n",
    "print('Mean Squared Error:', mean_squared_error(Y_test, Y_pred_new))\n",
    "print('Root Mean Squared Error:', np.sqrt(mean_squared_error(Y_test, Y_pred_new)))\n",
    "print('R-Square: ',r2_score(Y_test, Y_pred_new))\n",
    "print('Intercept: ',LR.intercept_ )\n",
    "print('Coefficients: ',LR.coef_ )"
   ]
  },
  {
   "cell_type": "markdown",
   "metadata": {},
   "source": [
    "# SVR"
   ]
  },
  {
   "cell_type": "code",
   "execution_count": 37,
   "metadata": {},
   "outputs": [
    {
     "name": "stderr",
     "output_type": "stream",
     "text": [
      "D:\\Anaconda3\\lib\\site-packages\\sklearn\\svm\\base.py:196: FutureWarning: The default value of gamma will change from 'auto' to 'scale' in version 0.22 to account better for unscaled features. Set gamma explicitly to 'auto' or 'scale' to avoid this warning.\n",
      "  \"avoid this warning.\", FutureWarning)\n"
     ]
    },
    {
     "name": "stdout",
     "output_type": "stream",
     "text": [
      "[6.01602034 5.57042576 5.40766168 5.39829621 5.58479064 5.92696233\n",
      " 5.36983617 5.63594027 6.16952049 5.05612288 5.71148513 5.46807253\n",
      " 6.14914282 5.26967375 6.01783435 6.09324384 6.45285333 6.22689292\n",
      " 7.02093232 5.59674189 5.9860634  6.0489393  6.73356939 5.98947308\n",
      " 5.44488678 5.98818694 6.90050023 6.32823244 6.27593828 5.80117169\n",
      " 5.16913911 5.668669   6.17305828 6.21591758 5.18077414 5.56538173\n",
      " 5.26148399 6.87073481 5.90473908 6.79533236 6.29191394 6.25176886\n",
      " 5.0995631  5.62099406 5.13588292 5.93224408 4.94009455 5.89989656\n",
      " 6.64971596 6.49073853 6.07333517 5.52860575 5.69818683 5.99995693\n",
      " 6.6572001  5.69831334 5.80173349 4.97388431 6.32267306 5.19412795\n",
      " 5.63166499 5.84480871 6.20184135 5.63114628 6.26337737 5.97807695\n",
      " 6.1123472  6.07515238 6.80684139 5.94176901 5.25469424 5.97658408\n",
      " 5.97859163 5.84485789 5.68347613 5.65893026 5.35587162 6.41819307\n",
      " 6.26423414 5.54456505 5.81438844 5.60321662 6.19245245 6.04078562\n",
      " 5.60058493 5.84409879 6.00122864 6.07657873 6.44636325 5.7234905\n",
      " 6.11355844 6.97762574 6.04768554 5.29560744 5.53137426 5.49956667\n",
      " 5.95778741 6.01013081 6.0104035  5.90342615 5.86213263 5.05859421\n",
      " 6.00615504 5.91317393 6.22298712 6.54057812 5.1623834  5.48776947\n",
      " 5.06237692 5.60847643 5.88538972 6.95476875 5.30243768 5.87368529\n",
      " 5.26876649 5.06410385 6.69062979 6.39564038 5.66258943 5.83479007\n",
      " 6.12925828 5.20757225 5.84700269 5.7619427  6.17396572 5.34615783\n",
      " 6.13432442 5.26159704 6.09350079 5.90551077 5.32122509 5.90033478\n",
      " 7.09474935 5.66741444 5.51392776 6.31408789 6.24266892 5.68949593\n",
      " 6.38745867 6.12656606 5.49663575 6.77650704 5.61697202 5.74181763\n",
      " 5.81572096 5.93180306 5.9582062  5.50055221 5.38577353 5.89334433\n",
      " 7.41183042 6.09137055 6.35666949 6.32791999 5.278377   6.45521284\n",
      " 6.38152176 5.77257923 6.81388763 6.12192403 6.09975197 5.80050197\n",
      " 6.10013677 6.44761586 5.40449037 5.48960671 5.27519974 5.14471748\n",
      " 5.38434879 7.09071033 5.69214464 5.39780376 5.15130601 5.90033478\n",
      " 5.3066312  6.25751621 6.92377017 6.61759215 5.76743829 5.47717046\n",
      " 5.58370687 5.96862615 6.63296164 4.64045464 5.74238384 5.51996916\n",
      " 6.84390337 4.95499853 6.72246125 5.47777733 6.70749538 5.47994379\n",
      " 5.87238315 6.42207727 5.71584872 6.03296024 5.24132944 5.89001947\n",
      " 5.4454033  5.3653109  6.25344956 5.54619876 5.55774316 5.6095307\n",
      " 5.48091908 5.72590482 6.71815456 5.96290499 6.0100756  5.88356584\n",
      " 5.94686067 5.90457863 5.58287529 6.21116875 5.88491693 5.84504949\n",
      " 5.77581535 5.6640494  5.04205937 4.99114707 6.27403178 6.55208024\n",
      " 5.90906662 4.90020629 4.93936133 5.9744341  6.12389774 6.25569999\n",
      " 5.45068442 5.51095527 5.6875268  5.7515766  5.06510084 4.88119909\n",
      " 5.64237859 5.06049693 5.91257528 5.44880096 6.31140198 5.89970942\n",
      " 6.22937913 5.2785344  5.57767665 6.43361252 5.81404109 5.12365401\n",
      " 5.80057448 5.80884779 6.98852979 6.13468248 6.16088042 5.8798884\n",
      " 5.21709695 5.10044163 6.04205892 5.41126426 5.47170681 6.85123154\n",
      " 6.27073536 5.58936715 6.10035318 5.99228067 5.54792762 5.02216392\n",
      " 5.49668492 6.02041742 6.64975363 7.04569671 5.74730253 5.62093508\n",
      " 5.91518497 4.90001068 5.02587777 6.3335513  6.33922201 5.34762982\n",
      " 5.09957663 6.73180817 6.10348443 6.51360731 4.85935621 6.472198\n",
      " 5.63815112 6.18221115 5.29848564 6.24702711 5.95776114 4.95610473\n",
      " 5.49540836 5.56069654 7.04270085 6.06917261 6.60457124 5.96805383\n",
      " 6.61269613 5.76901656 6.43479553 6.27826211 5.41099878 5.65995054\n",
      " 6.14197217 6.12115383 5.48600736 5.32660891 5.74350531 5.25102781\n",
      " 5.97381919 5.34345192 6.16655347 6.05549211 5.63114628 6.01179198\n",
      " 5.65713027 6.47805793 6.18499212 6.50213404 5.06340974 5.90713476\n",
      " 6.12639824 6.12168346 6.58364832 5.0191443  4.81714595 6.05316447\n",
      " 6.44671193 6.2292002  5.58073351 6.18983357 5.77475381 6.28430398\n",
      " 5.78005642 5.2571189  6.02720023 6.07651552 5.05612288 5.9663337\n",
      " 7.49774966 5.55875093 5.17484832 5.85182741 5.07267095 5.79243448\n",
      " 5.77574448 6.06630742 5.28347454 5.3412561  6.16269065 5.29949448\n",
      " 6.17724953 6.00045841 6.36687671 5.61854066 6.11089288 6.69157884\n",
      " 5.99103077 5.9001783  5.50228169 5.14101079 7.32517588 5.56031398\n",
      " 5.76832239 6.15196633 5.15760588 5.9156036  7.00095052 5.36873585\n",
      " 6.83616193 5.94955375 6.05316447 5.19764993 5.0996812  5.40468079\n",
      " 4.98264769 6.09170178 5.56477386 6.05751552 5.42506054 5.62209966\n",
      " 5.95676843 6.42207727 6.10182941 4.80060941 6.31984525 5.81013863\n",
      " 5.36039378 5.60911301 5.24769452 5.95827028 5.86284392 6.14896631\n",
      " 5.21311036 5.2265859  5.51831813 5.7573003  5.59469365 5.28828915\n",
      " 6.11843293 5.09989189 5.72578749 5.25037964 5.86777083 5.39169587\n",
      " 6.39908627 5.18330322 6.20763205 6.70666002 5.66637427 5.70212361\n",
      " 5.13868567 5.44494567 6.78581513 5.62209966 6.63636446 6.1001273\n",
      " 5.90196422 5.09966988 6.40010591 6.73896498 5.73669972 5.58955651\n",
      " 6.1000054  6.12668114 6.05141378 5.37528763 5.51046619 6.53720207\n",
      " 5.75831195 5.6561426  6.1003716  5.2261261  6.21917809 5.99843586\n",
      " 6.8998955  5.83835836 5.92951136 5.95891683 5.70829756 5.80988966\n",
      " 6.73865567 5.88818425 6.02532074 6.18099573 5.62623061 5.52861226\n",
      " 6.09361441 5.93569996 6.27073536 6.03930478 6.23583689 5.78536134\n",
      " 6.01349004 6.36083041 5.94710967 7.09213888 6.2554265  5.57755823\n",
      " 5.85045613 5.81482215 6.09019842 5.75274781 6.13990583 6.0197469\n",
      " 5.89959507 5.58126267 5.77591369 5.96245746 6.33356322 6.06324823\n",
      " 5.8997975  6.18221115 5.62478152 6.04232424 5.9949822  6.05096251\n",
      " 5.06773246 4.52247987 6.11932807 5.36215045 5.29575088 5.57949645\n",
      " 5.73562738 5.34615783 5.22482622 6.10357593 5.61450246 6.04704017\n",
      " 6.73274436 5.93958855 5.6072611  6.44175851 5.90044554 5.99882297\n",
      " 5.83749045 5.89968408 5.72424947 5.48412579 5.84928519 6.91061591\n",
      " 5.70554032 5.28064321 5.31845621 6.02936599 5.38500136 5.97201029\n",
      " 5.93720848 5.65166469 5.90174939 5.93380201 5.49503305 6.04421303\n",
      " 5.51865161 5.94490263 5.05560605 6.02437125 6.63068719 5.31853078\n",
      " 6.21832557 5.06929884 6.07175435 5.09988956 5.89958763 6.25912545\n",
      " 6.03049347 6.07364901 5.68506743 5.26257004 5.46688539 5.2669326\n",
      " 6.0932544  6.36920694 5.63533323 5.09962281 5.62345584 5.78030409\n",
      " 5.65713027 5.75764169 6.11350601 6.46972379 6.06157404 5.69684308\n",
      " 5.82442425 5.41915677 6.12850362 5.99925814 6.46994209 4.96986207\n",
      " 4.92760171 7.03838609 5.85103824 4.98143803 5.79282785 6.24164119\n",
      " 5.8883175  5.82714947 6.14875472 6.13990583 6.02041742 5.39344073\n",
      " 6.2915061  5.55627944 5.15348191 5.39632941 5.79574279 5.90984046\n",
      " 5.9582062  6.30174429 5.88227346 5.09990451 5.91600474 5.82090114\n",
      " 5.72234743 6.43869571 5.89622149 6.20238087 5.920357   5.29200651\n",
      " 6.1262589  5.40132513 5.85450089 6.1250268  5.21435119 5.78646897\n",
      " 5.18364078 5.77592435 6.10037437 6.33922201 6.22147408 5.46309744\n",
      " 5.81383426 5.54663686 5.41224451 5.97843583 6.60880634 5.50187763\n",
      " 6.08902411 6.09904181 5.33966276 5.81169746 5.63186928 6.00122864\n",
      " 6.23512689 6.91459074 5.3070672  5.0423936  6.34362413 5.49519285\n",
      " 5.70963108 5.05493119 5.11961462 6.39879656 6.12192403 5.708546\n",
      " 6.60767145 5.49555466 6.29098895 5.7915825  5.01792524 5.92524318\n",
      " 6.18333086 5.121678   6.48965236 5.6260449  5.98523425 5.86560263\n",
      " 5.98712122 6.10025221 5.22658127 6.18440742 6.34628211 5.93680885\n",
      " 5.71550534 5.29243176 6.00182905 5.9598383  5.59977538 5.93836927\n",
      " 6.09981172 5.89976276 5.98818694 4.99938679 5.90028558 5.99958456\n",
      " 6.18499212 6.2909773  5.17064281 6.16952049 6.09979946 5.21474934\n",
      " 6.14932171 5.84858617 5.9705494  6.01475429 6.03761948 6.90020807\n",
      " 5.19572035 5.03494955 5.78281246 6.36925989 6.74077563 6.28262946\n",
      " 5.90045186 5.24723415 5.24133229 5.09500303 5.96801065 6.51215693\n",
      " 5.53274039 5.05222641 6.04805518 5.94258095 5.53321019 5.6648398\n",
      " 6.59899121 5.27404706 5.93696254 6.01429885 5.97868304 5.9967902\n",
      " 6.72519402 5.89741073 5.90023252 5.94633467 5.90005752 5.64555206\n",
      " 6.43906533 6.1003716  6.25489877 5.46215319 6.66751207 7.14131007\n",
      " 5.26628589 5.41777987 5.57798446 6.28432937 6.3266769  6.01387739\n",
      " 5.53900198 5.57756633 6.3338247  7.0513979  5.91480705 5.90119866\n",
      " 5.92055422 6.11089288 4.97073244 5.37938394 5.86440499 5.77675022\n",
      " 6.52567352 6.74202641 5.5988887  5.07454997 5.69214464 5.48572275\n",
      " 6.14663261 5.99432293 5.42139413 5.10017347 6.73353197 6.26333045\n",
      " 5.55414233 5.10003684 5.63108468 4.93179159 5.80283242 4.98060697\n",
      " 5.36316007 6.3019703  5.63003688 6.4323432  6.37496715 4.94301409\n",
      " 5.91270193 5.41066363 6.1656006  5.95891562 5.43899656 5.69831334\n",
      " 6.10404297 6.35968781 6.90043476 5.87493985 5.87414809 6.14533271\n",
      " 6.53687485 5.94527609 5.88127791 6.46098685 5.58028512 5.54897307\n",
      " 5.17427662 5.75862074 5.95335207 6.13231582 5.41656468 6.43479553\n",
      " 5.90034161 6.08255607 6.46994209 6.08157668 4.99702769 5.25435836\n",
      " 6.2369293  6.10004766 5.06867367 5.48790502 6.00551354 5.76040261\n",
      " 5.34270977 6.10001657 6.08954608 5.32015903 6.08551309 5.85201699\n",
      " 5.45444701 6.22678466 4.9582557  5.30178152 5.90991657 7.43075767\n",
      " 5.85970075 6.21896553 6.10348443 5.01187702 6.09974228 5.35586061\n",
      " 6.44840912 5.86126578 6.08519996 5.89970942 5.86674958 5.85900565\n",
      " 5.46106169 5.5899322  5.29868743 5.61710424 6.93169207 5.04524282\n",
      " 5.44547684 6.9200985  5.67175719 4.88510669 5.5599024  5.3721157\n",
      " 5.89975999 5.09997925 5.81343844 6.03270516 4.87589033 6.91648783\n",
      " 5.54589996 5.93635893 6.08735074 5.32105035 5.88486838 5.40879853\n",
      " 5.98987286 4.93419645 6.067311   5.38187106 5.30569946 5.81507422\n",
      " 6.26674943 6.93267407 6.26337737 6.08411519 5.34265119 7.10803431\n",
      " 4.9434911  6.14790842 6.73770488 4.95165577 5.84581346 6.44043055\n",
      " 5.86883479 5.93166293 6.18098703 5.90021354 6.10000165 5.7366944\n",
      " 5.98835174 5.43236817 5.90308315 5.99355724 5.83750558 5.98379142\n",
      " 5.7798318  6.00626603 6.18221115 6.90023439 5.30712123 6.19549091\n",
      " 6.08647596 5.39517896 6.44636325 5.67167534 6.3893442  4.93959921\n",
      " 6.06888792 6.17626489 4.80288228 6.49371911 5.78970621 6.18948672\n",
      " 5.7032923  4.6833416  6.0923687  5.93656926 5.90196422 6.50244972\n",
      " 5.92664415 6.10928611 6.45825938 6.11398432 6.20650582 6.47556993\n",
      " 6.09975197 4.92333112 6.00058129 6.85129773 5.57740179 5.93341899\n",
      " 6.04703511 6.36018027 5.09974953 6.24290942 6.54193619 6.23512689\n",
      " 5.07267095 5.89985153 6.97678108 6.70140418 5.27160921 5.61069173\n",
      " 6.80595506 5.53925836 5.27463264 5.21546632 6.03249378 6.30174429\n",
      " 5.3055109  5.73784102 5.39632941 5.71988802 5.96691603 5.06293102\n",
      " 6.10035323 5.57676621 5.21227946 6.02822572 4.65692992 7.07652438\n",
      " 5.35715695 5.59674189 6.03546185 4.90249724 5.84054466 6.20463522\n",
      " 4.89155271 6.6490602  4.05862868 5.85263209 6.88029064 5.53816632\n",
      " 6.47282287 5.76294994 6.16254936 5.51771562 6.12851022 5.42966066\n",
      " 5.36951364 5.99925814 5.59210111 6.21325219 7.09213888 7.10024865\n",
      " 6.61527704 5.08630802 5.60655496 6.60587407 5.44646807 5.2785344\n",
      " 4.87207479 5.65732541 4.40643022 6.00666096 5.44029886 5.56296138\n",
      " 5.62484772 6.48543722 5.9945699  6.56414471 6.40533766 5.79442038\n",
      " 4.97642265 6.88346004 6.73356939 5.43393619 6.55431374 6.31039435\n",
      " 5.13207199 6.91107938 5.32267749 5.72614668 5.25296337 5.12122332\n",
      " 5.98835174 5.64387795 5.16543373 5.77116307 6.89981474 5.87264502\n",
      " 6.24304827 6.29671766 6.59230675 6.30115499 6.02916279 6.01957901\n",
      " 5.95500114 5.41777987]\n"
     ]
    }
   ],
   "source": [
    "from sklearn.svm import SVR\n",
    "svr1= SVR(kernel='rbf')\n",
    "svr1.fit(X_train,Y_train)\n",
    "svr1_pred=svr1.predict(X_test)\n",
    "print (svr1_pred)"
   ]
  },
  {
   "cell_type": "code",
   "execution_count": 38,
   "metadata": {},
   "outputs": [
    {
     "name": "stdout",
     "output_type": "stream",
     "text": [
      "Mean Absolute Error: 0.5655227924669021\n",
      "Mean Squared Error: 0.5652718072866112\n",
      "Root Mean Squared Error: 0.7518456006964537\n",
      "R-Square:  0.2799142565284627\n",
      "Intercept:  [5.75859302]\n"
     ]
    }
   ],
   "source": [
    "print('Mean Absolute Error:', mean_absolute_error(Y_test, svr1_pred))\n",
    "print('Mean Squared Error:', mean_squared_error(Y_test, svr1_pred))\n",
    "print('Root Mean Squared Error:', np.sqrt(mean_squared_error(Y_test, svr1_pred)))\n",
    "print('R-Square: ',r2_score(Y_test, svr1_pred))\n",
    "print('Intercept: ',svr1.intercept_ )\n",
    "#print('Coefficients: ',svr1.coef_ )"
   ]
  },
  {
   "cell_type": "code",
   "execution_count": 39,
   "metadata": {},
   "outputs": [
    {
     "name": "stdout",
     "output_type": "stream",
     "text": [
      "[5.5385583  6.14626485 5.20096908 5.9675315  5.48151002 5.32661538\n",
      " 5.18718696 4.55845828 6.4253169  5.35802434 6.54099058 5.47499538\n",
      " 6.34798713 4.61719981 6.21688807 5.98190839 6.6424023  6.09160383\n",
      " 6.73494448 4.98449687 5.92245207 6.41100944 6.4977736  6.03775277\n",
      " 5.19001937 5.56424736 5.52469729 5.66295508 6.28993246 5.65407954\n",
      " 5.54831905 5.91458502 5.6311845  6.00409629 5.59925404 5.22737479\n",
      " 5.15661696 6.56416587 5.74168173 6.34902717 6.04175558 6.3582971\n",
      " 5.6354354  5.93127796 6.08591613 5.97581165 3.99511387 5.81193493\n",
      " 6.64441641 6.34494967 6.01132827 6.4752331  5.86510741 6.6751145\n",
      " 6.18858166 5.96540292 6.70207736 5.23616313 6.69084337 5.43886229\n",
      " 6.03645587 5.81165331 6.5347606  5.35649643 6.47612157 5.42968057\n",
      " 5.91217236 6.12061499 6.5347753  5.84187136 5.81475034 5.85287235\n",
      " 5.43049424 5.47652566 5.79926349 5.90454678 5.48630686 5.97281974\n",
      " 6.55796401 5.61064015 5.1413118  5.50839186 5.76212113 5.92813769\n",
      " 5.43833534 5.77803992 5.80063082 5.80642011 5.87901883 5.57777454\n",
      " 5.97301932 6.72785604 5.68016984 5.15969154 5.66650309 5.60348043\n",
      " 5.79380944 5.85257723 6.19750982 5.24063905 6.02144057 5.30214098\n",
      " 6.16106661 5.74352925 6.28591701 6.23910696 5.51731391 5.51985511\n",
      " 5.50399633 5.64287593 5.96855917 6.49227612 5.93097116 5.94785457\n",
      " 5.63642269 4.94048056 6.7654688  6.39118663 5.53204871 5.61131494\n",
      " 6.19573897 5.27986327 5.62111455 5.69439291 5.8947241  5.27943182\n",
      " 5.95610766 5.54680136 6.14107021 5.58191181 4.23191559 5.53526565\n",
      " 6.2480119  5.80229559 5.86844147 6.02082856 6.41307711 5.84764043\n",
      " 6.70628245 6.18835818 5.85244681 5.36703945 5.22018417 5.6656158\n",
      " 6.21518929 5.89984395 5.96343661 5.75377001 5.63214102 5.85176379\n",
      " 6.77707326 6.17655046 6.50739674 6.71114361 5.30353128 6.30928054\n",
      " 6.25790366 4.69810657 6.45216299 6.21428955 5.37655356 5.68044923\n",
      " 6.27073448 7.10039571 5.03760614 5.32195309 5.23542519 5.93844477\n",
      " 5.32051899 6.52819314 5.39578678 5.3220896  4.83712788 5.53526565\n",
      " 5.47996647 6.46476961 6.65475537 6.34518063 5.8972074  5.64272198\n",
      " 5.09056218 6.0799148  5.84730583 5.34738953 5.55824496 5.34944942\n",
      " 6.46057957 5.03375549 6.79785282 5.37740085 6.60659485 5.53767355\n",
      " 6.02494123 6.20370148 5.76918391 5.75855971 5.37578018 5.69727236\n",
      " 5.33078521 5.7963056  6.44415279 5.94465798 5.55224703 5.59070368\n",
      " 5.29524608 5.69607801 6.44531806 5.87267716 5.88388556 6.05678786\n",
      " 6.30169113 5.9065811  6.00748452 6.04217099 5.12643184 5.1328611\n",
      " 5.93440873 6.52720126 5.0611063  4.59048391 6.33855234 5.88860666\n",
      " 6.19994583 5.09868613 5.24793295 5.68645881 5.75423468 6.25188182\n",
      " 5.64636314 5.39373183 6.35693336 6.23651547 5.54232418 5.7420044\n",
      " 5.60163896 4.99674642 5.96358255 5.57820987 6.36157041 5.71737815\n",
      " 6.71986522 5.76980302 5.80020866 6.54983295 5.97336061 5.22416988\n",
      " 6.86217247 5.54031613 6.20686567 5.87107847 6.00211593 5.90648132\n",
      " 5.89216357 5.13699826 5.7165956  5.42944702 5.24766878 6.26267371\n",
      " 5.52013505 5.80484826 5.43157153 5.89839435 5.34097327 5.15214566\n",
      " 5.70093579 5.95883616 5.83940066 6.26758848 6.37127241 5.54636747\n",
      " 5.49784047 5.0643494  5.32498134 5.61049178 6.35817322 5.36067303\n",
      " 5.62649271 6.65461298 5.81185757 5.87833312 4.96153685 6.50453898\n",
      " 5.71085503 5.58965129 5.20412651 5.65650491 6.02637626 5.37340006\n",
      " 5.39087357 5.70957183 6.71654937 6.50925214 6.88452105 5.73014552\n",
      " 6.19222819 5.53860149 6.99953647 6.15638007 5.44188103 5.17152781\n",
      " 5.87685399 5.49183561 5.93816933 5.60008971 5.77636407 5.25433327\n",
      " 5.90920854 6.07803932 5.25854693 5.61396308 5.35649643 5.59583761\n",
      " 5.46220981 6.80569743 6.36272123 6.30837187 5.51706011 5.49488082\n",
      " 5.9938845  5.11231648 6.30416786 5.06038401 5.62917613 6.0450822\n",
      " 6.31839926 5.95392865 5.69205986 5.76085625 5.91054029 6.33884136\n",
      " 5.84234211 5.30682988 6.34207541 6.07835767 5.35802434 5.74995286\n",
      " 6.65384454 5.51831899 5.45043884 5.42573463 5.28769166 5.98947266\n",
      " 5.69238541 6.01544356 5.58012052 6.42362341 6.21453021 4.95483051\n",
      " 6.3123593  5.67049472 6.02507836 5.73629094 6.03338292 5.887173\n",
      " 5.80571979 5.7695702  4.63521998 5.62717358 6.48531989 5.49254278\n",
      " 5.74097854 6.06770252 5.42969883 5.79318611 6.39043231 5.37447845\n",
      " 6.5301959  5.4753274  6.0450822  5.2604261  5.14423901 5.23722478\n",
      " 5.38062987 6.35485662 5.65682535 5.80668431 5.69175273 5.55537501\n",
      " 6.11368099 6.20370148 6.07383762 4.80040606 6.32341028 6.15378192\n",
      " 5.11755674 5.45738393 5.23699561 5.52096505 5.49404894 5.69795984\n",
      " 6.30286811 5.43294825 5.8222802  5.25513126 6.13283689 5.5672546\n",
      " 6.6559752  5.178571   5.62949804 5.29539845 6.40020301 5.45013692\n",
      " 5.86595571 5.59898767 4.95793484 6.49218917 5.6444154  5.98248887\n",
      " 5.44592266 5.94602653 6.70613638 5.55537501 6.41580137 6.04081632\n",
      " 5.365297   5.65444604 6.48527404 6.18096018 5.74078665 5.62800267\n",
      " 6.32964331 5.9374111  5.82933253 5.38420705 5.51279563 6.11826542\n",
      " 5.98974273 5.63262865 5.99327754 5.50730658 6.05870031 6.42939678\n",
      " 5.43077531 5.72471829 5.60108961 6.08372453 5.70603194 5.88117768\n",
      " 6.80675086 5.85542    5.88132152 6.24517201 5.65523683 5.77668146\n",
      " 6.33655866 5.95233447 5.52013505 5.66033564 5.93020752 5.49907035\n",
      " 5.98638712 6.67663731 5.48935253 6.89979174 6.09861979 5.69197797\n",
      " 5.83855484 5.61995219 6.025967   5.46506487 5.81459661 6.48490387\n",
      " 5.5754619  5.51989502 5.80857416 5.8425833  5.50670717 6.35701135\n",
      " 5.55789617 5.58965129 5.9677307  6.40752703 5.90151056 6.07577643\n",
      " 5.4552246  6.00471369 6.21316036 5.87453293 5.55928452 5.08453377\n",
      " 5.76894954 5.27943182 6.40186944 6.00846496 5.63188157 6.02837998\n",
      " 6.51059997 5.10218795 5.32897818 6.1178881  5.82524415 6.3506648\n",
      " 6.01044675 5.4539684  5.3609396  6.00680644 6.19961552 6.8322738\n",
      " 5.4584874  5.79799924 5.57009351 5.86869686 5.42791479 5.93838129\n",
      " 6.29739201 4.87549793 5.76802071 5.92960864 5.48683942 5.78378385\n",
      " 5.46821187 5.83523119 5.0366791  6.09442988 6.76517118 5.30678707\n",
      " 6.34917983 5.59643081 5.51255393 5.66888676 5.88390542 6.06106731\n",
      " 6.34610861 5.79146855 5.8625879  5.72643189 6.29897638 5.42558378\n",
      " 6.04811315 5.93984086 5.12845825 5.05327844 5.92741426 5.39689655\n",
      " 5.46220981 5.4256214  5.8938464  6.01774337 5.89243152 5.34181627\n",
      " 6.06812193 5.60861374 5.66027455 6.07524165 6.24762863 5.70810797\n",
      " 5.0551231  6.7298475  6.32480236 5.61971202 6.02092688 6.04285336\n",
      " 6.0722148  5.79146048 5.94429808 5.81459661 5.95883616 5.15814111\n",
      " 5.20443648 5.14713049 5.47254395 5.71099457 5.98098541 6.26244443\n",
      " 5.96343661 6.04621784 4.88034977 5.00971913 5.91377605 5.73165504\n",
      " 5.81500319 6.01736427 5.55294845 5.7749731  5.69366959 5.70682718\n",
      " 6.01474303 5.47670424 5.55499112 6.03905965 5.46851775 5.89955392\n",
      " 4.47746161 5.20573077 6.18216146 6.35817322 6.11535973 5.34854113\n",
      " 5.7106961  5.70700906 5.57682432 6.12113821 6.23570141 6.35814893\n",
      " 6.24698085 5.98505553 6.49412721 5.88427772 5.64165846 5.80063082\n",
      " 6.06728112 6.3738637  5.70197116 5.25611596 6.03037422 5.14238161\n",
      " 6.27038773 4.39836631 5.03929214 6.07516016 6.21428955 4.71858641\n",
      " 6.56663426 5.58434491 6.3562951  5.34809798 5.56243821 5.58269701\n",
      " 6.07560031 5.29606032 6.06157493 5.43858187 5.74593905 5.8457369\n",
      " 5.60357609 5.93157673 5.82281016 6.08872414 6.33611025 5.79376745\n",
      " 5.78678036 5.27072532 5.71159678 5.33858633 6.0064326  5.79886664\n",
      " 6.28455862 5.96437778 5.56424736 6.01591316 5.77051437 5.67868109\n",
      " 6.36272123 6.50704371 5.26048258 6.4253169  5.74156065 4.95856684\n",
      " 4.87343069 5.81936255 5.87658342 5.4811878  6.49033    6.97769195\n",
      " 5.20485829 5.45621042 5.76330593 6.44229801 6.55655168 5.75849309\n",
      " 5.50052003 5.45003285 5.0764923  5.42802916 5.77005945 5.927651\n",
      " 5.69210915 5.19305761 6.37892297 5.65760361 5.85414207 5.56436151\n",
      " 6.5386855  5.64264526 5.70622922 6.19374243 5.73253095 5.62066925\n",
      " 6.05342073 5.25288172 6.19893898 5.6170528  6.28394848 5.76700658\n",
      " 6.46685172 5.99327754 6.3655015  5.78446456 6.71257779 6.17427155\n",
      " 5.43646276 5.92837982 5.93629363 5.7544519  5.9648014  5.99204388\n",
      " 5.79075496 6.04537675 6.95912002 6.43964825 5.6876504  5.54384181\n",
      " 6.21170553 6.03338292 5.35340048 5.26940267 6.03866217 5.52336845\n",
      " 6.8168818  6.44197522 6.12418088 4.9706167  5.39578678 5.51596469\n",
      " 6.04840875 5.89308404 5.56305091 5.28484958 6.59021314 6.06413761\n",
      " 5.72120318 5.21538288 5.63187089 4.67055518 5.27187435 4.16105232\n",
      " 5.48908494 6.69556491 5.17048656 6.0309129  6.11243279 5.06808238\n",
      " 6.35648737 5.45127408 5.89125846 5.63349909 5.40099379 5.96540292\n",
      " 5.80145842 6.08591582 6.61193238 5.73704298 5.29332227 6.06456056\n",
      " 6.91611892 5.75304303 5.56605027 6.40612489 5.56571269 5.85486294\n",
      " 5.12913574 5.52593688 5.98084683 6.02426104 5.22844959 6.99953647\n",
      " 5.39229861 6.5535261  6.24762863 6.1196424  5.70440225 5.43619983\n",
      " 5.94892761 5.26511751 5.52733597 5.7323666  5.73071439 5.72738085\n",
      " 5.75411108 6.7828264  6.23296051 5.39061114 6.29983531 6.1174072\n",
      " 5.42884873 5.87536687 5.47099742 5.80719648 6.26285494 6.46836083\n",
      " 5.51249654 5.91976882 5.81185757 5.2048428  5.85894979 4.70772484\n",
      " 6.318899   5.7657781  5.75856741 5.71737815 5.88130777 5.64116864\n",
      " 5.61693641 5.88409203 5.50679063 5.95101571 6.10573245 5.50443916\n",
      " 5.73722057 6.21239352 5.82699452 5.4176268  5.64702051 5.26015792\n",
      " 5.46498344 5.21404583 5.72605696 6.00710773 5.42453597 6.09192457\n",
      " 5.25304847 5.54401274 6.70292947 5.76397827 6.13386796 6.88211689\n",
      " 5.2600256  5.44160258 6.40368069 5.40241153 5.50194642 6.40113937\n",
      " 6.09705566 6.64551765 6.47612157 6.04515729 5.52852643 6.66709799\n",
      " 5.41421635 6.12165646 6.26948341 5.49156266 5.75168374 6.3393214\n",
      " 6.01247252 5.83636873 6.36314057 6.60968572 6.46316632 5.8831513\n",
      " 5.51570058 5.38151532 6.06525444 5.60038493 6.06622419 5.64024851\n",
      " 5.78327433 6.22087415 5.58965129 5.41876915 5.54299965 6.45971216\n",
      " 6.32700454 5.91942954 5.87901883 5.95371578 6.16745322 4.7408497\n",
      " 6.12027559 6.24831271 4.89982841 6.66071972 6.14847814 5.75815022\n",
      " 5.29008362 5.41738214 5.85866818 5.34696206 5.365297   6.35497752\n",
      " 5.69863866 6.4952859  6.296182   5.85459789 5.8658432  6.32602962\n",
      " 5.37655356 4.63545012 5.31172737 6.41207624 5.16440762 6.24655171\n",
      " 5.52233697 6.26203994 5.1278593  6.75320442 6.51980084 6.06728112\n",
      " 5.28769166 5.44459418 6.60328577 6.40091636 5.44428785 6.18922765\n",
      " 6.59567033 5.255197   5.67622175 4.8565885  6.21847821 6.04621784\n",
      " 5.76794556 5.82326615 5.71099457 5.71392249 6.26157785 4.81052204\n",
      " 5.72923535 5.81699418 5.45000183 6.05953519 4.97002597 6.32006158\n",
      " 5.73352802 4.98449687 5.70196191 4.54783183 6.20919704 5.49190622\n",
      " 5.05117304 6.45769055 6.33819684 5.68076801 6.58608893 6.27441117\n",
      " 6.23793044 5.9341335  5.63730637 5.57806792 6.39736982 5.79104664\n",
      " 5.2217625  6.07524165 5.7655383  6.16317885 6.89979174 6.74577636\n",
      " 6.88419503 5.52736407 5.60760841 5.55152234 6.45390303 5.76980302\n",
      " 5.04751442 5.2873496  5.17496166 5.4508188  5.16485882 5.89298702\n",
      " 5.76577072 6.57101437 6.11495124 6.26136753 6.55901614 5.38246618\n",
      " 5.45349434 6.50708044 6.4977736  5.78608871 5.79465451 6.53389972\n",
      " 5.47447673 6.63895635 5.03500805 5.96678066 5.68174437 5.68002295\n",
      " 5.51570058 5.75415814 5.77429024 5.91998695 6.78837427 6.00505841\n",
      " 5.12267946 6.31778925 6.25610722 5.84811668 6.18873116 5.86879554\n",
      " 5.19360971 5.92837982]\n"
     ]
    }
   ],
   "source": [
    "from sklearn.svm import SVR\n",
    "svr1= SVR(kernel='linear')\n",
    "svr1.fit(X_train,Y_train)\n",
    "svr1_pred=svr1.predict(X_test)\n",
    "print (svr1_pred)"
   ]
  },
  {
   "cell_type": "code",
   "execution_count": 40,
   "metadata": {},
   "outputs": [
    {
     "name": "stdout",
     "output_type": "stream",
     "text": [
      "Mean Absolute Error: 0.5988930253693481\n",
      "Mean Squared Error: 0.5981569384015695\n",
      "Root Mean Squared Error: 0.7734060630752577\n",
      "R-Square:  0.23802270315037766\n",
      "Intercept:  [1.2940934]\n",
      "Coefficients:  [[-0.05096979 -2.08631379  0.02543601  0.00366978 -0.22510815  0.39641576\n",
      "   0.4386685   0.37335412]]\n"
     ]
    }
   ],
   "source": [
    "print('Mean Absolute Error:', mean_absolute_error(Y_test, svr1_pred))\n",
    "print('Mean Squared Error:', mean_squared_error(Y_test, svr1_pred))\n",
    "print('Root Mean Squared Error:', np.sqrt(mean_squared_error(Y_test, svr1_pred)))\n",
    "print('R-Square: ',r2_score(Y_test, svr1_pred))\n",
    "print('Intercept: ',svr1.intercept_ )\n",
    "print('Coefficients: ',svr1.coef_ )"
   ]
  },
  {
   "cell_type": "markdown",
   "metadata": {},
   "source": [
    "USING PCA"
   ]
  },
  {
   "cell_type": "code",
   "execution_count": 41,
   "metadata": {},
   "outputs": [],
   "source": [
    "from sklearn.preprocessing import StandardScaler\n",
    "sc=StandardScaler()\n",
    "sc_X_train= sc.fit_transform(X_train)\n",
    "sc_X_test= sc.transform(X_test)\n"
   ]
  },
  {
   "cell_type": "code",
   "execution_count": 42,
   "metadata": {},
   "outputs": [],
   "source": [
    "from sklearn.decomposition import PCA\n",
    "pca=PCA(.95)\n",
    "pca_X_train = pca.fit_transform(sc_X_train)\n",
    "pca_X_test = pca.transform(sc_X_test)\n",
    "df=pd.DataFrame(pca.components_)"
   ]
  },
  {
   "cell_type": "code",
   "execution_count": 43,
   "metadata": {},
   "outputs": [
    {
     "name": "stdout",
     "output_type": "stream",
     "text": [
      "Principal : [[ 0.19933754 -0.01080888  0.51698018  0.26268506  0.58952489 -0.18376761\n",
      "   0.01786566 -0.49218539]\n",
      " [-0.58664165 -0.10484763  0.06437923  0.33053157  0.09058607  0.63570704\n",
      "   0.32775436 -0.10821531]\n",
      " [-0.31011637  0.82879374  0.22700214 -0.15747117  0.07515088  0.08949439\n",
      "  -0.3521138   0.05441143]\n",
      " [ 0.27772809  0.39060101 -0.0463973  -0.29839934  0.0991666   0.05000872\n",
      "   0.81615605  0.02564177]\n",
      " [ 0.02101885  0.27971988 -0.01582795  0.79082532 -0.21070793 -0.3592361\n",
      "   0.18552023  0.29629989]\n",
      " [ 0.60533777  0.19378924 -0.31500665  0.28287041  0.07223226  0.58317129\n",
      "  -0.25523222 -0.07948151]\n",
      " [ 0.21204201 -0.18157612  0.57716156 -0.04858034  0.11544974  0.249059\n",
      "  -0.0219481   0.71466918]]\n",
      "Amount of Variance:  [2.63036694 1.41963915 1.06897086 0.97571547 0.80642461 0.55860193\n",
      " 0.51902844]\n",
      "Percentage of Varince:  [0.32871195 0.1774096  0.13358725 0.1219333  0.10077735 0.06980742\n",
      " 0.064862  ]\n",
      "Singular values:  [101.50442019  74.57027918  64.70825961  61.82133514  56.20289323\n",
      "  46.77653016  45.08918293]\n",
      "Estimated No. of Components:  7\n"
     ]
    }
   ],
   "source": [
    "print('Principal :', pca.components_)\n",
    "print('Amount of Variance: ', pca.explained_variance_)\n",
    "print('Percentage of Varince: ', pca.explained_variance_ratio_)\n",
    "print('Singular values: ', pca.singular_values_)\n",
    "print('Estimated No. of Components: ', pca.n_components_)\n",
    "#print (pd.DataFrame(pca.n_components_))"
   ]
  },
  {
   "cell_type": "code",
   "execution_count": 44,
   "metadata": {},
   "outputs": [
    {
     "name": "stdout",
     "output_type": "stream",
     "text": [
      "Principal : [[ 0.19933754 -0.01080888  0.51698018  0.26268506  0.58952489 -0.18376761\n",
      "   0.01786566 -0.49218539]\n",
      " [-0.58664165 -0.10484763  0.06437923  0.33053157  0.09058607  0.63570704\n",
      "   0.32775436 -0.10821531]\n",
      " [-0.31011637  0.82879374  0.22700214 -0.15747117  0.07515088  0.08949439\n",
      "  -0.3521138   0.05441143]\n",
      " [ 0.27772809  0.39060101 -0.0463973  -0.29839934  0.0991666   0.05000872\n",
      "   0.81615605  0.02564177]\n",
      " [ 0.02101885  0.27971988 -0.01582795  0.79082532 -0.21070793 -0.3592361\n",
      "   0.18552023  0.29629989]\n",
      " [ 0.60533777  0.19378924 -0.31500665  0.28287041  0.07223226  0.58317129\n",
      "  -0.25523222 -0.07948151]]\n",
      "Amount of Variance:  [2.63036694 1.41963915 1.06897086 0.97571547 0.80642461 0.55860193]\n",
      "Percentage of Varince:  [0.32871195 0.1774096  0.13358725 0.1219333  0.10077735 0.06980742]\n",
      "Singular values:  [101.50442019  74.57027918  64.70825961  61.82133514  56.20289323\n",
      "  46.77653016]\n",
      "Estimated No. of Components:  6\n"
     ]
    }
   ],
   "source": [
    "from sklearn.decomposition import PCA\n",
    "pca=PCA(.90)\n",
    "pca_X_train = pca.fit_transform(sc_X_train)\n",
    "pca_X_test = pca.transform(sc_X_test)\n",
    "\n",
    "print('Principal :', pca.components_)\n",
    "print('Amount of Variance: ', pca.explained_variance_)\n",
    "print('Percentage of Varince: ', pca.explained_variance_ratio_)\n",
    "print('Singular values: ', pca.singular_values_)\n",
    "print('Estimated No. of Components: ', pca.n_components_)"
   ]
  },
  {
   "cell_type": "code",
   "execution_count": 45,
   "metadata": {},
   "outputs": [
    {
     "name": "stderr",
     "output_type": "stream",
     "text": [
      "D:\\Anaconda3\\lib\\site-packages\\sklearn\\svm\\base.py:196: FutureWarning: The default value of gamma will change from 'auto' to 'scale' in version 0.22 to account better for unscaled features. Set gamma explicitly to 'auto' or 'scale' to avoid this warning.\n",
      "  \"avoid this warning.\", FutureWarning)\n"
     ]
    },
    {
     "name": "stdout",
     "output_type": "stream",
     "text": [
      "[5.73143929 5.83353831 5.11074853 5.76128388 5.92062537 5.79835447\n",
      " 4.97537895 5.96127779 6.06283604 5.13892578 5.9464934  6.35295853\n",
      " 6.02653097 4.85234593 6.10132612 5.85074418 6.03836579 6.4245234\n",
      " 6.69944582 4.88972486 6.04376708 6.78259422 6.63266465 5.88738152\n",
      " 5.57875194 5.13004719 5.92997138 6.57389793 6.7037067  6.08296944\n",
      " 5.88709931 5.19780069 5.65841707 6.0689618  5.74588899 4.74210033\n",
      " 5.09212551 6.91351438 5.07507252 6.61976061 6.45277575 6.23710903\n",
      " 5.57936733 5.21109757 5.36012423 5.62659471 4.27695183 5.87539093\n",
      " 6.31585083 6.58753334 6.15313207 5.69397878 5.87853363 5.56220287\n",
      " 6.11726855 5.95067106 7.32853023 5.10032358 6.47287957 5.92677847\n",
      " 5.82318921 6.25234403 6.41496741 4.922433   6.90011139 5.33339152\n",
      " 5.94476332 6.14097922 7.06042469 5.9963686  6.80557198 5.72348177\n",
      " 5.00836734 5.634952   5.71327239 6.10323207 5.31291198 5.72716507\n",
      " 6.1614892  5.10009488 5.66392432 5.8789108  6.27501416 6.02461954\n",
      " 5.44496435 5.6274559  5.76828794 5.77001789 6.07554457 5.54077814\n",
      " 5.94919902 6.42203378 5.66650272 5.55311482 5.6714761  5.49747326\n",
      " 5.99923782 6.01728999 6.13974845 4.98087389 6.19554667 5.38113413\n",
      " 5.87524415 5.49118637 6.00345759 6.18903441 5.64297649 5.30687272\n",
      " 5.08788388 5.24696354 5.96944611 7.115195   5.72839464 5.7558391\n",
      " 5.87742189 5.50577586 6.23271631 6.14305455 5.93602832 5.64987439\n",
      " 6.11407268 5.51138781 5.45017525 6.08289501 5.84102106 5.41182067\n",
      " 5.84064647 5.39206111 5.98979414 5.84812406 4.86433785 5.66789156\n",
      " 6.07330842 5.59748935 5.47756703 6.20827608 6.30618731 5.4728279\n",
      " 6.57280588 6.15291198 5.83969528 5.71031129 5.22661802 5.68859084\n",
      " 5.75306221 5.96858598 5.92597281 5.71182513 5.4451967  6.100333\n",
      " 6.56541591 6.15674634 6.14868277 6.02038407 5.13386074 6.41135628\n",
      " 5.93419492 5.67474858 6.43276837 5.89508254 6.10587402 5.95544514\n",
      " 6.09064731 7.00100861 5.0997537  5.30367489 4.99329672 5.52008031\n",
      " 5.55122232 7.01721829 5.40150747 5.07643512 5.31614434 5.66789156\n",
      " 5.342145   6.07547465 6.07009289 6.75021104 5.53685495 5.67085822\n",
      " 5.95268843 6.00373732 6.7051367  5.3212057  5.69942897 5.14889535\n",
      " 6.38745645 4.7873473  6.49646686 6.04468104 6.35183154 4.99036489\n",
      " 5.51135143 5.98804391 5.60473662 6.05327116 5.29208264 5.89050646\n",
      " 5.12399822 5.41230072 6.29478703 5.20480052 5.61066743 6.15814427\n",
      " 5.08631305 5.77106017 6.89141099 6.09402789 5.20934895 6.32452629\n",
      " 6.18438568 6.02813178 5.79062756 6.08096574 5.41289828 5.06874558\n",
      " 6.32597697 6.8154744  5.06388936 4.78660655 6.19082433 5.33775025\n",
      " 6.1963328  4.88922991 5.53818887 6.27297035 6.28356713 6.0343612\n",
      " 5.34073195 5.48601023 5.63477684 6.03102042 4.87835128 5.30080921\n",
      " 5.09993548 5.03122359 5.7582453  5.61611273 6.95862039 6.10017562\n",
      " 6.2229286  5.87766681 5.95339628 5.87592547 5.46795495 5.50271673\n",
      " 7.12320236 5.59373568 6.54786299 6.28922414 6.36379258 5.86752923\n",
      " 5.70784506 5.10238807 5.82280721 5.98114152 4.96289807 6.56242652\n",
      " 6.23310687 6.05615321 5.72166206 6.3775159  5.37212316 4.91388086\n",
      " 5.48256892 6.10939942 6.15209366 6.89651485 6.02800867 5.33503516\n",
      " 5.29788966 4.66609496 4.91387842 5.77829017 6.03971354 5.49638495\n",
      " 5.56186065 6.36508472 5.92566899 5.91265055 4.61922523 6.0671124\n",
      " 5.98523556 6.10820554 5.1000478  6.05431737 6.05378898 5.02763945\n",
      " 5.50970083 5.9595173  7.16060289 5.64139898 6.33802504 5.45154557\n",
      " 6.72932703 5.82345334 5.87436257 6.39092771 5.62414943 5.07876878\n",
      " 6.00437704 6.44361064 5.78719207 5.57770356 5.71693235 5.6488907\n",
      " 6.00581884 5.70947383 6.13529223 5.62763056 4.922433   5.83272478\n",
      " 5.12501292 7.05636206 6.12138958 6.20554774 5.62487802 6.02242877\n",
      " 6.3026107  5.3413188  6.10663892 4.92175047 6.85039536 5.85972731\n",
      " 6.56852218 5.90742803 5.74925118 5.94522115 5.95777929 5.88168398\n",
      " 5.88807158 6.02971052 6.37120283 5.9425142  5.13892578 5.97775346\n",
      " 6.37091516 4.9489453  5.03647545 6.01830345 5.05163397 6.1403494\n",
      " 6.10546779 5.81209736 5.65665239 5.75258177 5.76569325 5.41207186\n",
      " 6.11225035 5.1034146  6.38047851 5.82842562 6.20724685 6.61790998\n",
      " 5.94712464 6.05395259 4.60802866 5.51362701 6.06872523 5.7207814\n",
      " 6.42960199 6.84898029 5.6527095  5.30851574 6.72549335 5.64435922\n",
      " 6.68003886 6.05857231 5.85972731 6.23731936 5.27558907 6.11697484\n",
      " 5.65603362 6.14419148 5.37947287 5.84518849 5.66622801 5.85909659\n",
      " 5.95341778 5.98804391 6.27620155 5.19418319 6.01338437 5.90040982\n",
      " 4.9647665  5.67872031 5.98798628 5.09109733 6.04759664 6.48807374\n",
      " 5.95756804 5.64701959 5.97273648 6.11739811 5.14279606 5.90010216\n",
      " 5.76404706 5.30761594 5.8920198  5.5571849  5.36619093 5.30594046\n",
      " 6.18474407 5.55846625 5.46367748 6.04151665 5.82173385 5.80680003\n",
      " 4.99797152 5.57614281 6.2917263  5.85909659 6.40225652 5.52287259\n",
      " 6.02255705 5.15356851 6.59932051 6.70056415 5.91629005 6.02414301\n",
      " 5.89978333 5.85733834 6.06786977 5.54262865 5.59313463 5.87827376\n",
      " 4.53139582 5.99972669 6.35529696 5.18415573 6.16644025 6.03386114\n",
      " 6.89986583 5.87275289 5.43207533 6.07959632 5.99267613 5.87279077\n",
      " 6.21931771 6.18310744 5.79771221 6.56013816 5.27069362 4.90481742\n",
      " 5.9729439  5.95579459 6.23310687 5.77254403 6.05700445 5.74386228\n",
      " 6.01424959 6.85424638 5.5403676  5.94826919 6.00349026 5.68386902\n",
      " 5.92775548 5.91556756 6.09983072 5.56628538 5.98660792 6.61039142\n",
      " 5.86658108 5.88825106 5.79521481 5.89723541 5.43909114 5.85338916\n",
      " 5.90004278 6.10820554 6.03069185 6.92380379 5.55103127 6.11060439\n",
      " 5.28870867 5.45993182 5.98158826 5.48229443 5.26373939 5.00033559\n",
      " 5.77177049 5.41182067 5.75302933 5.97262154 5.43514729 6.09921162\n",
      " 6.16644442 5.9220356  5.47576652 6.64176745 5.99281396 6.00629646\n",
      " 5.54394388 5.6642765  5.59426962 6.04534859 5.91942546 6.36583757\n",
      " 5.32111878 5.27226594 5.29984291 6.14079336 5.56788848 5.33437502\n",
      " 6.05714824 5.67710505 6.03259167 5.99190588 5.23223847 6.10439146\n",
      " 5.69666439 5.9777987  4.98270454 5.79594698 6.46955983 5.84292706\n",
      " 6.10547492 5.46168814 5.50761759 5.49779866 5.99954688 6.46620135\n",
      " 6.195127   6.21817793 5.76268623 5.42619968 5.53234948 4.98491212\n",
      " 6.32646256 5.89967424 5.01212311 4.94659427 5.45587788 4.87385966\n",
      " 5.12501292 5.27135333 6.0761195  6.1723252  6.13566986 6.6010714\n",
      " 6.02441132 5.4531126  6.08094233 6.08340799 6.2324677  5.51946457\n",
      " 4.99819904 6.70734755 5.95828925 5.34547227 6.067181   5.36324252\n",
      " 6.09458019 5.96437899 4.95633669 5.98660792 6.10939942 4.98905555\n",
      " 5.42172587 5.83885935 4.92039559 5.83370079 5.96615467 5.73709844\n",
      " 5.92597281 5.80268789 5.2465533  4.83716046 5.94574474 5.83055421\n",
      " 5.40220184 6.27992414 6.18067887 6.36812626 5.71397632 5.93258743\n",
      " 5.95073483 5.37521064 6.00126766 5.85512297 5.1379661  5.70259593\n",
      " 4.4066019  6.06076446 6.07213725 6.03971354 6.19314849 5.49888861\n",
      " 5.92980722 5.92744374 5.6772966  6.17702408 6.37196916 5.30478274\n",
      " 6.20606476 6.04138266 6.10300813 6.21117585 5.52668881 5.76828794\n",
      " 6.03615945 6.32670644 5.87098898 5.5272254  6.22502388 5.92506793\n",
      " 5.37603317 5.14018947 5.28333429 5.707665   5.89508254 4.74676602\n",
      " 6.89567839 4.93657157 5.91116158 6.00458233 5.44852361 5.24144363\n",
      " 5.4977635  5.10046702 5.95564554 5.39914044 5.4585858  6.04718513\n",
      " 6.26917452 5.62875224 5.79471487 6.23207897 6.1378218  5.95082694\n",
      " 5.25900828 5.81619489 6.10473459 5.59128008 5.98204964 5.84723493\n",
      " 5.98779484 5.90006826 5.13004719 4.84098154 5.58895447 6.26968571\n",
      " 6.12138958 6.28675522 5.52266432 6.06283604 5.93203679 5.47552763\n",
      " 4.93921354 5.70747323 6.00698766 5.87658007 6.11896702 6.76916516\n",
      " 5.1569308  5.38644988 6.04974076 6.5537886  6.26702428 6.64468847\n",
      " 5.42206668 5.14463186 4.89117801 5.85339766 5.78288707 5.84757732\n",
      " 5.42444054 4.94234763 6.36387689 6.24954336 5.29640716 5.45823529\n",
      " 6.62211816 5.8793998  5.98419746 6.21620797 6.18775613 6.01462731\n",
      " 6.69146826 6.17680477 6.33704635 5.63927463 6.0998737  5.62909734\n",
      " 6.3910693  6.35529696 6.49845179 5.86443769 5.94557001 6.62748168\n",
      " 5.11703804 6.00896653 5.71560574 5.80650087 5.72578506 6.09668356\n",
      " 5.55715779 4.87057992 7.20304832 6.46445351 6.06478345 6.4301821\n",
      " 6.07248961 6.20724685 5.3975405  5.22031038 6.0226005  5.40406815\n",
      " 6.70066729 6.1836818  6.08536883 4.8803931  5.40150747 5.54994387\n",
      " 6.35831381 5.93148251 5.83324791 5.36632121 6.56382813 5.61186376\n",
      " 5.86079104 5.21213207 6.64512669 4.70530264 4.99976037 5.00997383\n",
      " 4.72495482 6.09968967 5.23026003 5.7460178  5.806605   4.85735108\n",
      " 5.98843123 5.80573892 6.05727619 5.52576376 5.12806022 5.95067106\n",
      " 6.08607173 6.3085607  6.55792075 5.89995643 5.05203888 6.67848867\n",
      " 6.52653216 6.05394818 5.06247965 6.09154101 4.89641397 5.9113779\n",
      " 5.64510065 5.74676136 6.09783721 6.1084041  4.99992461 5.87436257\n",
      " 5.41648929 6.31830318 6.2324677  6.19694552 4.900125   5.13058765\n",
      " 5.58858992 5.93177953 5.39052123 6.08153281 5.99136313 5.92847734\n",
      " 5.66409866 5.99174505 5.98034518 5.16158971 5.8645326  6.74994917\n",
      " 5.52881109 6.18842314 5.14242255 5.15792983 5.69248024 6.69000064\n",
      " 5.28843764 6.02927863 5.92566899 4.98980154 5.89988194 5.6137942\n",
      " 6.01449114 5.93818459 5.83584006 6.10017562 6.15164722 5.84305372\n",
      " 5.85510185 5.77375026 5.21821291 5.52810079 6.70844237 5.2551933\n",
      " 6.29335487 6.59143858 5.86080925 5.23551869 5.79848287 4.89543434\n",
      " 5.75791305 5.01300346 5.93697217 5.96216525 5.20285201 6.20880438\n",
      " 5.54612386 5.50447331 5.27204784 5.30417213 6.18584595 5.50324618\n",
      " 5.57968712 5.03336636 5.94052387 5.25003057 5.64549479 5.1857439\n",
      " 6.45592496 6.8478538  6.90011139 5.83150286 5.82004878 6.10201649\n",
      " 5.1818293  6.01565275 6.67541098 5.30379006 5.86700869 6.55037168\n",
      " 6.05087844 5.90750501 6.22761346 5.91754801 6.72911957 5.45433086\n",
      " 6.01806363 5.30280001 6.00396289 6.03834865 5.89662175 5.85915459\n",
      " 5.18498179 6.09526425 6.10820554 7.03084279 5.22438684 6.44207875\n",
      " 6.07163936 5.84658455 6.07554457 5.73260611 6.00587223 4.44416546\n",
      " 5.93546512 6.02383476 5.1659396  6.74903838 5.74721217 6.25404953\n",
      " 5.56937304 5.13067743 6.05826964 4.96850011 6.02255705 6.13985333\n",
      " 6.33893549 6.13791916 6.6854164  5.99979768 5.58486475 6.16385839\n",
      " 6.10587402 4.84800765 6.05129787 6.64287187 5.52864965 5.40637785\n",
      " 5.94820233 6.07883527 5.10009718 6.67382119 6.25136946 6.03615945\n",
      " 5.05163397 5.2199378  6.08769095 6.79597249 5.47936015 5.83495545\n",
      " 7.24937784 5.56943116 5.94284875 4.79643543 6.30722091 5.80268789\n",
      " 5.15874717 5.58283515 5.83370079 6.09723737 5.82050815 5.38721193\n",
      " 5.92131282 5.7315122  5.08924622 5.84225261 5.40292134 6.0686146\n",
      " 5.66272362 4.88972486 5.42673158 4.52756773 5.47203528 5.44520245\n",
      " 5.5011161  6.25595439 5.75711177 5.46705705 6.86693944 5.40212818\n",
      " 6.25092495 6.11413835 6.56684615 5.83304746 6.06700337 5.49081522\n",
      " 4.97644263 6.08340799 6.13222135 6.01211478 5.94826919 7.02346196\n",
      " 6.65388861 5.03781931 5.83073683 5.40414729 5.50531451 5.87766681\n",
      " 4.90761399 5.50681072 4.79146659 6.31960515 5.54846174 5.8469724\n",
      " 6.02700506 6.20436774 6.33804118 6.35925961 6.37434232 5.69812872\n",
      " 5.12048275 6.95462911 6.63266465 5.52433223 5.09480366 6.09178226\n",
      " 5.51766412 6.54365872 4.73276142 5.60799399 5.94113535 5.30529512\n",
      " 6.01806363 5.95102484 5.61835772 5.89955101 6.74111672 5.89971005\n",
      " 5.37410819 5.95183864 7.07567694 5.89128295 6.1740796  6.16049493\n",
      " 5.13109945 6.00896653]\n"
     ]
    }
   ],
   "source": [
    "from sklearn.svm import SVR\n",
    "svr2= SVR(kernel='rbf')\n",
    "svr2.fit(pca_X_train,Y_train)\n",
    "svr2_pred=svr2.predict(pca_X_test)\n",
    "print (svr2_pred)"
   ]
  },
  {
   "cell_type": "code",
   "execution_count": 46,
   "metadata": {},
   "outputs": [
    {
     "name": "stdout",
     "output_type": "stream",
     "text": [
      "Mean Absolute Error: 0.560127303211865\n",
      "Mean Squared Error: 0.5612391014592232\n",
      "Root Mean Squared Error: 0.749158929372949\n",
      "R-Square:  0.28505142052016397\n",
      "Intercept:  [5.53133075]\n"
     ]
    }
   ],
   "source": [
    "print('Mean Absolute Error:', mean_absolute_error(Y_test, svr2_pred))\n",
    "print('Mean Squared Error:', mean_squared_error(Y_test, svr2_pred))\n",
    "print('Root Mean Squared Error:', np.sqrt(mean_squared_error(Y_test, svr2_pred)))\n",
    "print('R-Square: ',r2_score(Y_test, svr2_pred))\n",
    "print('Intercept: ',svr2.intercept_ )\n",
    "#print('Coefficients: ',svr1.coef_ )"
   ]
  },
  {
   "cell_type": "code",
   "execution_count": 47,
   "metadata": {},
   "outputs": [
    {
     "name": "stdout",
     "output_type": "stream",
     "text": [
      "[5.57649187 5.63819726 5.35855772 5.62935692 5.60177974 5.72435187\n",
      " 5.45968425 5.39170007 6.47136749 5.27807912 5.64387101 6.07365474\n",
      " 6.43692494 5.31753823 6.30590778 5.74503114 6.3491481  6.07707969\n",
      " 6.4080911  5.28159242 5.61964955 6.49283228 5.96917184 5.83331027\n",
      " 5.76014798 5.56392587 5.36509098 5.87620807 6.25134202 5.83078035\n",
      " 5.88373738 5.34871455 5.72589466 6.17129601 5.30877041 5.34196581\n",
      " 5.6470665  6.32064758 5.42470622 5.91825043 6.2144482  6.2131376\n",
      " 5.74645098 5.35503041 5.65723221 5.86330344 4.42959988 5.83164211\n",
      " 6.45503296 5.86633648 6.33876027 5.79528014 5.94469005 5.76983892\n",
      " 6.33961917 5.85246641 6.86364154 5.59987378 6.59122457 5.62224732\n",
      " 6.04711691 6.22211905 6.42645339 5.28360668 6.67156617 5.53325792\n",
      " 5.88556479 6.14261314 6.25984733 5.56110746 5.47064598 5.65578847\n",
      " 5.45028427 5.75446836 6.08928218 6.10586441 5.71001666 5.551087\n",
      " 6.40058834 5.3041426  5.91688355 5.84988274 6.06162089 6.02484449\n",
      " 5.44662683 5.7652616  5.76221212 5.71294135 5.94831515 5.74410498\n",
      " 5.80342195 6.21539968 5.57792194 5.8385041  5.95771328 5.90215576\n",
      " 6.01264007 6.07515759 6.12945457 5.52084435 6.10212982 5.73229882\n",
      " 5.98305408 5.64695365 6.18681545 5.98328079 5.74790728 5.7924663\n",
      " 5.72587351 5.18299015 5.85282808 6.2230298  5.96762253 5.66812755\n",
      " 5.98643412 5.74323527 6.51664206 6.07789759 5.36985875 5.6892318\n",
      " 6.17333434 5.37869135 5.366517   5.9264192  5.30875897 5.69062422\n",
      " 6.0366852  5.86820305 6.05261758 5.22119726 4.90350164 5.46451515\n",
      " 5.69904163 5.78143882 5.59942988 6.22201439 6.32194567 5.54408194\n",
      " 6.41195046 6.17395231 5.96473632 5.41933814 5.4256835  6.10670087\n",
      " 6.01248506 6.19359608 5.94243997 5.38799972 5.80954241 6.13363435\n",
      " 6.3480397  6.22855216 6.20547506 6.17526017 5.32717115 6.20504128\n",
      " 5.62635132 5.47942429 6.04751525 6.08354357 5.53185598 5.78894146\n",
      " 6.36926632 6.41453762 5.38255433 5.5718157  5.40614358 5.65018343\n",
      " 5.6529654  6.14567167 5.46513884 5.23212388 5.10038422 5.46451515\n",
      " 5.6995429  6.38295323 6.33629691 6.10824028 5.88243444 5.95626943\n",
      " 5.62966101 5.98206021 5.88530002 5.89063119 5.6924873  5.75206097\n",
      " 6.13735846 5.36531319 6.22429479 6.05380753 6.30991221 5.2384106\n",
      " 5.71722597 5.93715719 5.87666046 5.91944846 5.44778391 5.90460332\n",
      " 5.38972611 5.64617022 6.17995252 5.38986196 5.92960624 5.84009911\n",
      " 5.56268313 5.81781796 6.03274603 6.07942575 5.55701698 6.08686893\n",
      " 5.96150223 5.27293692 6.26116651 6.03997513 5.5865774  5.4147174\n",
      " 6.169975   6.47649292 5.41662251 4.88141606 6.17854479 5.46609042\n",
      " 6.2066942  5.29312703 5.33828024 5.83179889 6.0035362  5.88252916\n",
      " 5.8321414  5.55639733 5.83769297 6.10473963 5.21765725 5.84568585\n",
      " 5.80732848 5.20760871 5.8549034  5.67975611 6.09498607 5.46171211\n",
      " 6.58750507 5.9446061  5.79140275 5.98224301 5.79264772 5.69621764\n",
      " 6.88351155 5.68038019 5.91445632 5.95940973 6.02024676 5.73110556\n",
      " 6.01786249 5.72355904 5.59476782 5.95582478 5.46302118 6.03263458\n",
      " 5.5680121  5.7765023  5.42974654 5.99206169 5.66448049 5.22857759\n",
      " 5.89663805 5.64185105 5.47442448 5.85978546 5.76457211 5.37659511\n",
      " 5.53677608 5.41793763 5.17326747 5.23826666 5.90807291 5.51720992\n",
      " 5.42134097 6.5209551  5.62009018 5.66127511 4.93164118 6.19124141\n",
      " 5.70129563 5.49467003 5.44694817 5.57665518 6.06783109 5.46803479\n",
      " 5.53874515 6.04378909 6.29823192 6.09252939 6.48690726 5.77368865\n",
      " 5.78840692 5.75983336 5.95103878 6.13075436 5.82974714 5.363694\n",
      " 5.86841079 5.71016205 5.92665204 5.84799447 5.58011653 5.74225606\n",
      " 6.01859368 6.13111115 5.57649979 5.82324196 5.28360668 5.98075858\n",
      " 5.44928832 6.11870816 5.70857727 5.91356093 5.75153743 5.94744292\n",
      " 6.29552802 5.12229274 6.21204376 5.56267595 5.44390158 5.94779656\n",
      " 6.48052453 5.96415568 5.88152437 5.81440521 5.62983083 6.02649918\n",
      " 6.18686744 5.73216426 6.11722636 5.90736837 5.27807912 6.14846169\n",
      " 6.07733738 5.23922691 5.37524972 5.85305138 5.4961291  6.11356624\n",
      " 5.95154932 6.15611041 5.48812261 6.10065286 6.1866183  5.58788647\n",
      " 6.28070423 5.44979131 6.23372805 5.77160156 6.0266942  5.81348984\n",
      " 5.88924362 5.88105375 5.17669244 5.8688365  6.65119417 5.59017193\n",
      " 5.96879852 5.98731242 5.8269093  5.75510694 5.93413526 5.52300807\n",
      " 6.10199809 6.01553473 5.94779656 5.47370294 5.5060502  5.91403025\n",
      " 5.70497139 6.30526778 5.5941947  6.01004625 5.82989685 5.54892085\n",
      " 6.21284315 5.93715719 5.98812968 5.40553545 6.23474464 6.17863306\n",
      " 5.14803279 5.82183996 5.94254718 5.51470385 5.9608378  6.07937756\n",
      " 6.12854306 5.70329402 5.7151759  6.00908294 5.61288693 5.46671119\n",
      " 6.23370445 5.61145835 5.70096413 5.64644091 5.88209106 5.66168563\n",
      " 5.98238077 5.5153002  5.12258523 5.95458607 5.79119721 5.84016262\n",
      " 5.73196497 5.76869802 6.10709034 5.54892085 6.09002578 5.7910451\n",
      " 5.77920114 5.32686954 5.75987985 5.81694114 5.99862351 5.66809749\n",
      " 5.93510369 6.16090738 6.01486093 5.68639142 5.8144444  5.97516062\n",
      " 6.41942525 6.03183819 6.10159825 5.82642063 5.7025281  6.0668541\n",
      " 5.46638813 5.85827536 5.42404613 6.04743984 5.9720281  5.9896942\n",
      " 6.56202418 6.0310128  5.98132714 6.33784099 5.71083191 5.70354063\n",
      " 5.83313868 6.02359183 5.5680121  5.59585259 6.19833319 5.93683402\n",
      " 6.0556191  6.04330481 5.75976519 6.54529382 5.98299022 5.73880908\n",
      " 5.61633187 5.8548015  6.14833744 5.50270386 5.55165846 6.38465338\n",
      " 5.42223547 5.58810256 5.83301321 5.78673791 5.44692083 5.98728309\n",
      " 5.45784491 5.49467003 5.746333   6.25862416 5.7490202  6.19466776\n",
      " 5.76297377 5.80590938 6.09654625 5.58703055 5.85910945 5.23456924\n",
      " 6.028407   5.69062422 6.04497828 5.79938919 5.39479409 6.09887818\n",
      " 6.18157315 5.78806554 5.50185889 6.08609532 5.98614633 6.05307077\n",
      " 5.77485226 5.39312074 5.47234883 5.83942344 5.64819296 6.49771887\n",
      " 5.69416748 5.39663698 5.27607673 6.19486074 5.91133365 5.64190801\n",
      " 6.17828229 5.59646236 5.81875049 5.69498972 5.34164888 6.05874191\n",
      " 5.85186279 6.10325707 5.38046621 5.85092179 6.53468502 5.95356355\n",
      " 6.00064929 5.82734851 5.47395989 5.5431775  5.52338314 5.98563498\n",
      " 5.94368165 5.91446339 5.83234164 5.93711908 5.97242571 5.56582729\n",
      " 5.95451313 5.7980508  5.32783673 5.45916453 5.92223209 5.33282556\n",
      " 5.44928832 5.70119782 6.08386075 6.01755069 6.14181388 5.86550868\n",
      " 6.01888728 5.77830799 5.45641737 5.97984507 6.05771825 5.37545342\n",
      " 5.40834755 6.39592364 5.99223587 5.48692082 5.87425474 5.78865516\n",
      " 6.14129155 5.91054492 5.77342428 5.55165846 5.64185105 5.27869489\n",
      " 5.38069905 5.54221576 5.70963607 5.70700875 5.79574794 5.79413444\n",
      " 5.94243997 5.83968468 5.37523299 5.30868064 5.87393992 5.36397879\n",
      " 5.79723064 5.81398631 5.89641956 6.11722324 5.68928538 5.90287933\n",
      " 6.1536847  5.53998502 5.8218511  5.98399579 5.77654484 5.89105674\n",
      " 4.92464519 5.90444573 5.80701641 5.90807291 6.33207057 5.54313635\n",
      " 5.73074601 5.71678873 5.76028632 6.07593822 5.78644062 5.75621916\n",
      " 6.30475112 5.92010509 6.41261056 6.05360474 5.85940499 5.76221212\n",
      " 6.2039559  6.31432434 5.53080185 5.20129095 5.90138623 5.95617254\n",
      " 5.92768502 4.75267548 5.31941754 5.9737477  6.08354357 5.26956749\n",
      " 6.31934665 5.59771603 6.34971034 5.74352885 5.82506376 5.89578381\n",
      " 5.82080817 5.35398546 5.73489136 5.83278105 5.54922001 6.20888698\n",
      " 5.83740131 5.70859212 5.89682856 6.13361801 6.16424178 6.04983997\n",
      " 5.43462289 5.41993078 6.03236103 5.5131586  5.77755361 5.89535324\n",
      " 6.01114509 5.68910798 5.56392587 5.47400624 5.57111024 5.75473536\n",
      " 5.70857727 6.3497875  5.60322522 6.47136749 5.59348202 5.14981695\n",
      " 4.98622251 5.52787194 5.99738326 5.55598895 6.03257447 6.37620244\n",
      " 5.49833841 5.80347575 5.8421362  6.33283135 6.13339237 5.86900936\n",
      " 5.81668795 5.56019254 5.37466271 6.12834488 6.04202834 5.52017741\n",
      " 5.74109652 5.6540608  6.28328699 5.74864267 5.44441617 5.30840996\n",
      " 6.23927089 5.98774902 5.72566344 6.14171453 5.4335201  6.27285109\n",
      " 5.83662237 5.9756203  6.02976502 5.4008319  6.51543285 5.91553686\n",
      " 6.30996049 6.10159825 6.13484829 5.84818997 5.91949325 5.75021088\n",
      " 5.49058495 5.90458119 5.87352395 5.56145899 5.6127426  6.12832176\n",
      " 5.37494512 5.39312007 6.52965375 6.23706381 6.02043286 5.58663106\n",
      " 6.3751748  6.0266942  5.77209373 5.53965577 6.0360346  5.25276249\n",
      " 6.47698027 6.31688757 5.40434204 5.31841556 5.46513884 5.70226784\n",
      " 6.18066212 5.59021598 5.72317516 5.46526782 6.12795454 5.54603049\n",
      " 6.19733869 5.63605031 5.61131242 5.50555807 5.25664569 4.82986722\n",
      " 5.46458747 6.39202237 5.57521681 5.92724121 5.40490424 5.36361864\n",
      " 6.24695485 5.78100755 5.92417505 5.91315408 5.32081561 5.85246641\n",
      " 5.72731294 6.20665858 6.26036011 5.39089754 5.44827756 6.1228005\n",
      " 6.53737652 5.92661552 5.24001405 6.45878071 5.24665503 5.60445437\n",
      " 5.70840045 5.77681506 6.04578834 6.27632761 5.34129055 5.95103878\n",
      " 5.34600031 6.00089378 6.05771825 6.17115749 5.53960502 5.78791129\n",
      " 5.76892637 5.0743536  5.67706275 5.86084499 5.93825985 5.83232001\n",
      " 5.4691804  5.9899693  6.22513798 5.70067057 6.07028301 6.19498132\n",
      " 5.85525331 5.88379929 5.68813778 5.75160138 5.96466998 6.34663301\n",
      " 5.25798396 5.95003396 5.62009018 5.62308518 5.35811911 4.94096758\n",
      " 6.0480074  6.10505042 5.95066488 5.46171211 6.23854221 5.6491883\n",
      " 5.53353604 6.0923623  5.73064851 6.00382345 5.86024389 5.59260099\n",
      " 5.50843332 6.08020404 5.86818975 5.6308188  5.82497909 5.66784616\n",
      " 5.57187878 5.25183887 5.99454823 6.15733132 5.71462077 5.72720766\n",
      " 5.37662752 5.6486226  5.77504307 5.8958022  6.11058477 5.93391212\n",
      " 5.50505996 5.79366575 6.38708026 5.56723505 5.75397139 5.26401385\n",
      " 6.01312    6.33774614 6.67156617 6.06502111 5.75053864 6.44007181\n",
      " 5.80159275 6.10842343 6.0244993  5.81091039 5.29292397 6.26280648\n",
      " 6.02726524 6.21572234 6.26529042 6.21501401 6.54924738 5.46872679\n",
      " 5.58347912 5.48393268 6.2189781  5.88213176 5.93974139 5.91611619\n",
      " 5.73153883 6.02313592 5.49467003 5.54795153 5.82381524 6.00759324\n",
      " 6.00976592 5.8614131  5.94831515 6.14658274 5.85848175 5.13923722\n",
      " 5.66558957 6.11761207 5.32715165 6.4427789  5.92636488 6.06288\n",
      " 5.71469883 5.77432169 5.76581879 5.37286555 5.77920114 6.31332387\n",
      " 5.84325597 6.27963973 5.91444781 6.10072984 5.42116223 6.18244644\n",
      " 5.53185598 5.13391424 6.01243625 6.18049275 5.73994156 5.86457167\n",
      " 5.94618295 5.95162632 5.64673285 6.59876838 6.33092615 6.2039559\n",
      " 5.4961291  5.28719367 6.32850117 6.09414294 5.78124384 6.00240667\n",
      " 6.26941643 5.87856973 6.18237727 5.53478848 6.22435927 5.83968468\n",
      " 5.48442908 6.03683083 5.70700875 5.79894593 6.37760739 5.83015242\n",
      " 5.45868157 5.94870545 5.61872666 5.75529922 5.35932171 5.86773221\n",
      " 5.64460327 5.28159242 5.59179089 5.06059616 5.92627336 5.28401096\n",
      " 5.60417228 6.3329307  6.00259545 5.83296891 6.13271837 5.7981713\n",
      " 6.34224025 5.7801521  5.85962239 5.92628648 6.12876599 5.66924233\n",
      " 5.4579578  5.97984507 6.12399943 5.91348149 6.54529382 6.32170541\n",
      " 6.50525727 5.76300755 5.90453574 5.3703083  5.92210567 5.9446061\n",
      " 5.55609408 5.50222686 5.62726499 5.56447458 5.71361386 6.01970143\n",
      " 6.02149259 6.22909707 5.98823498 5.96286076 6.32494506 5.87661938\n",
      " 5.53723307 6.22265815 5.96917184 5.68935727 5.46205513 6.03666938\n",
      " 5.8042359  6.22516621 5.25215359 5.88721476 6.16622291 5.48105652\n",
      " 5.58347912 5.71943526 5.53346405 6.00729031 6.4463866  5.98872161\n",
      " 5.37657647 5.83072317 6.1338077  5.74997958 6.19269327 5.62893299\n",
      " 5.22308732 5.90458119]\n"
     ]
    }
   ],
   "source": [
    "from sklearn.svm import SVR\n",
    "svr2= SVR(kernel='linear')\n",
    "svr2.fit(pca_X_train,Y_train)\n",
    "svr2_pred=svr2.predict(pca_X_test)\n",
    "print (svr2_pred)"
   ]
  },
  {
   "cell_type": "code",
   "execution_count": null,
   "metadata": {},
   "outputs": [],
   "source": []
  },
  {
   "cell_type": "code",
   "execution_count": 48,
   "metadata": {},
   "outputs": [
    {
     "name": "stdout",
     "output_type": "stream",
     "text": [
      "Mean Absolute Error: 0.6389318896000501\n",
      "Mean Squared Error: 0.678012476944189\n",
      "Root Mean Squared Error: 0.8234151303833255\n",
      "R-Square:  0.1362967120421278\n",
      "Intercept:  [5.84251968]\n"
     ]
    }
   ],
   "source": [
    "print('Mean Absolute Error:', mean_absolute_error(Y_test, svr2_pred))\n",
    "print('Mean Squared Error:', mean_squared_error(Y_test, svr2_pred))\n",
    "print('Root Mean Squared Error:', np.sqrt(mean_squared_error(Y_test, svr2_pred)))\n",
    "print('R-Square: ',r2_score(Y_test, svr2_pred))\n",
    "print('Intercept: ',svr2.intercept_ )\n",
    "#print('Coefficients: ',svr1.coef_ )"
   ]
  },
  {
   "cell_type": "markdown",
   "metadata": {},
   "source": [
    "# DTR"
   ]
  },
  {
   "cell_type": "code",
   "execution_count": 49,
   "metadata": {},
   "outputs": [],
   "source": [
    "from sklearn.tree import DecisionTreeRegressor\n",
    "dtr1= DecisionTreeRegressor()\n",
    "dtr1.fit(X_train,Y_train)\n",
    "dtr1_pred=dtr1.predict(X_test)"
   ]
  },
  {
   "cell_type": "code",
   "execution_count": 50,
   "metadata": {},
   "outputs": [
    {
     "name": "stdout",
     "output_type": "stream",
     "text": [
      "Mean Absolute Error: 0.47244897959183674\n",
      "Mean Squared Error: 0.6357142857142857\n",
      "Root Mean Squared Error: 0.7973169292786186\n",
      "R-Square:  0.1901793293718167\n"
     ]
    }
   ],
   "source": [
    "print('Mean Absolute Error:', mean_absolute_error(Y_test, dtr1_pred))\n",
    "print('Mean Squared Error:', mean_squared_error(Y_test, dtr1_pred))\n",
    "print('Root Mean Squared Error:', np.sqrt(mean_squared_error(Y_test, dtr1_pred)))\n",
    "print('R-Square: ',r2_score(Y_test, dtr1_pred))\n",
    "#('Intercept: ',dtr1.intercept_ )"
   ]
  },
  {
   "cell_type": "code",
   "execution_count": 51,
   "metadata": {},
   "outputs": [
    {
     "data": {
      "text/plain": [
       "(array([3., 4., 5., 6., 7., 8.]),\n",
       " array([  1,  40, 291, 434, 179,  35], dtype=int64))"
      ]
     },
     "execution_count": 51,
     "metadata": {},
     "output_type": "execute_result"
    }
   ],
   "source": [
    "np.unique(dtr1_pred,return_counts=True)"
   ]
  },
  {
   "cell_type": "markdown",
   "metadata": {},
   "source": [
    "# RF"
   ]
  },
  {
   "cell_type": "code",
   "execution_count": null,
   "metadata": {},
   "outputs": [],
   "source": []
  },
  {
   "cell_type": "code",
   "execution_count": null,
   "metadata": {},
   "outputs": [],
   "source": []
  },
  {
   "cell_type": "markdown",
   "metadata": {},
   "source": [
    "# CLASSIFICATION"
   ]
  },
  {
   "cell_type": "markdown",
   "metadata": {},
   "source": [
    "# LOGISTIC REGRESSION\n"
   ]
  },
  {
   "cell_type": "code",
   "execution_count": 52,
   "metadata": {},
   "outputs": [
    {
     "name": "stdout",
     "output_type": "stream",
     "text": [
      "[6 6 5 6 5 6 5 5 6 6 6 6 6 5 6 5 6 6 7 5 6 6 6 6 6 6 5 6 7 6 5 6 6 6 5 6 5\n",
      " 7 6 6 6 6 6 6 6 6 5 6 7 7 6 6 6 6 6 6 7 5 7 5 6 6 6 6 6 5 6 6 7 6 6 6 6 5\n",
      " 6 6 6 6 6 5 5 6 6 6 5 6 6 6 6 6 6 6 6 5 6 6 6 6 6 5 6 5 6 6 6 6 6 5 5 5 6\n",
      " 7 6 6 6 5 6 6 5 6 6 5 6 6 5 5 6 6 6 6 5 6 6 6 6 6 7 6 7 6 6 5 5 6 6 6 6 6\n",
      " 6 5 7 6 6 7 5 6 6 5 6 6 5 5 6 7 6 5 5 5 5 7 5 5 5 6 5 6 6 6 6 6 6 6 6 6 5\n",
      " 5 6 5 7 5 6 5 6 6 6 6 6 6 5 6 6 6 6 6 5 6 6 6 6 6 6 6 6 6 5 5 7 6 5 5 6 6\n",
      " 6 5 5 6 6 6 6 5 6 6 6 6 6 5 6 6 6 5 7 6 6 7 6 5 7 5 7 6 6 6 6 5 6 5 6 7 6\n",
      " 6 6 6 6 5 6 5 6 6 6 6 6 5 5 6 6 5 6 7 6 6 5 6 5 5 5 5 6 6 5 6 7 6 7 6 6 5\n",
      " 7 6 6 6 6 6 6 6 6 5 6 6 5 6 6 6 6 7 6 6 5 5 6 5 6 5 6 6 7 6 6 6 6 6 6 6 6\n",
      " 6 6 6 6 5 6 5 6 6 6 6 5 6 6 5 6 6 6 6 6 6 6 6 5 6 6 6 6 7 6 6 6 5 6 6 6 5\n",
      " 5 5 5 6 6 6 6 6 6 6 6 5 6 6 5 5 6 6 5 6 6 5 5 5 6 6 6 5 6 5 6 6 6 5 5 6 6\n",
      " 6 5 6 6 6 7 6 5 5 6 6 6 5 6 6 5 5 5 6 5 6 6 6 6 6 5 6 6 6 6 6 7 6 6 6 6 6\n",
      " 6 6 6 6 6 5 6 7 6 7 6 6 6 6 6 5 5 6 5 5 6 6 5 6 6 5 6 6 6 6 6 6 6 6 6 5 6\n",
      " 5 6 6 6 6 6 5 5 6 6 6 6 5 6 6 6 7 5 6 5 6 5 6 6 5 5 6 5 6 6 6 5 6 6 6 6 5\n",
      " 5 5 5 6 6 6 6 6 6 5 6 6 5 5 6 5 6 6 6 6 6 6 6 6 6 6 6 5 6 7 6 6 6 5 6 6 5\n",
      " 5 5 5 5 6 6 5 6 6 6 6 5 5 6 6 5 6 5 6 6 6 6 5 5 6 5 6 5 5 6 6 6 6 6 5 6 6\n",
      " 6 6 6 6 6 6 6 6 6 7 5 5 6 5 6 5 5 6 6 5 7 6 6 6 5 6 6 5 6 5 6 6 6 6 6 6 6\n",
      " 6 6 5 6 5 6 5 6 6 6 6 6 6 6 7 5 6 6 5 5 6 6 5 6 7 5 6 6 6 6 6 5 5 5 5 6 6\n",
      " 6 5 6 5 6 6 7 6 6 6 5 6 6 5 6 5 6 6 6 6 6 6 6 6 5 6 6 6 6 6 5 6 7 7 6 5 6\n",
      " 6 5 6 6 5 6 7 6 5 5 5 6 6 5 5 6 6 6 5 6 5 5 5 5 6 5 6 6 5 6 5 6 6 6 6 6 6\n",
      " 7 5 5 6 7 6 6 6 6 6 5 5 6 6 5 7 5 6 6 6 6 6 6 6 5 5 6 6 5 6 6 5 6 6 6 6 6\n",
      " 6 6 7 6 6 6 5 6 5 6 6 6 5 6 6 5 6 5 6 6 6 6 6 6 5 5 5 5 5 6 6 5 6 6 5 6 6\n",
      " 6 7 5 6 6 6 6 6 5 7 6 6 6 7 5 6 6 6 5 6 6 6 6 6 6 6 6 5 6 5 6 6 6 6 5 5 6\n",
      " 7 6 6 6 6 6 5 6 6 5 7 6 6 6 6 6 6 5 6 6 6 6 6 6 6 5 5 5 7 5 6 6 6 5 7 7 6\n",
      " 6 5 7 6 5 6 7 5 6 5 6 6 6 6 5 6 6 5 5 6 5 6 5 7 6 5 6 5 6 5 6 7 6 6 6 6 7\n",
      " 6 6 6 6 6 5 6 5 6 7 7 6 6 6 5 6 6 5 5 5 6 5 6 6 6 6 6 7 6 5 7 6 6 6 6 6 7\n",
      " 6 6 6 6 6 6 5 6 7 6 6 6 7 6 6 6 6 6]\n"
     ]
    },
    {
     "name": "stderr",
     "output_type": "stream",
     "text": [
      "D:\\Anaconda3\\lib\\site-packages\\sklearn\\linear_model\\logistic.py:758: ConvergenceWarning: lbfgs failed to converge. Increase the number of iterations.\n",
      "  \"of iterations.\", ConvergenceWarning)\n"
     ]
    }
   ],
   "source": [
    "from sklearn.linear_model import LogisticRegression\n",
    "logr1=LogisticRegression(solver='lbfgs', multi_class='multinomial')\n",
    "logr1.fit(X_train,Y_train)\n",
    "logr1_pred=logr1.predict(X_test)\n",
    "print(logr1_pred)"
   ]
  },
  {
   "cell_type": "code",
   "execution_count": 53,
   "metadata": {},
   "outputs": [
    {
     "data": {
      "text/plain": [
       "(array([5, 6, 7], dtype=int64), array([262, 651,  67], dtype=int64))"
      ]
     },
     "execution_count": 53,
     "metadata": {},
     "output_type": "execute_result"
    }
   ],
   "source": [
    "np.unique(logr1_pred,return_counts=True)"
   ]
  },
  {
   "cell_type": "code",
   "execution_count": 54,
   "metadata": {},
   "outputs": [
    {
     "name": "stderr",
     "output_type": "stream",
     "text": [
      "D:\\Anaconda3\\lib\\site-packages\\sklearn\\linear_model\\logistic.py:433: FutureWarning: Default solver will be changed to 'lbfgs' in 0.22. Specify a solver to silence this warning.\n",
      "  FutureWarning)\n",
      "D:\\Anaconda3\\lib\\site-packages\\sklearn\\linear_model\\logistic.py:460: FutureWarning: Default multi_class will be changed to 'auto' in 0.22. Specify the multi_class option to silence this warning.\n",
      "  \"this warning.\", FutureWarning)\n"
     ]
    },
    {
     "name": "stdout",
     "output_type": "stream",
     "text": [
      "[6 6 5 6 5 5 5 5 6 5 6 5 6 5 6 6 6 6 7 5 6 6 6 6 5 6 5 6 7 6 6 6 6 6 6 5 5\n",
      " 6 6 6 6 6 5 6 6 6 5 6 7 7 6 6 6 6 6 6 6 5 6 5 6 6 6 5 6 5 6 6 6 6 6 6 5 6\n",
      " 6 6 5 6 6 6 5 5 6 6 5 6 6 6 6 6 6 7 6 5 6 6 6 6 6 5 6 5 6 6 6 6 6 5 5 5 6\n",
      " 7 6 6 6 5 6 6 5 6 6 5 6 6 6 5 6 5 6 5 5 6 6 6 6 6 6 6 7 6 6 5 5 6 6 6 6 6\n",
      " 6 6 7 6 6 6 5 6 6 5 6 6 5 6 6 7 5 5 5 6 5 6 5 5 5 6 5 6 6 6 6 6 5 6 6 5 6\n",
      " 5 6 5 7 5 6 5 6 6 6 6 5 6 5 6 6 6 6 6 5 6 6 6 6 6 6 6 6 6 5 5 6 6 5 5 6 6\n",
      " 6 5 5 6 6 6 6 5 6 6 5 6 5 5 6 6 6 6 6 6 6 6 6 5 7 5 6 6 6 6 6 5 6 6 5 7 6\n",
      " 6 6 6 5 5 6 6 6 6 6 5 5 5 5 6 6 5 6 6 6 6 5 6 6 6 5 6 6 5 5 6 7 6 7 6 6 6\n",
      " 6 6 5 5 6 5 6 6 6 5 6 6 5 6 5 6 5 7 6 6 5 5 6 5 6 5 6 6 6 6 6 6 6 6 6 5 6\n",
      " 6 5 6 6 5 5 6 5 6 6 6 5 6 6 5 6 6 6 6 6 6 6 6 5 6 6 5 6 6 5 6 6 5 6 6 6 5\n",
      " 5 5 5 6 6 6 5 6 6 6 6 5 6 6 5 5 5 5 6 6 6 6 6 5 6 6 6 5 6 5 6 5 6 5 5 6 6\n",
      " 6 5 6 7 6 6 6 5 6 6 6 6 6 6 6 6 5 6 6 6 6 6 5 6 6 6 6 6 6 6 6 7 6 6 6 6 6\n",
      " 6 6 6 6 6 6 6 7 5 6 6 6 6 6 6 5 6 6 5 5 6 6 6 6 6 6 6 6 6 6 5 6 6 6 5 5 6\n",
      " 5 7 6 6 6 6 5 5 6 6 6 6 5 5 6 6 6 5 6 6 6 6 6 6 5 6 6 5 6 5 6 5 6 6 5 6 6\n",
      " 5 5 6 6 6 6 6 6 6 6 6 6 5 5 6 5 5 5 6 6 6 5 6 6 6 6 6 6 5 6 6 6 6 6 6 6 6\n",
      " 6 6 5 5 5 5 6 6 6 6 6 5 5 6 6 6 6 6 6 6 6 6 5 6 6 5 6 5 5 6 6 6 5 6 6 6 6\n",
      " 6 6 6 6 6 6 6 6 6 6 6 5 6 5 6 5 5 6 6 5 6 5 6 5 6 5 6 5 6 5 6 6 5 6 6 6 6\n",
      " 6 6 5 6 5 6 6 6 6 6 6 6 6 6 6 5 6 6 5 5 6 6 5 6 7 5 5 6 6 6 6 5 5 5 5 6 6\n",
      " 6 5 6 5 6 6 6 6 6 6 6 6 6 5 6 5 6 6 6 6 6 6 6 6 5 6 6 6 6 6 6 6 7 6 6 6 6\n",
      " 6 5 5 6 5 6 6 6 5 5 5 6 6 6 5 6 6 6 5 6 5 5 5 5 6 5 6 6 5 6 5 6 6 5 6 6 6\n",
      " 7 6 5 6 7 6 6 6 5 6 5 5 6 6 5 6 5 6 6 6 6 5 6 5 6 6 6 6 6 6 6 5 6 6 5 6 6\n",
      " 6 6 6 6 6 6 5 6 5 6 6 6 6 6 5 5 6 5 6 6 5 6 6 6 5 6 5 5 5 6 6 5 6 5 5 6 6\n",
      " 6 6 5 5 6 5 6 6 6 6 6 6 6 7 5 6 6 5 6 6 6 6 6 6 6 6 6 5 6 6 6 6 6 6 6 6 5\n",
      " 6 6 6 6 6 6 5 6 6 5 7 6 6 5 6 6 5 5 6 6 6 6 6 6 6 5 5 5 6 5 6 5 6 5 7 7 6\n",
      " 5 5 6 6 6 6 6 5 6 5 6 6 6 6 6 6 6 5 6 6 6 6 5 7 6 5 6 5 6 6 5 6 6 6 6 6 6\n",
      " 6 6 6 6 6 5 6 6 6 6 7 6 5 6 5 6 6 5 5 5 6 5 6 6 6 6 6 6 5 5 6 6 6 6 6 5 6\n",
      " 5 6 6 6 6 6 5 6 6 6 5 6 6 6 6 6 5 6]\n"
     ]
    }
   ],
   "source": [
    "from sklearn.linear_model import LogisticRegression\n",
    "logr2=LogisticRegression()\n",
    "logr2.fit(X_train,Y_train)\n",
    "logr2_pred=logr2.predict(X_test)\n",
    "print(logr2_pred)"
   ]
  },
  {
   "cell_type": "code",
   "execution_count": 55,
   "metadata": {},
   "outputs": [
    {
     "data": {
      "text/plain": [
       "(array([5, 6, 7], dtype=int64), array([272, 679,  29], dtype=int64))"
      ]
     },
     "execution_count": 55,
     "metadata": {},
     "output_type": "execute_result"
    }
   ],
   "source": [
    "np.unique(logr2_pred,return_counts=True)"
   ]
  },
  {
   "cell_type": "code",
   "execution_count": 56,
   "metadata": {},
   "outputs": [
    {
     "data": {
      "text/plain": [
       "array([1.41601769e-02, 3.59202545e-02, 6.70178620e-02, 4.35874410e-02,\n",
       "       3.60873147e-02, 1.02727412e-01, 1.12624483e-02, 1.44519444e-01,\n",
       "       1.75648796e-03, 2.50638736e-02, 2.06754821e-02, 3.13464642e-02,\n",
       "       2.83353993e-03, 1.73113372e-01, 1.80088101e-02, 2.05948739e-02,\n",
       "       3.41846048e-03, 2.14845505e-02, 3.93687718e-03, 9.08687308e-02,\n",
       "       3.53491725e-02, 3.60851519e-03, 9.13559805e-03, 1.29635198e-02,\n",
       "       8.92916368e-02, 1.14158004e-02, 1.57719521e-02, 5.10491490e-02,\n",
       "       2.50203849e-02, 5.78165267e-02, 7.77626592e-03, 7.83270532e-03,\n",
       "       4.22831428e-02, 1.94892991e-02, 1.11816748e-02, 1.11242053e-01,\n",
       "       2.95801127e-02, 5.20852011e-03, 3.12466066e-02, 2.93611697e-02,\n",
       "       2.53742879e-02, 1.43799441e-02, 1.15795477e-02, 6.75091448e-03,\n",
       "       3.48956448e-03, 3.94268571e-03, 3.48763433e-01, 1.55656877e-03,\n",
       "       5.77558913e-03, 3.38282226e-02, 1.30987268e-02, 2.75792301e-02,\n",
       "       1.90426210e-02, 5.42994655e-03, 3.31516936e-03, 8.53899868e-03,\n",
       "       4.57840171e-04, 1.49452665e-01, 1.04286396e-02, 4.07780853e-02,\n",
       "       1.58240143e-03, 1.66196364e-02, 6.36051025e-03, 5.12961356e-02,\n",
       "       1.50920730e-03, 1.43609981e-02, 3.85829303e-03, 2.78988157e-02,\n",
       "       7.34399066e-03, 2.71292058e-02, 5.66335850e-03, 5.95551293e-02,\n",
       "       3.38015548e-02, 3.62986989e-02, 4.71397998e-02, 3.34584279e-02,\n",
       "       2.66990144e-02, 5.30502334e-02, 5.25751421e-03, 1.16966830e-02,\n",
       "       2.03235189e-02, 2.81914199e-02, 1.97932693e-02, 2.41773330e-02,\n",
       "       4.57786963e-02, 1.56636891e-02, 3.62866014e-02, 2.96332609e-02,\n",
       "       1.44738962e-02, 4.02285903e-03, 1.65448183e-02, 8.13469218e-03,\n",
       "       1.19402683e-02, 9.80249435e-02, 5.71663812e-02, 8.53411748e-02,\n",
       "       1.58843598e-02, 1.76203622e-02, 1.22338519e-02, 7.66910170e-02,\n",
       "       2.57154633e-02, 7.79917376e-03, 1.93659896e-02, 5.19626687e-02,\n",
       "       9.80691915e-03, 2.01348744e-02, 9.37630852e-02, 1.04860280e-02,\n",
       "       1.05508095e-02, 7.61892191e-03, 3.82374399e-02, 9.06494370e-03,\n",
       "       7.20193098e-02, 8.45453041e-03, 1.75346252e-02, 7.18445681e-02,\n",
       "       6.33566299e-03, 7.68214856e-03, 2.53474876e-02, 3.79788220e-02,\n",
       "       7.46889137e-03, 5.79018234e-02, 3.82820652e-02, 1.19870843e-02,\n",
       "       1.49236259e-02, 5.29667506e-02, 3.52923481e-02, 4.98551056e-03,\n",
       "       1.66875812e-02, 4.94203482e-02, 3.55894275e-01, 1.10606830e-02,\n",
       "       1.53343231e-02, 6.20299802e-03, 2.51631411e-02, 1.11345501e-02,\n",
       "       7.41287441e-03, 9.94227371e-03, 1.04429275e-02, 1.89225244e-02,\n",
       "       3.95414662e-03, 2.56950199e-02, 2.00798103e-02, 4.79271878e-02,\n",
       "       3.72319408e-02, 1.38560206e-02, 3.22160713e-02, 8.95215858e-03,\n",
       "       1.05329742e-02, 1.08958890e-02, 1.85989833e-03, 9.97420126e-03,\n",
       "       1.61276845e-02, 1.29375297e-02, 2.60278900e-02, 1.00706746e-02,\n",
       "       1.13087629e-02, 6.92416567e-02, 1.23540827e-02, 3.22340815e-03,\n",
       "       1.23438955e-02, 7.17094830e-03, 7.54811484e-03, 6.54593029e-03,\n",
       "       1.24015396e-01, 2.65839867e-02, 1.04941985e-02, 3.13111892e-03,\n",
       "       4.06505734e-02, 7.97691414e-03, 2.65400073e-02, 7.56309153e-02,\n",
       "       3.10633957e-02, 1.10606830e-02, 1.60525849e-02, 3.07631487e-03,\n",
       "       3.00206161e-03, 1.65535283e-02, 5.55346725e-03, 5.38415437e-02,\n",
       "       1.45659111e-01, 1.37393591e-02, 3.85877043e-02, 1.11015344e-01,\n",
       "       4.91603701e-02, 1.80421261e-02, 8.63465516e-03, 1.82822708e-01,\n",
       "       7.82844469e-03, 1.61326727e-02, 3.90612045e-03, 1.61471632e-02,\n",
       "       2.40956353e-03, 1.14972592e-02, 5.84727553e-02, 5.02195837e-02,\n",
       "       1.78051628e-02, 2.26822986e-02, 1.69363005e-02, 1.03529209e-02,\n",
       "       4.81612642e-03, 6.78635121e-03, 6.53465129e-02, 5.97519978e-02,\n",
       "       4.88448748e-02, 5.76633029e-03, 9.65769401e-03, 1.85011334e-02,\n",
       "       1.84872184e-02, 2.01809060e-02, 2.81051446e-02, 2.76487069e-02,\n",
       "       7.60168565e-03, 2.54609654e-02, 4.67939969e-03, 1.49178685e-02,\n",
       "       1.05621976e-02, 1.42515895e-03, 1.69880245e-01, 1.66597246e-01,\n",
       "       1.56699104e-02, 7.64432548e-02, 1.83764834e-02, 1.13924668e-01,\n",
       "       6.98714422e-02, 4.09546909e-02, 3.18262925e-02, 7.04751626e-03,\n",
       "       9.01468261e-02, 1.14962402e-02, 3.47977919e-03, 5.10593509e-02,\n",
       "       1.03350081e-02, 9.54811774e-02, 6.92129287e-03, 6.22113733e-02,\n",
       "       6.31375542e-03, 6.54021391e-02, 2.52090043e-02, 1.21331109e-02,\n",
       "       3.27938439e-03, 7.03626894e-02, 2.48166188e-02, 9.18661600e-03,\n",
       "       8.68011848e-03, 6.48380325e-02, 4.78495403e-04, 7.44708453e-03,\n",
       "       2.39910890e-02, 2.63351577e-02, 1.69495175e-02, 5.41520961e-03,\n",
       "       7.00182409e-02, 2.70443304e-02, 4.50781709e-02, 4.77053637e-02,\n",
       "       4.58366110e-02, 2.33484098e-02, 3.65074395e-02, 2.06753554e-02,\n",
       "       2.91604105e-02, 2.23044347e-02, 4.30078061e-02, 9.48481756e-02,\n",
       "       5.86919924e-03, 7.38677262e-03, 2.29731247e-02, 1.87282693e-02,\n",
       "       1.06523994e-02, 2.00962729e-02, 1.23172054e-02, 1.55725781e-01,\n",
       "       9.83265082e-03, 1.67512136e-02, 3.77451555e-03, 3.47451646e-02,\n",
       "       1.32585964e-02, 2.59002874e-03, 2.04272339e-02, 3.90016916e-02,\n",
       "       2.45147559e-01, 1.45286004e-02, 5.91451972e-03, 8.38597889e-03,\n",
       "       9.85136377e-03, 9.65995502e-03, 2.92332168e-02, 1.06130194e-02,\n",
       "       1.37748341e-02, 3.44814279e-02, 5.06193673e-03, 2.27188275e-03,\n",
       "       3.03506748e-03, 6.94139752e-02, 2.02816115e-02, 4.31855362e-02,\n",
       "       2.27209238e-03, 1.21625713e-02, 6.26946752e-02, 4.98772493e-03,\n",
       "       3.69836331e-02, 3.13284402e-02, 4.09642918e-02, 1.27495889e-02,\n",
       "       4.52687828e-03, 8.50309520e-02, 2.70980196e-02, 4.09958682e-03,\n",
       "       2.40557640e-02, 2.57546420e-02, 5.12961356e-02, 5.48830624e-02,\n",
       "       3.46513517e-02, 1.47804735e-02, 4.66577492e-03, 6.56815007e-03,\n",
       "       6.44918352e-02, 2.93396620e-02, 1.41487380e-02, 5.54372706e-02,\n",
       "       8.92103741e-03, 1.32797073e-01, 1.49399937e-02, 2.09421447e-02,\n",
       "       5.55943240e-03, 1.37388685e-02, 8.41573047e-02, 4.37606159e-02,\n",
       "       1.75163306e-02, 2.47115300e-02, 2.29115818e-02, 1.54082484e-02,\n",
       "       1.46493186e-02, 1.93972348e-02, 2.50638736e-02, 1.34479370e-02,\n",
       "       3.85700613e-03, 1.80002388e-02, 2.77053821e-02, 3.30787973e-02,\n",
       "       3.12056555e-02, 7.80872526e-03, 2.07331176e-02, 5.28901694e-03,\n",
       "       1.17174557e-02, 3.81333581e-02, 2.36335813e-02, 1.17003803e-01,\n",
       "       1.67771515e-02, 1.44401742e-02, 1.20482799e-02, 8.04069359e-03,\n",
       "       1.75885251e-02, 3.86162052e-02, 1.81604490e-02, 2.39469767e-02,\n",
       "       1.71102622e-01, 1.10646011e-02, 3.80184167e-04, 3.04350246e-02,\n",
       "       2.60076980e-02, 4.53699616e-02, 7.75634925e-03, 5.46167073e-02,\n",
       "       1.27094725e-02, 1.36809295e-02, 1.32938818e-02, 2.96829757e-02,\n",
       "       2.09421447e-02, 2.65614882e-02, 1.30998787e-02, 4.40059659e-02,\n",
       "       9.26805392e-03, 1.88542520e-02, 5.36859420e-02, 1.45480682e-02,\n",
       "       1.05022091e-01, 1.86297882e-02, 2.36001837e-02, 1.14972592e-02,\n",
       "       4.98534760e-02, 1.82191157e-01, 5.21883193e-03, 4.28372974e-03,\n",
       "       1.54630676e-01, 2.94610754e-02, 6.46616533e-02, 9.92700160e-03,\n",
       "       3.40799957e-02, 4.31812143e-02, 3.92975385e-02, 6.05203332e-02,\n",
       "       1.29026480e-02, 2.11665676e-02, 3.61036636e-02, 2.81096876e-02,\n",
       "       2.32715531e-02, 1.37934949e-01, 2.41251976e-02, 1.56479297e-02,\n",
       "       3.43373506e-03, 3.13432669e-02, 1.29354585e-02, 6.86146617e-02,\n",
       "       6.51070168e-02, 1.16573459e-02, 1.90019350e-02, 3.92676328e-02,\n",
       "       1.04391986e-02, 3.57231091e-02, 1.19493658e-02, 1.86297882e-02,\n",
       "       1.84127800e-02, 6.63523410e-03, 3.71023326e-02, 1.75030461e-02,\n",
       "       1.99650939e-02, 3.30452385e-02, 1.28689090e-02, 1.11274082e-02,\n",
       "       1.76574503e-03, 5.93010468e-03, 1.48632109e-02, 1.37996397e-02,\n",
       "       5.88989387e-02, 1.29779867e-02, 1.14146978e-04, 1.98475803e-02,\n",
       "       1.07483504e-02, 5.92752596e-03, 1.56736017e-02, 1.36119821e-03,\n",
       "       2.83415860e-02, 4.19390386e-02, 1.33043008e-02, 2.09221436e-02,\n",
       "       2.28069080e-02, 8.48258561e-03, 4.10411970e-03, 2.50951827e-02,\n",
       "       4.80245454e-02, 1.41420953e-02, 6.98202690e-03, 8.34861681e-02,\n",
       "       7.68266529e-03, 2.33722605e-02, 3.65074395e-02, 3.42490229e-02,\n",
       "       3.68124770e-02, 5.83595172e-02, 1.31084133e-02, 7.21708782e-03,\n",
       "       5.63356995e-02, 3.90249855e-03, 1.57192530e-02, 5.25263151e-03,\n",
       "       8.11843769e-03, 8.79597282e-02, 2.07708276e-02, 4.54437137e-02,\n",
       "       1.87350419e-02, 7.88873161e-03, 1.32596526e-02, 2.92270252e-02,\n",
       "       4.08366083e-03, 1.37626607e-02, 2.17907116e-02, 5.99634428e-03,\n",
       "       1.39132566e-02, 8.38597889e-03, 2.57391228e-02, 4.77334648e-03,\n",
       "       2.79954387e-03, 2.59264299e-02, 8.24688278e-02, 9.65360265e-02,\n",
       "       3.49335529e-02, 3.37019822e-03, 5.33028157e-03, 1.22399894e-02,\n",
       "       6.00737677e-02, 5.29667506e-02, 3.34178438e-02, 1.02998818e-02,\n",
       "       2.76669217e-02, 1.75983664e-02, 1.17802078e-02, 4.84593324e-02,\n",
       "       3.65307964e-02, 1.64270153e-02, 3.68986466e-02, 4.15114263e-03,\n",
       "       1.55495430e-03, 3.76056551e-02, 1.30513069e-01, 1.62790851e-02,\n",
       "       9.68157207e-03, 2.27007893e-03, 8.38392453e-02, 8.72668433e-03,\n",
       "       3.88550536e-02, 1.04343577e-02, 3.72147552e-02, 2.03979729e-02,\n",
       "       1.02202048e-02, 7.91503838e-02, 2.45007123e-02, 8.86204218e-03,\n",
       "       1.32235651e-01, 2.33781182e-02, 6.28609404e-02, 3.00897692e-02,\n",
       "       1.93010471e-02, 8.10497595e-03, 3.53528130e-03, 4.75789204e-02,\n",
       "       2.29232159e-02, 8.39800801e-03, 8.16685899e-03, 5.27639249e-03,\n",
       "       9.16857676e-03, 9.31810623e-03, 5.57534640e-03, 4.78088484e-02,\n",
       "       1.43030641e-02, 1.10566119e-02, 2.25202098e-03, 1.23051885e-01,\n",
       "       1.80706563e-02, 1.60820339e-02, 1.48607305e-01, 6.98290163e-03,\n",
       "       5.81901214e-03, 1.39812455e-01, 3.46513517e-02, 3.68861443e-02,\n",
       "       4.59944149e-02, 2.68478845e-02, 8.38947064e-03, 6.24569149e-02,\n",
       "       2.78848158e-02, 4.68065231e-03, 4.01153243e-02, 7.36824667e-03,\n",
       "       1.82889012e-02, 5.65439030e-02, 2.19841418e-01, 4.08946215e-03,\n",
       "       7.55342294e-03, 1.98567820e-02, 1.39232339e-02, 2.84378802e-02,\n",
       "       2.64039510e-02, 4.50739526e-02, 2.56497869e-02, 1.87350419e-02,\n",
       "       7.38677262e-03, 2.21499798e-02, 1.90440861e-02, 1.18666734e-01,\n",
       "       1.40947276e-02, 6.88545201e-03, 2.09056499e-02, 1.40830561e-03,\n",
       "       3.22160713e-02, 1.39516925e-02, 1.00529303e-02, 3.91526804e-02,\n",
       "       2.40199002e-02, 1.66106308e-02, 5.11182995e-02, 1.68778327e-02,\n",
       "       1.80268375e-02, 1.32887021e-02, 1.96905891e-02, 5.08474304e-03,\n",
       "       6.42510717e-03, 6.78479367e-03, 2.98696984e-02, 2.34441532e-02,\n",
       "       1.10471709e-02, 3.39526809e-03, 3.18023706e-01, 3.85815306e-02,\n",
       "       1.73894923e-02, 3.77451555e-03, 7.95596900e-03, 2.30429962e-02,\n",
       "       6.82270550e-02, 1.55036993e-02, 1.14217429e-01, 2.00074923e-02,\n",
       "       1.30108916e-02, 2.33253065e-03, 1.83771858e-02, 1.26127683e-02,\n",
       "       1.79817252e-03, 2.73175920e-02, 1.32492924e-02, 3.62866014e-02,\n",
       "       1.97981393e-02, 3.86634614e-03, 3.16251150e-02, 7.05224376e-02,\n",
       "       1.78081307e-02, 2.14547654e-02, 2.60950135e-03, 3.23648037e-01,\n",
       "       3.69068573e-02, 2.92243159e-02, 3.22340815e-03, 1.44223053e-01,\n",
       "       7.58320086e-03, 1.24035418e-02, 1.05387108e-02, 8.13504933e-02,\n",
       "       9.48846944e-03, 3.53488245e-03, 5.06541902e-02, 6.69550613e-02,\n",
       "       1.42155557e-02, 5.57000999e-03, 8.91512524e-03, 1.24818796e-02,\n",
       "       4.97356425e-02, 4.81917134e-02, 5.91757744e-03, 9.69964222e-03,\n",
       "       1.82173378e-02, 2.96238041e-02, 1.03310619e-01, 2.25611927e-02,\n",
       "       2.18099853e-02, 1.57236725e-02, 4.85541023e-03, 5.43807665e-02,\n",
       "       1.93607969e-02, 1.49977533e-03, 1.14158004e-02, 6.40878272e-02,\n",
       "       5.31677548e-02, 1.46636046e-02, 4.66577492e-03, 6.30196791e-03,\n",
       "       8.59717908e-02, 1.75648796e-03, 9.47125534e-03, 8.44208845e-02,\n",
       "       7.74429807e-02, 1.54939032e-02, 2.55422638e-02, 6.61036692e-03,\n",
       "       2.23965774e-02, 3.78851727e-03, 9.07621478e-03, 9.64490974e-03,\n",
       "       4.46573902e-02, 1.07170610e-02, 5.46026353e-03, 4.73611089e-02,\n",
       "       1.16995367e-02, 7.01748609e-03, 2.43082824e-02, 8.13486528e-03,\n",
       "       1.15839358e-02, 1.62122744e-02, 1.42017028e-02, 1.60404408e-02,\n",
       "       8.85536117e-03, 3.82052739e-02, 6.83948659e-03, 1.38459396e-02,\n",
       "       1.20344064e-02, 1.74184637e-02, 1.70021816e-02, 6.11985685e-03,\n",
       "       1.38188120e-02, 1.29116580e-02, 2.96689994e-02, 3.17180807e-02,\n",
       "       9.08824994e-03, 7.55295180e-03, 1.29833874e-03, 6.75798382e-02,\n",
       "       7.61684260e-03, 1.07483504e-02, 1.28790815e-02, 4.29718325e-02,\n",
       "       9.95234102e-03, 4.35908272e-02, 9.76186098e-03, 1.21818608e-02,\n",
       "       7.29398692e-02, 2.96263117e-02, 3.59803890e-02, 1.99567972e-02,\n",
       "       7.80367936e-03, 4.98931999e-02, 1.42513501e-03, 9.15938388e-03,\n",
       "       1.50476421e-02, 1.28443175e-02, 1.11063422e-02, 1.75885251e-02,\n",
       "       1.12046323e-02, 7.20487885e-03, 1.00204674e-02, 1.38666004e-02,\n",
       "       6.43520119e-03, 8.23998884e-03, 2.04708065e-02, 2.00213711e-01,\n",
       "       2.65400073e-02, 8.25901561e-02, 1.25908248e-02, 1.24225521e-02,\n",
       "       4.71188787e-02, 2.26761247e-02, 7.12485067e-03, 7.64286979e-02,\n",
       "       3.56963463e-02, 3.08887950e-02, 2.04066830e-02, 1.83315933e-01,\n",
       "       2.02824972e-02, 2.39951129e-01, 1.25552646e-01, 7.30197129e-03,\n",
       "       3.63632692e-02, 1.96335130e-02, 3.21454398e-02, 1.85091562e-01,\n",
       "       7.54802090e-03, 6.59696671e-02, 1.92354754e-02, 7.03491381e-02,\n",
       "       2.05136033e-02, 8.53899868e-03, 3.35611097e-02, 1.70350805e-02,\n",
       "       6.11559428e-03, 7.29912109e-03, 1.39683638e-02, 1.96636053e-02,\n",
       "       7.98502436e-03, 6.25434829e-02, 4.37666440e-03, 8.24360240e-03,\n",
       "       8.22317664e-02, 6.33547392e-03, 9.58434262e-02, 1.60928090e-02,\n",
       "       4.44366465e-02, 3.40890860e-03, 6.12231414e-02, 2.27209238e-03,\n",
       "       4.82311931e-02, 2.24994694e-02, 1.82889012e-02, 1.62339970e-02,\n",
       "       4.64951236e-03, 1.61770447e-02, 2.11756945e-02, 6.71542903e-02,\n",
       "       1.23688004e-01, 2.26615479e-02, 3.64729798e-02, 9.33410636e-03,\n",
       "       4.59801870e-02, 4.27303755e-03, 1.13148266e-02, 1.72198264e-02,\n",
       "       3.62770253e-03, 1.89665775e-02, 7.56351025e-02, 3.23941179e-02,\n",
       "       1.34710311e-01, 4.45811951e-03, 2.37103700e-02, 2.93056612e-03,\n",
       "       1.03911455e-02, 2.54477478e-02, 2.04272339e-02, 1.80314138e-02,\n",
       "       2.57457768e-02, 6.92125458e-02, 1.08337752e-02, 3.18350719e-02,\n",
       "       3.35848306e-02, 1.21331109e-02, 1.54478926e-02, 3.94613024e-02,\n",
       "       2.48322839e-02, 3.30787836e-02, 1.31003370e-02, 5.28638088e-02,\n",
       "       2.04813795e-02, 7.26109778e-02, 9.77455009e-03, 1.70782917e-02,\n",
       "       2.40372486e-02, 6.81511319e-03, 6.66853563e-02, 1.78192032e-02,\n",
       "       9.93369153e-03, 9.22132031e-02, 2.47269439e-02, 6.54905687e-03,\n",
       "       1.47797050e-02, 1.36996178e-02, 1.42792660e-01, 3.17266510e-02,\n",
       "       3.93643477e-03, 1.07658924e-01, 2.76091667e-02, 9.42311914e-03,\n",
       "       1.25888777e-02, 1.11991327e-01, 6.24913993e-03, 1.33451194e-02,\n",
       "       4.82928076e-02, 1.11929902e-02, 1.53041613e-02, 3.20345593e-03,\n",
       "       1.50920730e-03, 3.99375860e-02, 3.33607624e-02, 2.49538959e-03,\n",
       "       1.41105117e-02, 3.25944266e-02, 1.02423627e-02, 1.18395325e-02,\n",
       "       7.84671527e-03, 1.41069607e-02, 1.42204374e-02, 3.84707131e-02,\n",
       "       3.47573986e-03, 2.08122864e-02, 2.73212910e-03, 6.73196218e-03,\n",
       "       1.00524133e-02, 1.29578306e-01, 3.22714462e-02, 2.59055912e-02,\n",
       "       1.02963626e-02, 6.16184843e-02, 5.74997703e-03, 4.78402695e-03,\n",
       "       8.38597889e-03, 2.07917499e-02, 7.32476538e-03, 2.45601629e-02,\n",
       "       1.03841326e-02, 8.23102438e-02, 1.44738962e-02, 4.08535963e-02,\n",
       "       2.02438985e-02, 2.23954522e-01, 2.88048871e-02, 8.19785219e-03,\n",
       "       2.20654574e-01, 1.08705258e-02, 3.76160685e-03, 1.97709151e-02,\n",
       "       9.53946333e-02, 1.38703959e-01, 2.44935855e-02, 2.33908823e-02,\n",
       "       3.71023326e-02, 6.74343123e-03, 4.72947429e-02, 7.54683073e-03,\n",
       "       1.22467748e-02, 1.36856140e-02, 4.20044598e-02, 1.63598122e-02,\n",
       "       1.23438955e-02, 1.37978989e-01, 2.91475486e-02, 1.19241482e-02,\n",
       "       4.10402733e-02, 3.28981036e-03, 2.67907371e-02, 1.13161120e-02,\n",
       "       8.85460240e-02, 3.34587709e-03, 8.98911003e-03, 1.97981393e-02,\n",
       "       3.12056555e-02, 1.47191546e-02, 7.19891665e-03, 8.67107797e-03,\n",
       "       8.28111524e-02, 4.43333279e-03, 6.39542126e-03, 2.61313280e-02,\n",
       "       2.13928148e-03, 1.69098324e-01, 3.75397182e-03, 1.39516925e-02,\n",
       "       7.28837197e-02, 1.14598235e-02, 6.88545201e-03, 9.79159361e-03,\n",
       "       7.88682232e-03, 2.06310240e-02, 6.90009032e-03, 4.39279324e-03,\n",
       "       8.15220750e-02, 6.96101355e-03, 1.45670482e-01, 4.00333864e-02,\n",
       "       3.45104377e-02, 9.08687308e-02, 1.40984532e-02, 2.29452648e-01,\n",
       "       3.85873760e-03, 2.05654539e-02, 1.76469047e-01, 5.85529273e-03,\n",
       "       4.12493330e-02, 5.11937402e-03, 8.17686637e-03, 2.48176572e-03,\n",
       "       1.93802422e-02, 1.80725818e-02, 6.14578031e-02, 5.52695999e-02,\n",
       "       2.44273877e-02, 9.57025734e-03, 1.03051803e-02, 7.36824667e-03,\n",
       "       3.97712913e-02, 1.54861653e-02, 3.90249855e-03, 4.02186425e-03,\n",
       "       9.29054056e-04, 1.07336760e-02, 5.82352396e-02, 1.72167818e-02,\n",
       "       1.63007791e-03, 7.03626894e-02, 1.63381033e-01, 5.18442950e-02,\n",
       "       1.31905731e-01, 1.05921445e-02, 9.24413423e-02, 9.14413238e-03,\n",
       "       2.93477373e-02, 5.73134843e-03, 1.37983137e-02, 5.83948295e-03,\n",
       "       9.93757137e-03, 7.29300840e-02, 1.07528980e-01, 1.43130082e-02,\n",
       "       9.13559805e-03, 7.71168295e-03, 1.31683884e-02, 5.43397411e-03,\n",
       "       3.19766551e-02, 7.95885949e-03, 2.23556081e-01, 4.49456825e-02,\n",
       "       6.85408363e-03, 3.74947078e-03, 1.00524133e-02, 3.41113193e-02,\n",
       "       6.03219321e-03, 3.67706249e-02, 1.12372036e-03, 6.60710202e-03,\n",
       "       1.49586682e-01, 7.57213457e-03, 2.04386086e-02, 1.97905359e-02,\n",
       "       7.61762113e-03, 1.06097372e-02, 2.36383815e-02, 1.21818608e-02])"
      ]
     },
     "execution_count": 56,
     "metadata": {},
     "output_type": "execute_result"
    }
   ],
   "source": [
    "logr2_prob=logr2.predict_proba(X_test)[:,1]\n",
    "logr2_prob"
   ]
  },
  {
   "cell_type": "code",
   "execution_count": 64,
   "metadata": {},
   "outputs": [],
   "source": [
    "from sklearn.preprocessing import LabelBinarizer\n",
    "def multiclass_roc_auc_score(y_test, y_pred, average=\"macro\"): \n",
    "    lb = LabelBinarizer() \n",
    "    lb.fit(y_test) \n",
    "    y_test = lb.transform(y_test) \n",
    "    y_pred = lb.transform(y_pred) \n",
    "    return roc_auc_score(y_test, y_pred, average=average)"
   ]
  },
  {
   "cell_type": "code",
   "execution_count": 65,
   "metadata": {},
   "outputs": [
    {
     "name": "stdout",
     "output_type": "stream",
     "text": [
      "Confusion Matrix [[  0   0   1   3   0   0   0]\n",
      " [  0   0  23   9   1   0   0]\n",
      " [  0   0 150 140   1   0   0]\n",
      " [  0   0  87 343  10   0   0]\n",
      " [  0   0  11 150  15   0   0]\n",
      " [  0   0   0  33   2   0   0]\n",
      " [  0   0   0   1   0   0   0]]\n",
      "Accuracy 0.5183673469387755\n",
      "Precision (weighted) 0.4834494542573517\n",
      "Recall 0.5183673469387755\n",
      "F1 0.4597541883259404\n",
      "AUC 0.5402523766034879\n",
      "Classification Report               precision    recall  f1-score   support\n",
      "\n",
      "           3       0.00      0.00      0.00         4\n",
      "           4       0.00      0.00      0.00        33\n",
      "           5       0.55      0.52      0.53       291\n",
      "           6       0.51      0.78      0.61       440\n",
      "           7       0.52      0.09      0.15       176\n",
      "           8       0.00      0.00      0.00        35\n",
      "           9       0.00      0.00      0.00         1\n",
      "\n",
      "   micro avg       0.52      0.52      0.52       980\n",
      "   macro avg       0.22      0.20      0.18       980\n",
      "weighted avg       0.48      0.52      0.46       980\n",
      "\n"
     ]
    },
    {
     "name": "stderr",
     "output_type": "stream",
     "text": [
      "D:\\Anaconda3\\lib\\site-packages\\sklearn\\metrics\\classification.py:1143: UndefinedMetricWarning: Precision is ill-defined and being set to 0.0 in labels with no predicted samples.\n",
      "  'precision', 'predicted', average, warn_for)\n",
      "D:\\Anaconda3\\lib\\site-packages\\sklearn\\metrics\\classification.py:1143: UndefinedMetricWarning: F-score is ill-defined and being set to 0.0 in labels with no predicted samples.\n",
      "  'precision', 'predicted', average, warn_for)\n",
      "D:\\Anaconda3\\lib\\site-packages\\sklearn\\metrics\\classification.py:1143: UndefinedMetricWarning: Precision and F-score are ill-defined and being set to 0.0 in labels with no predicted samples.\n",
      "  'precision', 'predicted', average, warn_for)\n",
      "D:\\Anaconda3\\lib\\site-packages\\sklearn\\metrics\\classification.py:1143: UndefinedMetricWarning: Precision and F-score are ill-defined and being set to 0.0 in labels with no predicted samples.\n",
      "  'precision', 'predicted', average, warn_for)\n",
      "D:\\Anaconda3\\lib\\site-packages\\sklearn\\metrics\\classification.py:1143: UndefinedMetricWarning: Precision and F-score are ill-defined and being set to 0.0 in labels with no predicted samples.\n",
      "  'precision', 'predicted', average, warn_for)\n"
     ]
    }
   ],
   "source": [
    "print( 'Confusion Matrix', confusion_matrix (Y_test,logr2_pred ) )\n",
    "print('Accuracy', accuracy_score(Y_test,logr2_pred ) )\n",
    "print('Precision (weighted)', precision_score(Y_test,logr2_pred, average='weighted')) \n",
    "print('Recall', recall_score(Y_test,logr2_pred,average='weighted' ) )\n",
    "print('F1', f1_score (Y_test,logr2_pred,average='weighted' ) )\n",
    "#print('ROC', roc_curve (Y_test,logr2_prob ))\n",
    "print('AUC', multiclass_roc_auc_score(Y_test,logr2_pred)) \n",
    "print('Classification Report', classification_report(Y_test,logr2_pred ))"
   ]
  },
  {
   "cell_type": "markdown",
   "metadata": {},
   "source": [
    "For Multi-class problems Classification report and Confusion Matrix are better metrics.\n",
    "For Imbalance datasets, Accuracy score is not a good metric."
   ]
  },
  {
   "cell_type": "markdown",
   "metadata": {},
   "source": [
    "implement svc .\n",
    "\n",
    "story and removing unimp stuff\n"
   ]
  },
  {
   "cell_type": "markdown",
   "metadata": {},
   "source": [
    "implement roc_auc, label binarizer\n"
   ]
  },
  {
   "cell_type": "markdown",
   "metadata": {},
   "source": [
    "def multiclass_roc_auc_score(y_test, y_pred, average=\"macro\"):\n",
    "lb = LabelBinarizer()\n",
    "    lb.fit(y_test)\n",
    "y_test = lb.transform(y_test)\n",
    "    y_pred = lb.transform(y_pred)\n",
    "return roc_auc_score(y_test, y_pred, average=average)"
   ]
  },
  {
   "cell_type": "markdown",
   "metadata": {},
   "source": [
    "import scikitplot as skplt\n",
    "import matplotlib.pyplot as plt\n",
    "\n",
    "y_true = # ground truth labels\n",
    "y_probas = # predicted probabilities generated by sklearn classifier\n",
    "skplt.metrics.plot_roc_curve(y_true, y_probas)\n",
    "plt.show()"
   ]
  },
  {
   "cell_type": "code",
   "execution_count": 63,
   "metadata": {},
   "outputs": [
    {
     "name": "stdout",
     "output_type": "stream",
     "text": [
      "AUC 0.5324488585281429\n"
     ]
    }
   ],
   "source": [
    "\n"
   ]
  },
  {
   "cell_type": "code",
   "execution_count": null,
   "metadata": {},
   "outputs": [],
   "source": []
  }
 ],
 "metadata": {
  "kernelspec": {
   "display_name": "Python 3",
   "language": "python",
   "name": "python3"
  },
  "language_info": {
   "codemirror_mode": {
    "name": "ipython",
    "version": 3
   },
   "file_extension": ".py",
   "mimetype": "text/x-python",
   "name": "python",
   "nbconvert_exporter": "python",
   "pygments_lexer": "ipython3",
   "version": "3.7.3"
  }
 },
 "nbformat": 4,
 "nbformat_minor": 2
}
